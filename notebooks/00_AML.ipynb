{
 "cells": [
  {
   "cell_type": "code",
   "execution_count": 4,
   "metadata": {},
   "outputs": [
    {
     "name": "stdout",
     "output_type": "stream",
     "text": [
      "Performing interactive authentication. Please follow the instructions on the terminal.\n"
     ]
    },
    {
     "name": "stderr",
     "output_type": "stream",
     "text": [
      "Note, we have launched a browser for you to login. For old experience with device code, use \"az login --use-device-code\"\n"
     ]
    },
    {
     "name": "stdout",
     "output_type": "stream",
     "text": [
      "You have logged in. Now let us find all the subscriptions to which you have access...\n",
      "Interactive authentication successfully completed.\n",
      "Connected to Workspace\n",
      "-- name: fin-ws-wus2\n",
      "-- Azure region: westus2\n",
      "-- Resource group: fin-research\n"
     ]
    }
   ],
   "source": [
    "from azureml.core.authentication import InteractiveLoginAuthentication\n",
    "interactive_auth = InteractiveLoginAuthentication(tenant_id=\"dadbf9da-3f3b-44a8-8097-f3512ff34da8\")\n",
    "from azureml.core import Workspace\n",
    "ws = Workspace.from_config(auth=interactive_auth)\n",
    "print('Connected to Workspace',\n",
    "  '-- name: ' + ws.name,\n",
    "  '-- Azure region: ' + ws.location,\n",
    "  '-- Resource group: ' + ws.resource_group,\n",
    "  sep = '\\n')\n",
    "datastore = ws.get_default_datastore()\n"
   ]
  },
  {
   "cell_type": "code",
   "execution_count": 7,
   "metadata": {},
   "outputs": [
    {
     "name": "stdout",
     "output_type": "stream",
     "text": [
      "Uploading an estimated of 2 files\n",
      "Uploading ../data/data_mp_10000_0.0005\\samples_mp_1000_0.0005_y.npy\n",
      "Uploaded ../data/data_mp_10000_0.0005\\samples_mp_1000_0.0005_y.npy, 1 files out of an estimated total of 2\n",
      "Uploading ../data/data_mp_10000_0.0005\\samples_mp_1000_0.0005_x.npy\n",
      "Uploaded ../data/data_mp_10000_0.0005\\samples_mp_1000_0.0005_x.npy, 2 files out of an estimated total of 2\n",
      "Uploaded 2 files\n"
     ]
    },
    {
     "data": {
      "text/plain": [
       "$AZUREML_DATAREFERENCE_ecad08798d1c422990e79bfa1af4fbb4"
      ]
     },
     "execution_count": 7,
     "metadata": {},
     "output_type": "execute_result"
    }
   ],
   "source": [
    "path_to_raw = '../data/data_mp_10000_0.0005/'\n",
    "datastore.upload(src_dir=path_to_raw, target_path='datasets/data_mp_1000_0.0005', overwrite=True)"
   ]
  },
  {
   "cell_type": "code",
   "execution_count": 3,
   "metadata": {},
   "outputs": [
    {
     "data": {
      "text/plain": [
       "{\n",
       "  \"name\": \"workspaceblobstore\",\n",
       "  \"container_name\": \"azureml-blobstore-54f9f858-ecca-4c35-9479-a5149a00e1e9\",\n",
       "  \"account_name\": \"finwswus21424835441\",\n",
       "  \"protocol\": \"https\",\n",
       "  \"endpoint\": \"core.windows.net\"\n",
       "}"
      ]
     },
     "execution_count": 3,
     "metadata": {},
     "output_type": "execute_result"
    }
   ],
   "source": [
    "datastore"
   ]
  },
  {
   "cell_type": "code",
   "execution_count": 5,
   "metadata": {},
   "outputs": [],
   "source": [
    "from azureml.core import Dataset\n",
    "dataset = Dataset.File.from_files((datastore, 'datasets/trades_raw'))"
   ]
  },
  {
   "cell_type": "code",
   "execution_count": 7,
   "metadata": {},
   "outputs": [
    {
     "name": "stdout",
     "output_type": "stream",
     "text": [
      "Registered\n"
     ]
    }
   ],
   "source": [
    "dataset.register(workspace = ws, \n",
    "                    name = 'trades_raw_ds', \n",
    "                    description = 'raw daily trades data')\n",
    "print('Registered')"
   ]
  },
  {
   "cell_type": "code",
   "execution_count": 8,
   "metadata": {},
   "outputs": [],
   "source": [
    "files_list = [\n",
    "    \"/home/ali/code/data/Futures_ML_Project/output/raw_data/daily/ES/Trades/corrected/2017-02-10.csv.gz\",\n",
    "    \"/home/ali/code/data/Futures_ML_Project/output/raw_data/daily/ES/Trades/corrected/2017-02-11.csv.gz\",\n",
    "    \"/home/ali/code/data/Futures_ML_Project/output/raw_data/daily/ES/Trades/corrected/2017-02-12.csv.gz\",\n",
    "    \"/home/ali/code/data/Futures_ML_Project/output/raw_data/daily/ES/Trades/corrected/2017-02-13.csv.gz\",\n",
    "    \"/home/ali/code/data/Futures_ML_Project/output/raw_data/daily/ES/Trades/corrected/2017-02-14.csv.gz\",\n",
    "    \"/home/ali/code/data/Futures_ML_Project/output/raw_data/daily/ES/Trades/corrected/2017-02-15.csv.gz\",\n",
    "    \"/home/ali/code/data/Futures_ML_Project/output/raw_data/daily/ES/Trades/corrected/2017-02-16.csv.gz\",\n",
    "    \"/home/ali/code/data/Futures_ML_Project/output/raw_data/daily/ES/Trades/corrected/2017-02-17.csv.gz\",\n",
    "    \"/home/ali/code/data/Futures_ML_Project/output/raw_data/daily/ES/Trades/corrected/2017-02-18.csv.gz\",\n",
    "    \"/home/ali/code/data/Futures_ML_Project/output/raw_data/daily/ES/Trades/corrected/2017-02-19.csv.gz\",\n",
    "    \"/home/ali/code/data/Futures_ML_Project/output/raw_data/daily/ES/Trades/corrected/2017-02-20.csv.gz\",]"
   ]
  },
  {
   "cell_type": "code",
   "execution_count": null,
   "metadata": {},
   "outputs": [],
   "source": [
    "datastore.upload_files(files= files_list, relative_root=None, target_path='datasets/trades_raw_sample', overwrite=False, show_progress=True)"
   ]
  },
  {
   "cell_type": "code",
   "execution_count": 6,
   "metadata": {},
   "outputs": [],
   "source": [
    "files_list_quotes = [\n",
    "    \"/home/ali/code/data/Futures_ML_Project/output/raw_data/daily/ES/Quotes/corrected/2017-02-10.csv.gz\",\n",
    "    \"/home/ali/code/data/Futures_ML_Project/output/raw_data/daily/ES/Quotes/corrected/2017-02-11.csv.gz\",\n",
    "    \"/home/ali/code/data/Futures_ML_Project/output/raw_data/daily/ES/Quotes/corrected/2017-02-12.csv.gz\",\n",
    "    \"/home/ali/code/data/Futures_ML_Project/output/raw_data/daily/ES/Quotes/corrected/2017-02-13.csv.gz\",\n",
    "    \"/home/ali/code/data/Futures_ML_Project/output/raw_data/daily/ES/Quotes/corrected/2017-02-14.csv.gz\",\n",
    "    \"/home/ali/code/data/Futures_ML_Project/output/raw_data/daily/ES/Quotes/corrected/2017-02-15.csv.gz\",\n",
    "    \"/home/ali/code/data/Futures_ML_Project/output/raw_data/daily/ES/Quotes/corrected/2017-02-16.csv.gz\",\n",
    "    \"/home/ali/code/data/Futures_ML_Project/output/raw_data/daily/ES/Quotes/corrected/2017-02-17.csv.gz\",\n",
    "    \"/home/ali/code/data/Futures_ML_Project/output/raw_data/daily/ES/Quotes/corrected/2017-02-18.csv.gz\",\n",
    "    \"/home/ali/code/data/Futures_ML_Project/output/raw_data/daily/ES/Quotes/corrected/2017-02-19.csv.gz\",\n",
    "    \"/home/ali/code/data/Futures_ML_Project/output/raw_data/daily/ES/Quotes/corrected/2017-02-20.csv.gz\",]"
   ]
  },
  {
   "cell_type": "code",
   "execution_count": 8,
   "metadata": {},
   "outputs": [
    {
     "name": "stdout",
     "output_type": "stream",
     "text": [
      "Uploading an estimated of 11 files\n",
      "Uploading /home/ali/code/data/Futures_ML_Project/output/raw_data/daily/ES/Quotes/corrected/2017-02-10.csv.gz\n",
      "Uploading /home/ali/code/data/Futures_ML_Project/output/raw_data/daily/ES/Quotes/corrected/2017-02-11.csv.gz\n",
      "Uploading /home/ali/code/data/Futures_ML_Project/output/raw_data/daily/ES/Quotes/corrected/2017-02-12.csv.gz\n",
      "Uploaded /home/ali/code/data/Futures_ML_Project/output/raw_data/daily/ES/Quotes/corrected/2017-02-11.csv.gz, 1 files out of an estimated total of 11\n",
      "Uploading /home/ali/code/data/Futures_ML_Project/output/raw_data/daily/ES/Quotes/corrected/2017-02-13.csv.gz\n",
      "Uploading /home/ali/code/data/Futures_ML_Project/output/raw_data/daily/ES/Quotes/corrected/2017-02-14.csv.gz\n",
      "Uploaded /home/ali/code/data/Futures_ML_Project/output/raw_data/daily/ES/Quotes/corrected/2017-02-12.csv.gz, 2 files out of an estimated total of 11\n",
      "Uploading /home/ali/code/data/Futures_ML_Project/output/raw_data/daily/ES/Quotes/corrected/2017-02-15.csv.gz\n",
      "Uploading /home/ali/code/data/Futures_ML_Project/output/raw_data/daily/ES/Quotes/corrected/2017-02-16.csv.gz\n",
      "Uploading /home/ali/code/data/Futures_ML_Project/output/raw_data/daily/ES/Quotes/corrected/2017-02-17.csv.gz\n",
      "Uploading /home/ali/code/data/Futures_ML_Project/output/raw_data/daily/ES/Quotes/corrected/2017-02-18.csv.gz\n",
      "Uploading /home/ali/code/data/Futures_ML_Project/output/raw_data/daily/ES/Quotes/corrected/2017-02-19.csv.gz\n",
      "Uploading /home/ali/code/data/Futures_ML_Project/output/raw_data/daily/ES/Quotes/corrected/2017-02-20.csv.gz\n",
      "Uploaded /home/ali/code/data/Futures_ML_Project/output/raw_data/daily/ES/Quotes/corrected/2017-02-18.csv.gz, 3 files out of an estimated total of 11\n",
      "Uploaded /home/ali/code/data/Futures_ML_Project/output/raw_data/daily/ES/Quotes/corrected/2017-02-19.csv.gz, 4 files out of an estimated total of 11\n",
      "Uploaded /home/ali/code/data/Futures_ML_Project/output/raw_data/daily/ES/Quotes/corrected/2017-02-20.csv.gz, 5 files out of an estimated total of 11\n",
      "Uploaded /home/ali/code/data/Futures_ML_Project/output/raw_data/daily/ES/Quotes/corrected/2017-02-10.csv.gz, 6 files out of an estimated total of 11\n",
      "Uploaded /home/ali/code/data/Futures_ML_Project/output/raw_data/daily/ES/Quotes/corrected/2017-02-13.csv.gz, 7 files out of an estimated total of 11\n",
      "Uploaded /home/ali/code/data/Futures_ML_Project/output/raw_data/daily/ES/Quotes/corrected/2017-02-14.csv.gz, 8 files out of an estimated total of 11\n",
      "Uploaded /home/ali/code/data/Futures_ML_Project/output/raw_data/daily/ES/Quotes/corrected/2017-02-15.csv.gz, 9 files out of an estimated total of 11\n",
      "Uploaded /home/ali/code/data/Futures_ML_Project/output/raw_data/daily/ES/Quotes/corrected/2017-02-17.csv.gz, 10 files out of an estimated total of 11\n",
      "Uploaded /home/ali/code/data/Futures_ML_Project/output/raw_data/daily/ES/Quotes/corrected/2017-02-16.csv.gz, 11 files out of an estimated total of 11\n",
      "Uploaded 11 files\n"
     ]
    },
    {
     "data": {
      "text/plain": [
       "$AZUREML_DATAREFERENCE_9cb82501106f48ba89352f462a8a5bc7"
      ]
     },
     "execution_count": 8,
     "metadata": {},
     "output_type": "execute_result"
    }
   ],
   "source": [
    "datastore.upload_files(files= files_list_quotes, relative_root=None, target_path='datasets/quotes_raw_sample', overwrite=False, show_progress=True)"
   ]
  },
  {
   "cell_type": "code",
   "execution_count": 10,
   "metadata": {},
   "outputs": [],
   "source": [
    "import pandas as pd"
   ]
  },
  {
   "cell_type": "code",
   "execution_count": 12,
   "metadata": {},
   "outputs": [],
   "source": [
    "file_name = '2018-02-02.csv.gz'\n",
    "path_to_raw = '/home/ali/code/data/Futures_ML_Project/output/raw_data/daily/ES/Trades/corrected/'\n",
    "df_1day_raw = pd.read_csv(os.path.join(path_to_raw,file_name), compression='gzip')"
   ]
  },
  {
   "cell_type": "code",
   "execution_count": 13,
   "metadata": {},
   "outputs": [],
   "source": [
    "from azureml.core.dataset import Dataset\n",
    "\n",
    "sample_dataset = Dataset.File.from_files((datastore, 'datasets/trades_raw_sample'))"
   ]
  },
  {
   "cell_type": "code",
   "execution_count": 14,
   "metadata": {},
   "outputs": [
    {
     "name": "stdout",
     "output_type": "stream",
     "text": [
      "Performing interactive authentication. Please follow the instructions on the terminal.\n",
      "To sign in, use a web browser to open the page https://microsoft.com/devicelogin and enter the code FBQFFGXKP to authenticate.\n",
      "Interactive authentication successfully completed.\n",
      "WARNING - Failure while loading azureml_run_type_providers. Failed to load entrypoint automl = azureml.train.automl.run:AutoMLRun._from_run_dto with exception (portalocker 2.0.0 (/anaconda/envs/azureml_py36/lib/python3.6/site-packages), Requirement.parse('portalocker~=1.0'), {'msal-extensions'}).\n"
     ]
    },
    {
     "ename": "AttributeError",
     "evalue": "'MountContext' object has no attribute 'mountpoint'",
     "output_type": "error",
     "traceback": [
      "\u001b[0;31m---------------------------------------------------------------------------\u001b[0m",
      "\u001b[0;31mAttributeError\u001b[0m                            Traceback (most recent call last)",
      "\u001b[0;32m<ipython-input-14-5fd4110a92d3>\u001b[0m in \u001b[0;36m<module>\u001b[0;34m\u001b[0m\n\u001b[1;32m      1\u001b[0m \u001b[0mmounted_ds\u001b[0m \u001b[0;34m=\u001b[0m \u001b[0msample_dataset\u001b[0m\u001b[0;34m.\u001b[0m\u001b[0mmount\u001b[0m\u001b[0;34m(\u001b[0m\u001b[0;34m)\u001b[0m\u001b[0;34m\u001b[0m\u001b[0;34m\u001b[0m\u001b[0m\n\u001b[1;32m      2\u001b[0m \u001b[0mmounted_ds\u001b[0m\u001b[0;34m.\u001b[0m\u001b[0mstart\u001b[0m\u001b[0;34m(\u001b[0m\u001b[0;34m)\u001b[0m\u001b[0;34m\u001b[0m\u001b[0;34m\u001b[0m\u001b[0m\n\u001b[0;32m----> 3\u001b[0;31m \u001b[0mmounted_ds\u001b[0m\u001b[0;34m.\u001b[0m\u001b[0mmountpoint\u001b[0m\u001b[0;34m\u001b[0m\u001b[0;34m\u001b[0m\u001b[0m\n\u001b[0m",
      "\u001b[0;31mAttributeError\u001b[0m: 'MountContext' object has no attribute 'mountpoint'"
     ]
    }
   ],
   "source": [
    "mounted_ds = sample_dataset.mount()\n",
    "mounted_ds.start()\n"
   ]
  },
  {
   "cell_type": "code",
   "execution_count": 17,
   "metadata": {},
   "outputs": [
    {
     "data": {
      "text/plain": [
       "'/home/ali/code/data/Futures_ML_Project/output/raw_data/daily/ES/Trades/corrected/2017-02-10.pr.gz'"
      ]
     },
     "execution_count": 17,
     "metadata": {},
     "output_type": "execute_result"
    }
   ],
   "source": [
    "\"/home/ali/code/data/Futures_ML_Project/output/raw_data/daily/ES/Trades/corrected/2017-02-10.csv.gz\".replace('csv', 'pr')"
   ]
  },
  {
   "cell_type": "code",
   "execution_count": 16,
   "metadata": {},
   "outputs": [
    {
     "ename": "OSError",
     "evalue": "[Errno 30] Read-only file system: '/tmp/tmp7ta8ha5p/test_df'",
     "output_type": "error",
     "traceback": [
      "\u001b[0;31m---------------------------------------------------------------------------\u001b[0m",
      "\u001b[0;31mOSError\u001b[0m                                   Traceback (most recent call last)",
      "\u001b[0;32m<ipython-input-16-74c0bc6e5320>\u001b[0m in \u001b[0;36m<module>\u001b[0;34m\u001b[0m\n\u001b[0;32m----> 1\u001b[0;31m \u001b[0mdf_1day_raw\u001b[0m\u001b[0;34m.\u001b[0m\u001b[0mto_csv\u001b[0m\u001b[0;34m(\u001b[0m\u001b[0mos\u001b[0m\u001b[0;34m.\u001b[0m\u001b[0mpath\u001b[0m\u001b[0;34m.\u001b[0m\u001b[0mjoin\u001b[0m\u001b[0;34m(\u001b[0m\u001b[0mmounted_ds\u001b[0m\u001b[0;34m.\u001b[0m\u001b[0mmount_point\u001b[0m\u001b[0;34m,\u001b[0m\u001b[0;34m'test_df'\u001b[0m\u001b[0;34m)\u001b[0m\u001b[0;34m)\u001b[0m\u001b[0;34m\u001b[0m\u001b[0;34m\u001b[0m\u001b[0m\n\u001b[0m",
      "\u001b[0;32m/anaconda/envs/azureml_py36/lib/python3.6/site-packages/pandas/core/frame.py\u001b[0m in \u001b[0;36mto_csv\u001b[0;34m(self, path_or_buf, sep, na_rep, float_format, columns, header, index, index_label, mode, encoding, compression, quoting, quotechar, line_terminator, chunksize, tupleize_cols, date_format, doublequote, escapechar, decimal)\u001b[0m\n\u001b[1;32m   1743\u001b[0m                                  \u001b[0mdoublequote\u001b[0m\u001b[0;34m=\u001b[0m\u001b[0mdoublequote\u001b[0m\u001b[0;34m,\u001b[0m\u001b[0;34m\u001b[0m\u001b[0;34m\u001b[0m\u001b[0m\n\u001b[1;32m   1744\u001b[0m                                  escapechar=escapechar, decimal=decimal)\n\u001b[0;32m-> 1745\u001b[0;31m         \u001b[0mformatter\u001b[0m\u001b[0;34m.\u001b[0m\u001b[0msave\u001b[0m\u001b[0;34m(\u001b[0m\u001b[0;34m)\u001b[0m\u001b[0;34m\u001b[0m\u001b[0;34m\u001b[0m\u001b[0m\n\u001b[0m\u001b[1;32m   1746\u001b[0m \u001b[0;34m\u001b[0m\u001b[0m\n\u001b[1;32m   1747\u001b[0m         \u001b[0;32mif\u001b[0m \u001b[0mpath_or_buf\u001b[0m \u001b[0;32mis\u001b[0m \u001b[0;32mNone\u001b[0m\u001b[0;34m:\u001b[0m\u001b[0;34m\u001b[0m\u001b[0;34m\u001b[0m\u001b[0m\n",
      "\u001b[0;32m/anaconda/envs/azureml_py36/lib/python3.6/site-packages/pandas/io/formats/csvs.py\u001b[0m in \u001b[0;36msave\u001b[0;34m(self)\u001b[0m\n\u001b[1;32m    154\u001b[0m             f, handles = _get_handle(self.path_or_buf, self.mode,\n\u001b[1;32m    155\u001b[0m                                      \u001b[0mencoding\u001b[0m\u001b[0;34m=\u001b[0m\u001b[0mencoding\u001b[0m\u001b[0;34m,\u001b[0m\u001b[0;34m\u001b[0m\u001b[0;34m\u001b[0m\u001b[0m\n\u001b[0;32m--> 156\u001b[0;31m                                      compression=self.compression)\n\u001b[0m\u001b[1;32m    157\u001b[0m             \u001b[0mclose\u001b[0m \u001b[0;34m=\u001b[0m \u001b[0;32mTrue\u001b[0m\u001b[0;34m\u001b[0m\u001b[0;34m\u001b[0m\u001b[0m\n\u001b[1;32m    158\u001b[0m \u001b[0;34m\u001b[0m\u001b[0m\n",
      "\u001b[0;32m/anaconda/envs/azureml_py36/lib/python3.6/site-packages/pandas/io/common.py\u001b[0m in \u001b[0;36m_get_handle\u001b[0;34m(path_or_buf, mode, encoding, compression, memory_map, is_text)\u001b[0m\n\u001b[1;32m    398\u001b[0m         \u001b[0;32melif\u001b[0m \u001b[0mencoding\u001b[0m\u001b[0;34m:\u001b[0m\u001b[0;34m\u001b[0m\u001b[0;34m\u001b[0m\u001b[0m\n\u001b[1;32m    399\u001b[0m             \u001b[0;31m# Python 3 and encoding\u001b[0m\u001b[0;34m\u001b[0m\u001b[0;34m\u001b[0m\u001b[0;34m\u001b[0m\u001b[0m\n\u001b[0;32m--> 400\u001b[0;31m             \u001b[0mf\u001b[0m \u001b[0;34m=\u001b[0m \u001b[0mopen\u001b[0m\u001b[0;34m(\u001b[0m\u001b[0mpath_or_buf\u001b[0m\u001b[0;34m,\u001b[0m \u001b[0mmode\u001b[0m\u001b[0;34m,\u001b[0m \u001b[0mencoding\u001b[0m\u001b[0;34m=\u001b[0m\u001b[0mencoding\u001b[0m\u001b[0;34m)\u001b[0m\u001b[0;34m\u001b[0m\u001b[0;34m\u001b[0m\u001b[0m\n\u001b[0m\u001b[1;32m    401\u001b[0m         \u001b[0;32melif\u001b[0m \u001b[0mis_text\u001b[0m\u001b[0;34m:\u001b[0m\u001b[0;34m\u001b[0m\u001b[0;34m\u001b[0m\u001b[0m\n\u001b[1;32m    402\u001b[0m             \u001b[0;31m# Python 3 and no explicit encoding\u001b[0m\u001b[0;34m\u001b[0m\u001b[0;34m\u001b[0m\u001b[0;34m\u001b[0m\u001b[0m\n",
      "\u001b[0;31mOSError\u001b[0m: [Errno 30] Read-only file system: '/tmp/tmp7ta8ha5p/test_df'"
     ]
    }
   ],
   "source": [
    "df_1day_raw.to_csv(os.path.join(mounted_ds.mount_point,'test_df'))"
   ]
  },
  {
   "cell_type": "code",
   "execution_count": 18,
   "metadata": {},
   "outputs": [],
   "source": [
    "files_list = ['/home/ali/code/data/Futures_ML_Project/output/clean_data/ES/RV_Erfan.csv']"
   ]
  },
  {
   "cell_type": "code",
   "execution_count": 19,
   "metadata": {},
   "outputs": [
    {
     "name": "stdout",
     "output_type": "stream",
     "text": [
      "Uploading an estimated of 1 files\n",
      "Uploading /home/ali/code/data/Futures_ML_Project/output/clean_data/ES/RV_Erfan.csv\n",
      "Uploaded /home/ali/code/data/Futures_ML_Project/output/clean_data/ES/RV_Erfan.csv, 1 files out of an estimated total of 1\n",
      "Uploaded 1 files\n"
     ]
    },
    {
     "data": {
      "text/plain": [
       "$AZUREML_DATAREFERENCE_f59d7b3d1d02445fbab2dbab315a9c38"
      ]
     },
     "execution_count": 19,
     "metadata": {},
     "output_type": "execute_result"
    }
   ],
   "source": [
    "datastore.upload_files(files= files_list, relative_root=None, target_path='datasets/har', overwrite=False, show_progress=True)"
   ]
  },
  {
   "cell_type": "code",
   "execution_count": null,
   "metadata": {},
   "outputs": [],
   "source": []
  }
 ],
 "metadata": {
  "kernelspec": {
   "display_name": "Python 3.6 - AzureML",
   "language": "python",
   "name": "python3-azureml"
  },
  "language_info": {
   "codemirror_mode": {
    "name": "ipython",
    "version": 3
   },
   "file_extension": ".py",
   "mimetype": "text/x-python",
   "name": "python",
   "nbconvert_exporter": "python",
   "pygments_lexer": "ipython3",
   "version": "3.6.9"
  }
 },
 "nbformat": 4,
 "nbformat_minor": 4
}
