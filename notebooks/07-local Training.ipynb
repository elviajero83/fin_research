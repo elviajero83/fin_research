{
 "cells": [
  {
   "cell_type": "markdown",
   "id": "related-jenny",
   "metadata": {},
   "source": [
    "( some jupyter tricks, just run)"
   ]
  },
  {
   "cell_type": "code",
   "execution_count": null,
   "id": "built-scale",
   "metadata": {},
   "outputs": [],
   "source": [
    "%load_ext autoreload\n",
    "%autoreload 2\n",
    "%matplotlib inline"
   ]
  },
  {
   "cell_type": "markdown",
   "id": "random-salon",
   "metadata": {},
   "source": [
    "# Setup requirements\n",
    "[here](https://docs.microsoft.com/en-us/azure/machine-learning/how-to-configure-environment) is the guide to the development environment setup.\n",
    "\n",
    "1. install [conda](https://docs.conda.io/projects/conda/en/latest/user-guide/install/windows.html) (miniconda is fine) \n",
    "2. create a new env \n",
    "\n",
    "   `conda env create -f environment.yml`\n",
    "   `conda activate aml`\n",
    "   \n",
    "3. setup jupyter\n",
    "\n",
    "   `conda install notebook ipykernel`\n",
    "   `ipython kernel install --user --name aml --display-name \"aml\"`\n",
    "   \n",
    "   \n",
    "4. install azure ml libraries \n",
    "\n",
    "   `pip install azureml-core`"
   ]
  },
  {
   "cell_type": "markdown",
   "id": "951ea5b5",
   "metadata": {},
   "source": [
    "## Connect to Workspace"
   ]
  },
  {
   "cell_type": "code",
   "execution_count": null,
   "id": "radio-conclusion",
   "metadata": {},
   "outputs": [],
   "source": [
    "from azureml.core.authentication import InteractiveLoginAuthentication\n",
    "interactive_auth = InteractiveLoginAuthentication(tenant_id=\"dadbf9da-3f3b-44a8-8097-f3512ff34da8\")\n",
    "from azureml.core import Workspace\n",
    "ws = Workspace.from_config(auth=interactive_auth)\n",
    "print('Connected to Workspace',\n",
    "  '-- name: ' + ws.name,\n",
    "  '-- Azure region: ' + ws.location,\n",
    "  '-- Resource group: ' + ws.resource_group,\n",
    "  sep = '\\n')\n",
    "datastore = ws.get_default_datastore()"
   ]
  },
  {
   "cell_type": "markdown",
   "id": "authorized-romania",
   "metadata": {},
   "source": [
    "# Loading packages"
   ]
  },
  {
   "cell_type": "code",
   "execution_count": null,
   "id": "driving-yahoo",
   "metadata": {},
   "outputs": [],
   "source": [
    "import numpy as np\n",
    "import os\n",
    "import sys\n",
    "import time\n",
    "import pandas as pd \n",
    "from azureml.core.datastore import Datastore\n",
    "from azureml.core.dataset import Dataset"
   ]
  },
  {
   "cell_type": "markdown",
   "id": "mysterious-prague",
   "metadata": {},
   "source": [
    "# Loading labeled datasets"
   ]
  },
  {
   "cell_type": "code",
   "execution_count": null,
   "id": "collective-update",
   "metadata": {},
   "outputs": [],
   "source": [
    "ds_path = \"../../data/datasets/\"\n",
    "overwrite_data = True\n",
    "# label file has the folowing columns, pick the one you need for training\n",
    "# base_label_cols = [\n",
    "#     \"long_label\",\n",
    "#     \"long_return\",\n",
    "#     \"long_duration\",\n",
    "#     \"pt_long_ind\",\n",
    "#     \"sl_long_ind\",\n",
    "#     \"short_label\",\n",
    "#     \"short_return\",\n",
    "#     \"short_duration\",\n",
    "#     \"pt_short_ind\",\n",
    "#     \"sl_short_ind\",\n",
    "#     \"end_ind\",\n",
    "# ]\n",
    "\n",
    "if label_col in [0,5]:\n",
    "    task = \"clf\"\n",
    "elif label_col in [1,6]:\n",
    "    task ='reg'\n",
    "else:\n",
    "    raise Exception(\"label column index doesn't seem to be right\")\n",
    "\n",
    "ds_dict = {\n",
    "    \"train_dataset_x\": \"\",\n",
    "    \"train_dataset_y\": \"\",\n",
    "    \"train_dataset_w\": \"\",\n",
    "    \"test_dataset_x\": \"\",\n",
    "    \"test_dataset_y\": \"\",\n",
    "    \"test_dataset_w\": \"\",\n",
    "}\n",
    "for ds_name in ds_dict:\n",
    "    print(f\"fetching {ds_name}\")\n",
    "    dataset = Dataset.get_by_name(ws, name=ds_name)\n",
    "    r = dataset.download(target_path=ds_path, overwrite=overwrite_data)\n",
    "    ds_dict[ds_name] = r[0]"
   ]
  },
  {
   "cell_type": "code",
   "execution_count": null,
   "id": "5fcb7653",
   "metadata": {},
   "outputs": [],
   "source": [
    "print(\"dataset names and their local paths:\")\n",
    "print(ds_dict)\n",
    "ds_dict_bu = ds_dict"
   ]
  },
  {
   "cell_type": "code",
   "execution_count": null,
   "id": "cf43e662",
   "metadata": {},
   "outputs": [],
   "source": [
    "label_col =1\n",
    "task = \"reg\"\n",
    "print (f\"label col {label_col}, task {task}\")"
   ]
  },
  {
   "cell_type": "code",
   "execution_count": null,
   "id": "alert-society",
   "metadata": {},
   "outputs": [],
   "source": [
    "X_train = np.load(ds_dict[\"train_dataset_x\"])\n",
    "y_train_all = np.load(ds_dict[\"train_dataset_y\"])\n",
    "y_train = y_train_all[:,label_col].reshape(len(y_train_all))\n",
    "w_train = np.load(ds_dict[\"train_dataset_w\"])\n",
    "w_train = w_train.reshape(len(w_train))\n",
    "\n",
    "\n",
    "X_test = np.load(ds_dict[\"test_dataset_x\"])\n",
    "y_test_all = np.load(ds_dict[\"test_dataset_y\"])\n",
    "\n",
    "y_test = y_test_all[:,label_col].reshape(len(y_test_all))\n",
    "ret_test = y_test_all[:,1].reshape(len(y_test_all)) #TODO: fix for short\n",
    "hold_test = y_test_all[:,2].reshape(len(y_test_all)) #TODO: fix for short\n",
    "\n",
    "w_test = np.load(ds_dict[\"test_dataset_w\"])\n",
    "w_test = w_test.reshape(len(w_test))\n",
    "\n",
    "if task == \"clf\":\n",
    "    #Changing [-1,0,1] labels to [0,1,2] labels\n",
    "    y_train+=1\n",
    "    y_test+=1\n",
    "print(\n",
    "    \"shapes of X_train {}, y_train, {}, w_train {}, X_test {}, y_test {}, w_test {}\".format(\n",
    "        X_train.shape, y_train.shape, w_train.shape, X_test.shape, y_test.shape, w_test.shape\n",
    "    )\n",
    ")"
   ]
  },
  {
   "cell_type": "code",
   "execution_count": null,
   "id": "851c121d",
   "metadata": {},
   "outputs": [],
   "source": [
    "y_test[0]"
   ]
  },
  {
   "cell_type": "code",
   "execution_count": null,
   "id": "e5fe4e70",
   "metadata": {},
   "outputs": [],
   "source": [
    "y_test[50]"
   ]
  },
  {
   "cell_type": "markdown",
   "id": "worst-basic",
   "metadata": {},
   "source": [
    "# Prepare training data"
   ]
  },
  {
   "cell_type": "code",
   "execution_count": null,
   "id": "worthy-helen",
   "metadata": {},
   "outputs": [],
   "source": [
    "sys.path.insert(0, '../src/utils')\n",
    "from data_utils import build_timeseries"
   ]
  },
  {
   "attachments": {
    "image.png": {
     "image/png": "[encoded data removed]"
    }
   },
   "cell_type": "markdown",
   "id": "visible-cocktail",
   "metadata": {},
   "source": [
    "`time_steps` defines how many samples are used for each training round. We can use data at time t0 to predict result at time t0,or we can include n previous data points as well, in that case, time steps is equal n.\n",
    "![image.png](attachment:image.png)\n",
    "\n",
    "so, the training data can be a sequence and hence 3d. \n",
    "Weights and labels are 1d"
   ]
  },
  {
   "cell_type": "code",
   "execution_count": null,
   "id": "bacterial-metadata",
   "metadata": {},
   "outputs": [],
   "source": [
    "time_steps = 1"
   ]
  },
  {
   "cell_type": "code",
   "execution_count": null,
   "id": "equal-observer",
   "metadata": {},
   "outputs": [],
   "source": [
    "X_train_3d, y_train_1d, w_train_1d = build_timeseries(X_train, y_train, steps = time_steps, weights=w_train) \n",
    "X_test_3d, y_test_1d, w_test_1d = build_timeseries(X_test, y_test, steps = time_steps, weights=w_test) \n",
    "ret_test_1d = ret_test[time_steps:]\n",
    "w_train_1d = w_train[time_steps:]\n",
    "w_test_1d = w_test[time_steps:]\n",
    "hold_test_1d = hold_test[time_steps:]"
   ]
  },
  {
   "cell_type": "markdown",
   "id": "expired-teens",
   "metadata": {},
   "source": [
    "The 3d structure can be fed into lstm, but for traditional ML, we need to seralize this 3d data structure into 2d."
   ]
  },
  {
   "cell_type": "code",
   "execution_count": null,
   "id": "detailed-extraction",
   "metadata": {},
   "outputs": [],
   "source": [
    "X_train_2d = X_train_3d.reshape(X_train_3d.shape[0],X_train_3d.shape[1]*X_train_3d.shape[2])\n",
    "X_test_2d = X_test_3d.reshape(X_test_3d.shape[0],X_test_3d.shape[1]*X_test_3d.shape[2])\n",
    "\n",
    "\n",
    "print(\n",
    "    \"shapes of X_train_2d {}, y_train, {}, X_test_2d {}, y_test_2d {}\".format(\n",
    "        X_train_2d.shape, y_train_1d.shape, X_test_2d.shape, y_test_1d.shape\n",
    "    )\n",
    ")"
   ]
  },
  {
   "cell_type": "markdown",
   "id": "acute-concentration",
   "metadata": {},
   "source": [
    "# Training"
   ]
  },
  {
   "cell_type": "code",
   "execution_count": null,
   "id": "based-association",
   "metadata": {},
   "outputs": [],
   "source": [
    "from sklearn import model_selection\n",
    "from sklearn.linear_model import LogisticRegression, LinearRegression\n",
    "from sklearn.model_selection import train_test_split\n",
    "from sklearn.discriminant_analysis import LinearDiscriminantAnalysis\n",
    "from sklearn.preprocessing import StandardScaler\n",
    "from sklearn.neural_network import MLPClassifier\n",
    "from sklearn.neighbors import KNeighborsClassifier\n",
    "from sklearn.svm import SVC\n",
    "from sklearn.gaussian_process import GaussianProcessClassifier\n",
    "from sklearn.gaussian_process.kernels import RBF\n",
    "from sklearn.tree import DecisionTreeClassifier\n",
    "from sklearn.ensemble import RandomForestClassifier, AdaBoostClassifier\n",
    "from sklearn.naive_bayes import GaussianNB\n",
    "from sklearn.discriminant_analysis import QuadraticDiscriminantAnalysis\n",
    "from sklearn.ensemble import RandomForestRegressor\n",
    "\n",
    "from sklearn.metrics import classification_report\n",
    "from sklearn.metrics import confusion_matrix\n",
    "from sklearn.metrics import accuracy_score\n",
    "from joblib import dump, load"
   ]
  },
  {
   "cell_type": "markdown",
   "id": "focal-machine",
   "metadata": {},
   "source": [
    "## Logistic Regression (triple barrier classification)"
   ]
  },
  {
   "cell_type": "code",
   "execution_count": null,
   "id": "above-bloom",
   "metadata": {},
   "outputs": [],
   "source": [
    "name = \"LR\"\n",
    "model = LogisticRegression()\n",
    "model.fit(X_train_2d, y_train_1d, sample_weight=w_train_1d)\n",
    "y_pred_flat = model.predict(X_test_2d)\n",
    "cm = confusion_matrix(y_test_1d, y_pred_flat)\n",
    "\n",
    "print(\"{} gain precision: {:.2f}\".format(name, cm[2,2]/sum(cm[:,2])))\n",
    "print(classification_report(y_test_1d, y_pred_flat, target_names=['loss','no hit','gain']))\n"
   ]
  },
  {
   "cell_type": "markdown",
   "id": "62e4e7a9",
   "metadata": {},
   "source": [
    "# Linrear Regression"
   ]
  },
  {
   "cell_type": "code",
   "execution_count": null,
   "id": "a95858d1",
   "metadata": {},
   "outputs": [],
   "source": [
    "name = \"LinearRegression\"\n",
    "model = LinearRegression()\n",
    "model.fit(X_train_2d, y_train_1d)#, sample_weight=w_train_2d)\n",
    "y_pred = model.predict(X_test_2d)"
   ]
  },
  {
   "cell_type": "code",
   "execution_count": null,
   "id": "dccb2bd5",
   "metadata": {},
   "outputs": [],
   "source": [
    "y_pred_bin =[1 if y>0 else 0 for y in y_pred]\n",
    "y_test_2d_bin = [1 if y>0 else 0 for y in y_test_1d]\n",
    "# y_pred_flat = np.argmax(y_pred, axis=1)\n",
    "print(classification_report(y_test_2d_bin, y_pred_bin, target_names=['loss','gain']))"
   ]
  },
  {
   "cell_type": "markdown",
   "id": "8030cc46",
   "metadata": {},
   "source": [
    "# Registring the model"
   ]
  },
  {
   "cell_type": "code",
   "execution_count": null,
   "id": "imperial-announcement",
   "metadata": {},
   "outputs": [],
   "source": [
    "os.makedirs('outputs', exist_ok=True)\n",
    "load_model_path = f'outputs/{name}_{time_steps}_{task}.pkl'\n",
    "dump(model, load_model_path) "
   ]
  },
  {
   "cell_type": "code",
   "execution_count": null,
   "id": "hearing-boxing",
   "metadata": {},
   "outputs": [],
   "source": [
    "from azureml.core import Model\n",
    "\n",
    "model = Model.register(workspace=ws,\n",
    "                       model_name=f'{name}_{time_steps}_{task}',\n",
    "                       model_path=load_model_path, # local path\n",
    "                       description='A classification model',\n",
    "                       tags={'data-format': '2d array'},\n",
    "                       model_framework=Model.Framework.SCIKITLEARN,\n",
    "                       model_framework_version='0.20.3')"
   ]
  },
  {
   "cell_type": "markdown",
   "id": "be1afb40",
   "metadata": {},
   "source": [
    "# Ignore"
   ]
  },
  {
   "cell_type": "code",
   "execution_count": null,
   "id": "solved-department",
   "metadata": {},
   "outputs": [],
   "source": [
    "train_data = lightgbm.Dataset(X_train_2d, label=y_train_2d, weight = w_train_2d)\n",
    "# val_data = lightgbm.Dataset(X_val_2d, label=y_val, reference=train_data)\n",
    "test_data = lightgbm.Dataset(X_test_2d, label=y_test_2d)#, weight = w_test_2d)"
   ]
  },
  {
   "cell_type": "code",
   "execution_count": null,
   "id": "hollow-samuel",
   "metadata": {},
   "outputs": [],
   "source": [
    "parameters = {\n",
    "    'objective': 'multiclass',\n",
    "#     'metric': 'multi_logloss,auc_mu',\n",
    "    'metric': 'multi_logloss',\n",
    "    'is_unbalance': 'true',\n",
    "    'boosting': 'gbdt',\n",
    "    'num_class':3,\n",
    "    'metric_freq': 1,\n",
    "    'is_training_metric':'true',\n",
    "    'learning_rate':0.05,\n",
    "    'num_leaves': 5,\n",
    "    'num_trees':100,\n",
    "    'feature_fraction': 0.43,\n",
    "    'bagging_fraction': 0.48,\n",
    "    'bagging_freq': 4,\n",
    "    'min_data_in_leaf':50,\n",
    "    'learning_rate': 0.05,\n",
    "    'verbose': 1,\n",
    "    'early_stopping_round':10\n",
    "}"
   ]
  },
  {
   "cell_type": "code",
   "execution_count": null,
   "id": "reported-dylan",
   "metadata": {},
   "outputs": [],
   "source": [
    "print('Starting training...')\n",
    "# train\n",
    "gbm = lightgbm.train(params=parameters,\n",
    "                     train_set = train_data,\n",
    "                     valid_sets=[train_data,test_data])"
   ]
  },
  {
   "cell_type": "code",
   "execution_count": null,
   "id": "charming-booth",
   "metadata": {},
   "outputs": [],
   "source": [
    "y_pred = gbm.predict(X_test_2d)\n",
    "y_pred_flat = np.argmax(y_pred, axis=1)\n",
    "print(classification_report(y_test_2d, y_pred_flat, target_names=['loss','no hit','gain']))\n"
   ]
  },
  {
   "cell_type": "code",
   "execution_count": null,
   "id": "psychological-skiing",
   "metadata": {},
   "outputs": [],
   "source": [
    "single_unit_trade(y_pred_flat, ret_test_2d, hold_test_2d, w_test_2d, labels=[0,1,2]) "
   ]
  },
  {
   "cell_type": "code",
   "execution_count": null,
   "id": "difficult-energy",
   "metadata": {},
   "outputs": [],
   "source": [
    "np.mean(w_test_2d)"
   ]
  },
  {
   "cell_type": "code",
   "execution_count": null,
   "id": "reliable-weekend",
   "metadata": {},
   "outputs": [],
   "source": [
    "w_test_2d."
   ]
  }
 ],
 "metadata": {
  "kernelspec": {
   "display_name": "Python (amlenv)",
   "language": "python",
   "name": "amlenv"
  },
  "language_info": {
   "codemirror_mode": {
    "name": "ipython",
    "version": 3
   },
   "file_extension": ".py",
   "mimetype": "text/x-python",
   "name": "python",
   "nbconvert_exporter": "python",
   "pygments_lexer": "ipython3",
   "version": "3.7.10"
  }
 },
 "nbformat": 4,
 "nbformat_minor": 5
}
