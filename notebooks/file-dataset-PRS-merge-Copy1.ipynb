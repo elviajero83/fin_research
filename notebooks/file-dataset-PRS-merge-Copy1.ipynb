{
 "cells": [
  {
   "cell_type": "markdown",
   "metadata": {},
   "source": [
    "Copyright (c) Microsoft Corporation. All rights reserved. \n",
    "Licensed under the MIT License."
   ]
  },
  {
   "cell_type": "markdown",
   "metadata": {},
   "source": [
    "![Impressions](https://PixelServer20190423114238.azurewebsites.net/api/impressions/NotebookVM/how-to-use-azureml/machine-learning-pipelines/parallel-run/file-dataset-image-inference-mnist.png)"
   ]
  },
  {
   "cell_type": "markdown",
   "metadata": {},
   "source": [
    "# Using Azure Machine Learning Pipelines for Batch Inference\n",
    "\n",
    "In this notebook, we will demonstrate how to make predictions on large quantities of data asynchronously using the ML pipelines with Azure Machine Learning. Batch inference (or batch scoring) provides cost-effective inference, with unparalleled throughput for asynchronous applications. Batch prediction pipelines can scale to perform inference on terabytes of production data. Batch prediction is optimized for high throughput, fire-and-forget predictions for a large collection of data.\n",
    "\n",
    "> **Tip**\n",
    "If your system requires low-latency processing (to process a single document or small set of documents quickly), use [real-time scoring](https://docs.microsoft.com/en-us/azure/machine-learning/service/how-to-consume-web-service) instead of batch prediction.\n",
    "\n",
    "In this example will be take a digit identification model already-trained on MNIST dataset using the [AzureML training with deep learning example notebook](https://github.com/Azure/MachineLearningNotebooks/blob/master/how-to-use-azureml/training-with-deep-learning/train-hyperparameter-tune-deploy-with-keras/train-hyperparameter-tune-deploy-with-keras.ipynb), and run that trained model on some of the MNIST test images in batch.  \n",
    "\n",
    "The input dataset used for this notebook differs from a standard MNIST dataset in that it has been converted to PNG images to demonstrate use of files as inputs to Batch Inference. A sample of PNG-converted images of the MNIST dataset were take from [this repository](https://github.com/myleott/mnist_png). \n",
    "\n",
    "The outline of this notebook is as follows:\n",
    "\n",
    "- Create a DataStore referencing MNIST images stored in a blob container.\n",
    "- Register the pretrained MNIST model into the model registry. \n",
    "- Use the registered model to do batch inference on the images in the data blob container.\n",
    "\n",
    "## Prerequisites\n",
    "If you are using an Azure Machine Learning Notebook VM, you are all set. Otherwise, make sure you go through the configuration Notebook located at https://github.com/Azure/MachineLearningNotebooks first. This sets you up with a working config file that has information on your workspace, subscription id, etc. "
   ]
  },
  {
   "cell_type": "markdown",
   "metadata": {},
   "source": [
    "### Connect to workspace\n",
    "Create a workspace object from the existing workspace. Workspace.from_config() reads the file config.json and loads the details into an object named ws."
   ]
  },
  {
   "cell_type": "code",
   "execution_count": 59,
   "metadata": {
    "tags": []
   },
   "outputs": [
    {
     "name": "stdout",
     "output_type": "stream",
     "text": [
      "SDK version: 1.18.0\n"
     ]
    }
   ],
   "source": [
    "# Check core SDK version number\n",
    "import azureml.core\n",
    "\n",
    "print(\"SDK version:\", azureml.core.VERSION)"
   ]
  },
  {
   "cell_type": "code",
   "execution_count": 60,
   "metadata": {
    "tags": []
   },
   "outputs": [
    {
     "name": "stdout",
     "output_type": "stream",
     "text": [
      "Workspace name: fin-ws-wus2\n",
      "Azure region: westus2\n",
      "Subscription id: 63a4bc7f-cd60-49a3-b139-49202d485eac\n",
      "Resource group: fin-research\n"
     ]
    }
   ],
   "source": [
    "from azureml.core import Workspace\n",
    "\n",
    "ws = Workspace.from_config()\n",
    "print('Workspace name: ' + ws.name, \n",
    "      'Azure region: ' + ws.location, \n",
    "      'Subscription id: ' + ws.subscription_id, \n",
    "      'Resource group: ' + ws.resource_group, sep = '\\n')"
   ]
  },
  {
   "cell_type": "markdown",
   "metadata": {},
   "source": [
    "### Create or Attach existing compute resource\n",
    "By using Azure Machine Learning Compute, a managed service, data scientists can train machine learning models on clusters of Azure virtual machines. Examples include VMs with GPU support. In this tutorial, you create Azure Machine Learning Compute as your training environment. The code below creates the compute clusters for you if they don't already exist in your workspace.\n",
    "\n",
    "**Creation of compute takes approximately 5 minutes. If the AmlCompute with that name is already in your workspace the code will skip the creation process.**"
   ]
  },
  {
   "cell_type": "code",
   "execution_count": 200,
   "metadata": {},
   "outputs": [
    {
     "name": "stdout",
     "output_type": "stream",
     "text": [
      "found compute target. just use it. cpu-cluster2\n"
     ]
    }
   ],
   "source": [
    "import os\n",
    "from azureml.core.compute import AmlCompute, ComputeTarget\n",
    "\n",
    "# choose a name for your cluster\n",
    "compute_name = os.environ.get(\"AML_COMPUTE_CLUSTER_NAME\", \"cpu-cluster2\")\n",
    "compute_min_nodes = os.environ.get(\"AML_COMPUTE_CLUSTER_MIN_NODES\", 0)\n",
    "compute_max_nodes = os.environ.get(\"AML_COMPUTE_CLUSTER_MAX_NODES\", 8)\n",
    "\n",
    "# This example uses CPU VM. For using GPU VM, set SKU to STANDARD_NC6\n",
    "vm_size = os.environ.get(\"AML_COMPUTE_CLUSTER_SKU\", \"STANDARD_D2_V2\")\n",
    "\n",
    "\n",
    "if compute_name in ws.compute_targets:\n",
    "    compute_target = ws.compute_targets[compute_name]\n",
    "    if compute_target and type(compute_target) is AmlCompute:\n",
    "        print('found compute target. just use it. ' + compute_name)\n",
    "else:\n",
    "    print('creating a new compute target...')\n",
    "    provisioning_config = AmlCompute.provisioning_configuration(vm_size = vm_size,\n",
    "                                                                min_nodes = compute_min_nodes, \n",
    "                                                                max_nodes = compute_max_nodes)\n",
    "\n",
    "    # create the cluster\n",
    "    compute_target = ComputeTarget.create(ws, compute_name, provisioning_config)\n",
    "    \n",
    "    # can poll for a minimum number of nodes and for a specific timeout. \n",
    "    # if no min node count is provided it will use the scale settings for the cluster\n",
    "    compute_target.wait_for_completion(show_output=True, min_node_count=None, timeout_in_minutes=20)\n",
    "    \n",
    "     # For a more detailed view of current AmlCompute status, use get_status()\n",
    "    print(compute_target.get_status().serialize())"
   ]
  },
  {
   "cell_type": "markdown",
   "metadata": {},
   "source": [
    "### Create a datastore containing sample images\n",
    "The input dataset used for this notebook differs from a standard MNIST dataset in that it has been converted to PNG images to demonstrate use of files as inputs to Batch Inference. A sample of PNG-converted images of the MNIST dataset were take from [this repository](https://github.com/myleott/mnist_png).\n",
    "\n",
    "We have created a public blob container `sampledata` on an account named `pipelinedata`, containing these images from the MNIST dataset. In the next step, we create a datastore with the name `images_datastore`, which points to this blob container. In the call to `register_azure_blob_container` below, setting the `overwrite` flag to `True` overwrites any datastore that was created previously with that name. \n",
    "\n",
    "This step can be changed to point to your blob container by providing your own `datastore_name`, `container_name`, and `account_name`."
   ]
  },
  {
   "cell_type": "markdown",
   "metadata": {},
   "source": [
    "Next, let's specify the default datastore for the outputs."
   ]
  },
  {
   "cell_type": "code",
   "execution_count": 201,
   "metadata": {},
   "outputs": [],
   "source": [
    "def_data_store = ws.get_default_datastore()"
   ]
  },
  {
   "cell_type": "markdown",
   "metadata": {},
   "source": [
    "### Create a FileDataset\n",
    "A [FileDataset](https://docs.microsoft.com/en-us/python/api/azureml-core/azureml.data.filedataset?view=azure-ml-py) references single or multiple files in your datastores or public urls. The files can be of any format. FileDataset provides you with the ability to download or mount the files to your compute. By creating a dataset, you create a reference to the data source location. If you applied any subsetting transformations to the dataset, they will be stored in the dataset as well. The data remains in its existing location, so no extra storage cost is incurred."
   ]
  },
  {
   "cell_type": "code",
   "execution_count": 202,
   "metadata": {},
   "outputs": [],
   "source": [
    "from azureml.core.dataset import Dataset\n",
    "input_raw_dataset = Dataset.File.from_files((def_data_store, 'datasets/trades_raw'), validate=False)"
   ]
  },
  {
   "cell_type": "markdown",
   "metadata": {},
   "source": [
    "The input dataset can be specified as a pipeline parameter, so that you can pass in new data when rerun the PRS pipeline."
   ]
  },
  {
   "cell_type": "code",
   "execution_count": 203,
   "metadata": {},
   "outputs": [],
   "source": [
    "from azureml.data.dataset_consumption_config import DatasetConsumptionConfig\n",
    "from azureml.pipeline.core import PipelineParameter\n",
    "\n",
    "pipeline_param = PipelineParameter(name=\"raw_trades_data\", default_value=input_raw_dataset)\n",
    "input_raw_trades_ds_consumption = DatasetConsumptionConfig(\"trades_param_config\", pipeline_param).as_mount()"
   ]
  },
  {
   "cell_type": "markdown",
   "metadata": {},
   "source": [
    "### Intermediate/Output Data\n",
    "Intermediate data (or output of a Step) is represented by [PipelineData](https://docs.microsoft.com/en-us/python/api/azureml-pipeline-core/azureml.pipeline.core.pipelinedata?view=azure-ml-py) object. PipelineData can be produced by one step and consumed in another step by providing the PipelineData object as an output of one step and the input of one or more steps."
   ]
  },
  {
   "cell_type": "code",
   "execution_count": 209,
   "metadata": {},
   "outputs": [
    {
     "name": "stderr",
     "output_type": "stream",
     "text": [
      "WARNING - Class OutputFileDatasetConfig: This is an experimental class, and may change at any time.<br/>For more information, see https://aka.ms/azuremlexperimental.\n",
      "WARNING - Class OutputDatasetConfig: This is an experimental class, and may change at any time.<br/>For more information, see https://aka.ms/azuremlexperimental.\n"
     ]
    }
   ],
   "source": [
    "from azureml.data import OutputFileDatasetConfig\n",
    "output_path = 'datasets/trades_merged_summary'\n",
    "output_data_ref = OutputFileDatasetConfig(\n",
    "    destination=(def_data_store, output_path), name=\"merged_trades\"\n",
    ")"
   ]
  },
  {
   "cell_type": "markdown",
   "metadata": {},
   "source": [
    "### Using your model to make batch predictions\n",
    "To use the model to make batch predictions, you need an **entry script** and a list of **dependencies**:\n",
    "\n",
    "#### An entry script\n",
    "This script accepts requests, scores the requests by using the model, and returns the results.\n",
    "- __init()__ - Typically this function loads the model into a global object. This function is run only once at the start of batch processing per worker node/process. Init method can make use of following environment variables (ParallelRunStep input):\n",
    "    1.\tAZUREML_BI_OUTPUT_PATH â€“ output folder path\n",
    "- __run(mini_batch)__ - The method to be parallelized. Each invocation will have one minibatch.<BR>\n",
    "__mini_batch__: Batch inference will invoke run method and pass either a list or Pandas DataFrame as an argument to the method. Each entry in min_batch will be - a filepath if input is a FileDataset, a Pandas DataFrame if input is a TabularDataset.<BR>\n",
    "__run__ method response: run() method should return a Pandas DataFrame or an array. For append_row output_action, these returned elements are appended into the common output file. For summary_only, the contents of the elements are ignored. For all output actions, each returned output element indicates one successful inference of input element in the input mini-batch.\n",
    "    User should make sure that enough data is included in inference result to map input to inference. Inference output will be written in output file and not guaranteed to be in order, user should use some key in the output to map it to input.\n",
    "    \n",
    "\n",
    "#### Dependencies\n",
    "Helper scripts or Python/Conda packages required to run the entry script."
   ]
  },
  {
   "cell_type": "code",
   "execution_count": 206,
   "metadata": {},
   "outputs": [
    {
     "name": "stdout",
     "output_type": "stream",
     "text": [
      "import argparse\n",
      "import os\n",
      "import numpy as np\n",
      "import pandas as pd\n",
      "from utils import (\n",
      "    merge_simultanous_rows,\n",
      "    save_to_blob,\n",
      "    standarize,\n",
      "    normalize,\n",
      "    scale,\n",
      "    select_first_file,\n",
      "    set_df_labels\n",
      ")\n",
      "from azureml.core import Run, Experiment, Workspace, Datastore, Dataset\n",
      "# from time import sleep\n",
      "# from tqdm import tqdm\n",
      "\n",
      "\n",
      "def init():\n",
      "    parser = argparse.ArgumentParser(\n",
      "        description=\"prs for merge\"\n",
      "    )\n",
      "    parser.add_argument(\n",
      "        \"--file_path\",\n",
      "        type=str,\n",
      "        required=False,\n",
      "        help=\"raw file\",\n",
      "    )\n",
      "    parser.add_argument(\n",
      "        \"--data_output\",\n",
      "        type=str,\n",
      "        required=False,\n",
      "        default='datasets/trades_merged_all',\n",
      "        help=\"path to merged trades files in Data Store\",\n",
      "    )\n",
      "    parser.add_argument(\n",
      "        \"--sample\",\n",
      "        type=int,\n",
      "        required=False,\n",
      "        default=0,\n",
      "        help=\"sample df to specific number of lines\",\n",
      "    )\n",
      "    global args\n",
      "    args, _ = parser.parse_known_args()\n",
      "\n",
      "    global default_datastore\n",
      "    global df_esv_data\n",
      "\n",
      "    run = Run.get_context()\n",
      "\n",
      "    if \"_OfflineRun\" in str(run):\n",
      "        ws = Workspace.from_config()\n",
      "    else:\n",
      "        ws = Run.get_context().experiment.workspace\n",
      "    default_datastore = ws.get_default_datastore()\n",
      "    default_datastore = ws.get_default_datastore()\n",
      "    esv_dataset = Dataset.File.from_files((default_datastore, \"datasets/esv\"))\n",
      "    with esv_dataset.mount() as mount_context:\n",
      "        df_esv_data = pd.read_csv(select_first_file(\n",
      "            mount_context.mount_point), header=None, names=['Date', 'ESV', 'd1', 'd2', 'd3'])\n",
      "    print(\"esv df shape: {}\".format(df_esv_data.shape))\n",
      "\n",
      "\n",
      "def run(mini_batch):\n",
      "    print(f'run method start: {__file__}, run({mini_batch})')\n",
      "    resultList = []\n",
      "\n",
      "    for raw_file_name in mini_batch:\n",
      "        # read each file\n",
      "        print(\"******  Processing {}\".format(os.path.basename(raw_file_name)))\n",
      "        df_1day_raw = pd.read_csv(raw_file_name, compression='gzip')\n",
      "        if df_1day_raw.shape[0] == 0:\n",
      "            resultList.append(\"{}, {}, {}\".format(os.path.basename(raw_file_name), df_1day_raw.shape, 'None'))\n",
      "            return resultList\n",
      "        # pick the right RIC\n",
      "        print(\"original shape of data: {}\".format(df_1day_raw.shape))\n",
      "        date_string = df_1day_raw.loc[0, 'Date-Time'][:10]\n",
      "        today_esv_df = df_esv_data.loc[df_esv_data['Date'] == date_string, 'ESV']\n",
      "        if len(today_esv_df)>0: \n",
      "            today_esv = today_esv_df.values[0].strip()\n",
      "        else:\n",
      "            print(\"No esv data, probably a holiday \")\n",
      "            resultList.append(\"{}, {}, {}\".format(os.path.basename(raw_file_name), df_1day_raw.shape, 'None'))\n",
      "            return resultList\n",
      "\n",
      "        df_1day_raw = df_1day_raw[df_1day_raw['#RIC'] == today_esv]\n",
      "        df_1day_raw.reset_index(level=0, inplace=True)\n",
      "        print(\"shape of data after selecting one RIC: {}\".format(df_1day_raw.shape))\n",
      "\n",
      "        # remove unwanted colls\n",
      "        drop_cols = ['#RIC', 'Acc. Volume', 'Domain', 'Alias Underlying RIC', 'Type']\n",
      "        df_1day_raw.drop(columns=drop_cols, inplace=True)\n",
      "\n",
      "        # sample data\n",
      "        if args.sample and (df_1day_raw.shape[0] > 0):\n",
      "\n",
      "            df_1day_raw = df_1day_raw.loc[:int(args.sample), :]\n",
      "            print(\"shape of data after sampling: {}\".format(\n",
      "                df_1day_raw.shape))\n",
      "\n",
      "        # Clean Trade Data- remove rows with negative dollar value\n",
      "        cleaning_cols = ['Price', 'Volume']\n",
      "        df_1day_raw[cleaning_cols] = df_1day_raw[cleaning_cols].apply(\n",
      "            lambda x: np.where(x <= 0, np.nan, x))\n",
      "        df_1day_raw.dropna(axis=0, inplace=True, subset=cleaning_cols)\n",
      "        print(\"shape of data after removing negative  values: {}\".format(df_1day_raw.shape))\n",
      "\n",
      "        df_1day_raw.dropna(axis=0, inplace=True)\n",
      "        df_1day_raw['Date-Time'] = pd.to_datetime(df_1day_raw['Date-Time'])\n",
      "        df_1day_merged = df_1day_raw.groupby(\n",
      "            'Date-Time').apply(merge_simultanous_rows)\n",
      "        # df_1day_quotes_merged = df_1day_raw.groupby('Date-Time').agg({'Bid Price': 'max',\n",
      "        #                                                                      'Ask Price': 'min',\n",
      "        #                                                                      'Bid Size': 'sum',\n",
      "        #                                                                      'Ask Size': 'sum',\n",
      "        #                                                                      'Seq. No.': 'min',\n",
      "        #                                                                      'Exch Time': 'min',\n",
      "        #                                                                      '#RIC': 'min'})\n",
      "        print(\"shape of data after merging simultanous quotes: {}\".format(df_1day_merged.shape))\n",
      "\n",
      "        # calculating ACC Vol\n",
      "        df_1day_merged[\"Acc Volume\"] = df_1day_merged[\"Volume\"].cumsum()\n",
      "\n",
      "        # setting index back to numbers\n",
      "        df_1day_merged.reset_index(level=0, inplace=True)\n",
      "\n",
      "        # Save the merged data\n",
      "        save_to_blob(df=df_1day_merged, datastore=default_datastore, path=args.data_output,\n",
      "                     file_name=os.path.basename(raw_file_name).replace('.csv.gz', '-mts.csv' if args.sample else '-mt.csv'))\n",
      "        # print(\"creating folder {}\".format(os.path.dirname(args.data_output)))\n",
      "        # os.makedirs(os.path.dirname(args.data_output), exist_ok=True)\n",
      "        # file_name=os.path.basename(raw_file_name).replace('.csv.gz', '-mts.csv' if args.sample else '-mt.csv')\n",
      "        # df_1day_merged.to_csv(os.path.join(args.data_output, file_name), index=False)\n",
      "\n",
      "        resultList.append(\"{}, {}, {}\".format(\n",
      "            os.path.basename(raw_file_name), df_1day_merged.shape, today_esv))\n",
      "\n",
      "    return resultList\n",
      "\n",
      "\n",
      "# if __name__ == \"__main__\":\n",
      "\n",
      "#     init()\n",
      "#     path_on_datastore = \"datasets/trades_raw_sample\"\n",
      "#     trades_raw_dataset = Dataset.File.from_files(\n",
      "#         (\n",
      "#             default_datastore,\n",
      "#             path_on_datastore,\n",
      "#         ),\n",
      "#         validate=True,\n",
      "#         ).mount()\n",
      "#     trades_raw_dataset.start()\n",
      "#     files_list = os.listdir(trades_raw_dataset.mount_point)\n",
      "#     print(\"there are {} files in the input dataset\".format(len(files_list)))\n",
      "    \n",
      "#     for i in tqdm(range(len(files_list))):\n",
      "#         results = run([os.path.join(trades_raw_dataset.mount_point,files_list[i])])\n",
      "#     trades_raw_dataset.stop()\n",
      "#     with open(\"trade_merge_logs_sample.log\",'w') as f:\n",
      "#         f.writelines([str(x)+'\\n' for x in results])\n",
      "        \n"
     ]
    }
   ],
   "source": [
    "scripts_folder = \"../src\"\n",
    "script_file = \"merge_trades_mp.py\"\n",
    "\n",
    "# peek at contents\n",
    "with open(os.path.join(scripts_folder, script_file)) as inference_file:\n",
    "    print(inference_file.read())"
   ]
  },
  {
   "cell_type": "markdown",
   "metadata": {},
   "source": [
    "## Build and run the batch inference pipeline\n",
    "The data, models, and compute resource are now available. Let's put all these together in a pipeline."
   ]
  },
  {
   "cell_type": "markdown",
   "metadata": {},
   "source": [
    "###  Specify the environment to run the script\n",
    "Specify the conda dependencies for your script. This will allow us to install pip packages as well as configure the inference environment.\n",
    "* Always include **azureml-core** and **azureml-dataset-runtime\\[fuse\\]** in the pip package list to make ParallelRunStep run properly.\n",
    "\n",
    "If you're using custom image (`batch_env.python.user_managed_dependencies = True`), you need to install the package to your image."
   ]
  },
  {
   "cell_type": "code",
   "execution_count": 207,
   "metadata": {},
   "outputs": [],
   "source": [
    "from azureml.core import Environment\n",
    "from azureml.core.runconfig import CondaDependencies, DEFAULT_CPU_IMAGE\n",
    "\n",
    "batch_conda_deps = CondaDependencies.create(pip_packages=[\"pandas\", \n",
    "                                                          \"azureml-core\", \"azureml-dataset-runtime[fuse]\"])\n",
    "batch_env = Environment(name=\"batch_environment\")\n",
    "batch_env.python.conda_dependencies = batch_conda_deps\n",
    "batch_env.docker.enabled = True\n",
    "batch_env.docker.base_image = DEFAULT_CPU_IMAGE"
   ]
  },
  {
   "cell_type": "markdown",
   "metadata": {},
   "source": [
    "###  Create the configuration to wrap the inference script"
   ]
  },
  {
   "cell_type": "code",
   "execution_count": 208,
   "metadata": {},
   "outputs": [],
   "source": [
    "from azureml.pipeline.core import PipelineParameter\n",
    "from azureml.pipeline.steps import ParallelRunStep, ParallelRunConfig\n",
    "\n",
    "parallel_run_config = ParallelRunConfig(\n",
    "    source_directory=scripts_folder,\n",
    "    entry_script=script_file,\n",
    "    mini_batch_size=PipelineParameter(name=\"batch_size_param\", default_value=\"4\"),\n",
    "    error_threshold=20,\n",
    "    output_action=\"append_row\",\n",
    "    append_row_file_name=\"trades_outputs.txt\",\n",
    "    environment=batch_env,\n",
    "    compute_target=compute_target,\n",
    "    process_count_per_node=PipelineParameter(name=\"process_count_param\", default_value=2),\n",
    "    run_invocation_timeout = 1200,\n",
    "    node_count=4\n",
    ")"
   ]
  },
  {
   "cell_type": "markdown",
   "metadata": {},
   "source": [
    "### Create the pipeline step\n",
    "Create the pipeline step using the script, environment configuration, and parameters. Specify the compute target you already attached to your workspace as the target of execution of the script. We will use ParallelRunStep to create the pipeline step."
   ]
  },
  {
   "cell_type": "code",
   "execution_count": 210,
   "metadata": {},
   "outputs": [],
   "source": [
    "parallelrun_step = ParallelRunStep(\n",
    "    name=\"merge-trade-data\",\n",
    "    parallel_run_config=parallel_run_config,\n",
    "    inputs=[ input_raw_trades_ds_consumption, ],\n",
    "    output=output_data_ref,\n",
    "    allow_reuse=False,\n",
    "    arguments=[ \"--data_output\", \"datasets/trades_merged_sample_15\", \"--sample\",\"1000\"],\n",
    ")"
   ]
  },
  {
   "cell_type": "markdown",
   "metadata": {},
   "source": [
    "### Run the pipeline\n",
    "At this point you can run the pipeline and examine the output it produced. The Experiment object is used to track the run of the pipeline"
   ]
  },
  {
   "cell_type": "code",
   "execution_count": 211,
   "metadata": {},
   "outputs": [
    {
     "name": "stdout",
     "output_type": "stream",
     "text": [
      "Created step merge-trade-data [909fdcea][6b8c057f-6729-4db2-8758-e004920ac7c9], (This step will run and generate new outputs)\n",
      "Submitted PipelineRun 42924946-8017-4ec0-9d65-135e32c4f9c9\n",
      "Link to Azure Machine Learning Portal: https://ml.azure.com/experiments/merge-trades-data/runs/42924946-8017-4ec0-9d65-135e32c4f9c9?wsid=/subscriptions/63a4bc7f-cd60-49a3-b139-49202d485eac/resourcegroups/fin-research/workspaces/fin-ws-wus2\n"
     ]
    }
   ],
   "source": [
    "from azureml.core import Experiment\n",
    "\n",
    "pipeline = Pipeline(workspace=ws, steps=[parallelrun_step])\n",
    "experiment = Experiment(ws, 'merge-trades-data')\n",
    "pipeline_run = experiment.submit(pipeline, tags={\"sample\":\"1000\",\"update\":\"csv\"})"
   ]
  },
  {
   "cell_type": "markdown",
   "metadata": {},
   "source": [
    "### Monitor the run\n",
    "\n",
    "The pipeline run status could be checked in Azure Machine Learning portal (https://ml.azure.com). The link to the pipeline run could be retrieved by inspecting the `pipeline_run` object."
   ]
  },
  {
   "cell_type": "code",
   "execution_count": 58,
   "metadata": {},
   "outputs": [
    {
     "data": {
      "text/html": [
       "<table style=\"width:100%\"><tr><th>Experiment</th><th>Id</th><th>Type</th><th>Status</th><th>Details Page</th><th>Docs Page</th></tr><tr><td>merge-trades-data</td><td>20793333-4e01-4c8d-835e-45775dcbdc39</td><td>azureml.PipelineRun</td><td>Running</td><td><a href=\"https://ml.azure.com/experiments/merge-trades-data/runs/20793333-4e01-4c8d-835e-45775dcbdc39?wsid=/subscriptions/63a4bc7f-cd60-49a3-b139-49202d485eac/resourcegroups/fin-research/workspaces/fin-ws-wus2\" target=\"_blank\" rel=\"noopener\">Link to Azure Machine Learning studio</a></td><td><a href=\"https://docs.microsoft.com/en-us/python/api/overview/azure/ml/intro?view=azure-ml-py\" target=\"_blank\" rel=\"noopener\">Link to Documentation</a></td></tr></table>"
      ],
      "text/plain": [
       "Run(Experiment: merge-trades-data,\n",
       "Id: 20793333-4e01-4c8d-835e-45775dcbdc39,\n",
       "Type: azureml.PipelineRun,\n",
       "Status: Running)"
      ]
     },
     "execution_count": 58,
     "metadata": {},
     "output_type": "execute_result"
    }
   ],
   "source": [
    "# This will output information of the pipeline run, including the link to the details page of portal.\n",
    "pipeline_run"
   ]
  },
  {
   "cell_type": "markdown",
   "metadata": {},
   "source": [
    "### Optional: View detailed logs (streaming) "
   ]
  },
  {
   "cell_type": "code",
   "execution_count": null,
   "metadata": {},
   "outputs": [],
   "source": [
    "# Wait the run for completion and show output log to console\n",
    "pipeline_run.wait_for_completion(show_output=True)"
   ]
  },
  {
   "cell_type": "markdown",
   "metadata": {},
   "source": [
    "### View the prediction results per input image\n",
    "In the digit_identification.py file above you can see that the ResultList with the filename and the prediction result gets returned. These are written to the DataStore specified in the PipelineData object as the output data, which in this case is called *inferences*. This containers the outputs from  all of the worker nodes used in the compute cluster. You can download this data to view the results ... below just filters to the first 10 rows"
   ]
  },
  {
   "cell_type": "code",
   "execution_count": null,
   "metadata": {},
   "outputs": [],
   "source": [
    "import pandas as pd\n",
    "import tempfile\n",
    "\n",
    "batch_run = pipeline_run.find_step_run(parallelrun_step.name)[0]\n",
    "batch_output = batch_run.get_output_data(output_dir.name)\n",
    "\n",
    "target_dir = tempfile.mkdtemp()\n",
    "batch_output.download(local_path=target_dir)\n",
    "result_file = os.path.join(target_dir, batch_output.path_on_datastore, parallel_run_config.append_row_file_name)\n",
    "\n",
    "df = pd.read_csv(result_file, delimiter=\":\", header=None)\n",
    "df.columns = [\"Filename\", \"Prediction\"]\n",
    "print(\"Prediction has \", df.shape[0], \" rows\")\n",
    "df.head(10) "
   ]
  },
  {
   "cell_type": "markdown",
   "metadata": {},
   "source": [
    "### Resubmit a with different dataset\n",
    "Since we made the input a `PipelineParameter`, we can resubmit with a different dataset without having to create an entirely new experiment. We'll use the same datastore but use only a single image."
   ]
  },
  {
   "cell_type": "code",
   "execution_count": null,
   "metadata": {},
   "outputs": [],
   "source": [
    "path_on_datastore = mnist_data.path('mnist/0.png')\n",
    "single_image_ds = Dataset.File.from_files(path=path_on_datastore, validate=False)"
   ]
  },
  {
   "cell_type": "code",
   "execution_count": null,
   "metadata": {},
   "outputs": [],
   "source": [
    "pipeline_run_2 = experiment.submit(pipeline, \n",
    "                                   pipeline_parameters={\"mnist_param\": single_image_ds, \n",
    "                                                        \"batch_size_param\": \"1\",\n",
    "                                                        \"process_count_param\": 1}\n",
    ")"
   ]
  },
  {
   "cell_type": "code",
   "execution_count": null,
   "metadata": {},
   "outputs": [],
   "source": [
    "# This will output information of the pipeline run, including the link to the details page of portal.\n",
    "pipeline_run_2"
   ]
  },
  {
   "cell_type": "code",
   "execution_count": null,
   "metadata": {},
   "outputs": [],
   "source": [
    "# Wait the run for completion and show output log to console\n",
    "pipeline_run_2.wait_for_completion(show_output=True)"
   ]
  },
  {
   "cell_type": "markdown",
   "metadata": {},
   "source": [
    "## Cleanup Compute resources\n",
    "\n",
    "For re-occurring jobs, it may be wise to keep compute the compute resources and allow compute nodes to scale down to 0. However, since this is just a single-run job, we are free to release the allocated compute resources."
   ]
  },
  {
   "cell_type": "code",
   "execution_count": null,
   "metadata": {},
   "outputs": [],
   "source": [
    "# uncomment below and run if compute resources are no longer needed \n",
    "# compute_target.delete() "
   ]
  }
 ],
 "metadata": {
  "authors": [
   {
    "name": "joringer"
   },
   {
    "name": "asraniwa"
   },
   {
    "name": "pansav"
   },
   {
    "name": "tracych"
   }
  ],
  "categories": [
   "how-to-use-azureml",
   "machine-learning-pipelines",
   "parallel-run"
  ],
  "category": "Other notebooks",
  "compute": [
   "AML Compute"
  ],
  "datasets": [
   "MNIST"
  ],
  "deployment": [
   "None"
  ],
  "exclude_from_index": false,
  "framework": [
   "None"
  ],
  "friendly_name": "MNIST data inferencing using ParallelRunStep",
  "index_order": 1,
  "kernelspec": {
   "display_name": "Python (mlops)",
   "language": "python",
   "name": "mlops"
  },
  "language_info": {
   "codemirror_mode": {
    "name": "ipython",
    "version": 3
   },
   "file_extension": ".py",
   "mimetype": "text/x-python",
   "name": "python",
   "nbconvert_exporter": "python",
   "pygments_lexer": "ipython3",
   "version": "3.6.10"
  },
  "tags": [
   "Batch Inferencing",
   "Pipeline"
  ],
  "task": "Digit identification"
 },
 "nbformat": 4,
 "nbformat_minor": 2
}
