{
 "cells": [
  {
   "cell_type": "code",
   "execution_count": 1,
   "metadata": {},
   "outputs": [],
   "source": [
    "%load_ext autoreload\n",
    "%autoreload 2\n",
    "%matplotlib inline"
   ]
  },
  {
   "cell_type": "code",
   "execution_count": 2,
   "metadata": {},
   "outputs": [],
   "source": [
    "import numpy as np\n",
    "import os\n",
    "import sys\n",
    "import time\n",
    "import pandas as pd \n",
    "from tqdm.notebook import tqdm_notebook\n",
    "from tqdm import tqdm\n",
    "import pickle\n",
    "# from keras.models import Sequential, load_model\n",
    "# from keras.layers import Dense, Dropout\n",
    "# from keras.layers import LSTM\n",
    "# from keras.callbacks import ModelCheckpoint, EarlyStopping, ReduceLROnPlateau, CSVLogger\n",
    "# from keras import optimizers\n",
    "# from keras.wrappers.scikit_learn import KerasClassifier\n",
    "from sklearn.preprocessing import MinMaxScaler\n",
    "from sklearn.model_selection import train_test_split\n",
    "from sklearn.metrics import mean_squared_error\n",
    "from sklearn.metrics import classification_report\n",
    "import lightgbm\n",
    "import logging\n",
    "# from src.utils import merge_simultanous_rows, save_to_blob, data_process"
   ]
  },
  {
   "cell_type": "code",
   "execution_count": 3,
   "metadata": {},
   "outputs": [],
   "source": [
    "from sklearn import model_selection\n",
    "from sklearn.linear_model import LogisticRegression\n",
    "from sklearn.model_selection import train_test_split\n",
    "from sklearn.discriminant_analysis import LinearDiscriminantAnalysis\n",
    "from sklearn.preprocessing import StandardScaler\n",
    "from sklearn.neural_network import MLPClassifier\n",
    "from sklearn.neighbors import KNeighborsClassifier\n",
    "from sklearn.svm import SVC\n",
    "from sklearn.gaussian_process import GaussianProcessClassifier\n",
    "from sklearn.gaussian_process.kernels import RBF\n",
    "from sklearn.tree import DecisionTreeClassifier\n",
    "from sklearn.ensemble import RandomForestClassifier, AdaBoostClassifier\n",
    "from sklearn.naive_bayes import GaussianNB\n",
    "from sklearn.discriminant_analysis import QuadraticDiscriminantAnalysis\n",
    "from sklearn.ensemble import RandomForestRegressor\n",
    "\n",
    "from sklearn.metrics import classification_report\n",
    "from sklearn.metrics import confusion_matrix\n",
    "from sklearn.metrics import accuracy_score"
   ]
  },
  {
   "cell_type": "code",
   "execution_count": 3,
   "metadata": {},
   "outputs": [],
   "source": [
    "min_max_mat=np.array([[2175,2175,1,1],[3398.25,3396.5,82120,70494]])"
   ]
  },
  {
   "cell_type": "code",
   "execution_count": 4,
   "metadata": {},
   "outputs": [
    {
     "data": {
      "text/plain": [
       "(2, 4)"
      ]
     },
     "execution_count": 4,
     "metadata": {},
     "output_type": "execute_result"
    }
   ],
   "source": [
    "min_max_mat.shape"
   ]
  },
  {
   "cell_type": "code",
   "execution_count": 5,
   "metadata": {},
   "outputs": [
    {
     "data": {
      "text/plain": [
       "MinMaxScaler()"
      ]
     },
     "execution_count": 5,
     "metadata": {},
     "output_type": "execute_result"
    }
   ],
   "source": [
    "min_max_scaler = MinMaxScaler()\n",
    "min_max_scaler.fit(min_max_mat)"
   ]
  },
  {
   "cell_type": "code",
   "execution_count": 4,
   "metadata": {},
   "outputs": [],
   "source": [
    "params = {\n",
    "    \"batch_size\": 20,  # 20<16<10, 25 was a bust\n",
    "    \"epochs\":10,\n",
    "    \"lr\": 0.00010000,\n",
    "    \"time_steps\": 100\n",
    "}\n",
    "\n",
    "iter_changes = \"dropout_layers_0.4_0.4\"\n",
    "\n",
    "# INPUT_PATH = PATH_TO_DRIVE_ML_DATA+\"/inputs\"\n",
    "# OUTPUT_PATH = PATH_TO_DRIVE_ML_DATA+\"/outputs/lstm_best_7-3-19_12AM/\"+iter_changes\n",
    "OUTPUT_PATH = '../data/models_mp_10000_0.0005'\n",
    "TIME_STEPS = params[\"time_steps\"]\n",
    "BATCH_SIZE = params[\"batch_size\"]"
   ]
  },
  {
   "cell_type": "code",
   "execution_count": 5,
   "metadata": {},
   "outputs": [],
   "source": [
    "def build_timeseries(mat, labels, steps = TIME_STEPS):\n",
    "    \"\"\"\n",
    "    Converts ndarray into timeseries format and supervised data format. Takes first TIME_STEPS\n",
    "    number of rows as input and sets the TIME_STEPS+1th data as corresponding output and so on.\n",
    "    :param mat: ndarray which holds the dataset\n",
    "    :return: returns two ndarrays-- input and output in format suitable to feed\n",
    "    to LSTM.\n",
    "    \"\"\"\n",
    "    # total number of time-series samples would be len(mat) - TIME_STEPS\n",
    "    dim_0 = mat.shape[0] - steps\n",
    "    dim_1 = mat.shape[1]\n",
    "    x = np.zeros((dim_0, steps, dim_1))\n",
    "    y = np.zeros((dim_0,))\n",
    "    print(\"dim_0\",dim_0)\n",
    "#     for i in tqdm_notebook(range(dim_0)):\n",
    "    for i in range(dim_0):\n",
    "        x[i] = mat[i:steps+i]\n",
    "        y[i] = labels[steps+i]\n",
    "#         if i < 10:\n",
    "#           print(i,\"-->\", x[i,-1,:], y[i])\n",
    "    print(\"length of time-series i/o\",x.shape,y.shape)\n",
    "    return x, y"
   ]
  },
  {
   "cell_type": "code",
   "execution_count": 6,
   "metadata": {},
   "outputs": [],
   "source": [
    "def trim_dataset(mat,batch_size):\n",
    "    \"\"\"\n",
    "    trims dataset to a size that's divisible by BATCH_SIZE\n",
    "    \"\"\"\n",
    "    no_of_rows_drop = mat.shape[0]%batch_size\n",
    "    if no_of_rows_drop > 0:\n",
    "        return mat[:-no_of_rows_drop]\n",
    "    else:\n",
    "        return mat"
   ]
  },
  {
   "cell_type": "code",
   "execution_count": 7,
   "metadata": {},
   "outputs": [],
   "source": [
    "def col_id_to_feature(ids, columns, steps):\n",
    "    base_cols = [columns[id % len(columns)] for id in ids]\n",
    "    lags = [id//len(columns) for id in ids]\n",
    "    col_names = ['{}_lag_{}'.format(base_cols[i], lags[i]) for i in range(len(ids))]\n",
    "    return base_cols, lags,  len(columns), col_names"
   ]
  },
  {
   "cell_type": "code",
   "execution_count": 11,
   "metadata": {},
   "outputs": [],
   "source": [
    "# df_1day_bars = pd.read_csv(files[0])\n",
    "# base_train_cols = ['Bid Price', 'Ask Price', 'Bid Size', 'Ask Size']\n",
    "# label_col = ['long_label']\n",
    "# # Adding new columns\n",
    "# df_1day_bars[\"BidAskRatio\"] = (\n",
    "#     df_1day_bars[\"Bid Size\"] / df_1day_bars[\"Ask Size\"]\n",
    "# )\n",
    "# new_train_cols = [f\"{col}_diff\" for col in base_train_cols]\n",
    "# df_1day_bars[new_train_cols] = df_1day_bars[base_train_cols].diff()\n",
    "# train_cols = base_train_cols+new_train_cols+['dailyVolatility']\n",
    "# print(\"shape of data after adding new cols: {}\".format(df_1day_bars.shape))\n",
    "# print(train_cols)\n",
    "# df_1day_bars.head()"
   ]
  },
  {
   "cell_type": "code",
   "execution_count": 12,
   "metadata": {},
   "outputs": [],
   "source": [
    "# a = df_1day_bars.diff()\n",
    "# a.dropna(inplace = True, axis=0)\n",
    "# a"
   ]
  },
  {
   "cell_type": "code",
   "execution_count": 14,
   "metadata": {},
   "outputs": [],
   "source": [
    "# for col in df_1day_bars.columns:\n",
    "#     print(col)"
   ]
  },
  {
   "cell_type": "code",
   "execution_count": 12,
   "metadata": {},
   "outputs": [
    {
     "name": "stdout",
     "output_type": "stream",
     "text": [
      "shapes of x_train (994556, 100, 9), y_train, (994556,), x_test (248640, 100, 9), y_test (248640,)\n"
     ]
    }
   ],
   "source": [
    "X_train, X_test, y_train, y_test = train_test_split(\n",
    "    x_full, y_full, test_size=0.2, shuffle=False\n",
    ")\n",
    "print(\n",
    "    \"shapes of x_train {}, y_train, {}, x_test {}, y_test {}\".format(\n",
    "        X_train.shape, y_train.shape, X_test.shape, y_test.shape\n",
    "    )\n",
    ")"
   ]
  },
  {
   "cell_type": "code",
   "execution_count": 13,
   "metadata": {},
   "outputs": [],
   "source": [
    "X_train = X_train[::,::,:8:]\n",
    "X_test = X_test[::,::,:8:]"
   ]
  },
  {
   "cell_type": "code",
   "execution_count": 14,
   "metadata": {},
   "outputs": [
    {
     "name": "stdout",
     "output_type": "stream",
     "text": [
      "shapes of x_train (994556, 100, 8), y_train, (994556,), x_test (248640, 100, 8), y_test (248640,)\n"
     ]
    }
   ],
   "source": [
    "print(\n",
    "    \"shapes of x_train {}, y_train, {}, x_test {}, y_test {}\".format(\n",
    "        X_train.shape, y_train.shape, X_test.shape, y_test.shape\n",
    "    )\n",
    ")"
   ]
  },
  {
   "cell_type": "code",
   "execution_count": 17,
   "metadata": {},
   "outputs": [
    {
     "name": "stdout",
     "output_type": "stream",
     "text": [
      "shapes of X_train (994540, 100, 8), y_train, (994540,), X_test (124260, 100, 8), y_test (124260,)\n"
     ]
    }
   ],
   "source": [
    "sample_data_size = -1\n",
    "# Some trimming:\n",
    "X_train =X_train[:sample_data_size] \n",
    "y_train = y_train[:sample_data_size] \n",
    "X_train = trim_dataset(X_train, BATCH_SIZE)\n",
    "y_train = trim_dataset(y_train, BATCH_SIZE)\n",
    "\n",
    "# Throwing away the starting steps to avoid leakage\n",
    "X_test = X_test[TIME_STEPS:sample_data_size]\n",
    "y_test = y_test[TIME_STEPS:sample_data_size]\n",
    "X_test = trim_dataset(X_test, BATCH_SIZE)\n",
    "y_test = trim_dataset(y_test, BATCH_SIZE)\n",
    "\n",
    "X_val, X_test = np.split(X_test,2)\n",
    "y_val, y_test = np.split(y_test,2)\n",
    "\n",
    "# X_test = trim_dataset(X_test, BATCH_SIZE)\n",
    "# y_test = trim_dataset(y_test, BATCH_SIZE)\n",
    "# X_val = trim_dataset(X_val, BATCH_SIZE)\n",
    "# y_val = trim_dataset(y_val, BATCH_SIZE)\n",
    "\n",
    "print(\n",
    "    \"shapes of X_train {}, y_train, {}, X_test {}, y_test {}\".format(\n",
    "        X_train.shape, y_train.shape, X_test.shape, y_test.shape\n",
    "    )\n",
    ")"
   ]
  },
  {
   "cell_type": "markdown",
   "metadata": {},
   "source": [
    "# LGMB training"
   ]
  },
  {
   "cell_type": "code",
   "execution_count": 33,
   "metadata": {},
   "outputs": [],
   "source": [
    "\n",
    "file_path_train_x = os.path.join('C:\\Git\\fin_research\\data\\local','X_train_data.npy')\n",
    "file_path_train_y = os.path.join('C:\\Git\\fin_research\\data\\local','y_train_data.npy')\n",
    "file_path_test_x = os.path.join('C:\\Git\\fin_research\\data\\local','X_test_data.npy')\n",
    "file_path_test_y = os.path.join('C:\\Git\\fin_research\\data\\local','y_test_data.npy')"
   ]
  },
  {
   "cell_type": "code",
   "execution_count": 24,
   "metadata": {},
   "outputs": [],
   "source": [
    "X_train = np.load(\"../data/local/X_train_data.npy\")\n",
    "y_train = np.load(\"../data/local/y_train_data.npy\")\n",
    "y_train = y_train.reshape(len(y_train))\n",
    "y_train+=1\n",
    "X_test = np.load(\"../data/local/X_test_data.npy\")\n",
    "y_test = np.load(\"../data/local/y_test_data.npy\")\n",
    "y_test = y_test.reshape(len(y_test))\n",
    "y_test+=1\n"
   ]
  },
  {
   "cell_type": "code",
   "execution_count": 33,
   "metadata": {},
   "outputs": [
    {
     "name": "stdout",
     "output_type": "stream",
     "text": [
      "dim_0 513756\n",
      "length of time-series i/o (513756, 100, 20) (513756,)\n",
      "dim_0 128364\n",
      "length of time-series i/o (128364, 100, 20) (128364,)\n"
     ]
    }
   ],
   "source": [
    "X_train_3d, y_train_3d = build_timeseries(X_train, y_train, steps = 100) \n",
    "X_test_3d, y_test_3d = build_timeseries(X_test, y_test, steps = 100) "
   ]
  },
  {
   "cell_type": "code",
   "execution_count": 34,
   "metadata": {},
   "outputs": [
    {
     "name": "stdout",
     "output_type": "stream",
     "text": [
      "shapes of X_train_2d (513756, 2000), y_train, (513756,), X_test_2d (128364, 2000), y_test_2d (128364,)\n"
     ]
    }
   ],
   "source": [
    "X_train_2d = X_train_3d.reshape(X_train_3d.shape[0],X_train_3d.shape[1]*X_train_3d.shape[2])\n",
    "X_test_2d = X_test_3d.reshape(X_test_3d.shape[0],X_test_3d.shape[1]*X_test_3d.shape[2])\n",
    "y_train_2d = y_train_3d\n",
    "y_test_2d = y_test_3d\n",
    "print(\n",
    "    \"shapes of X_train_2d {}, y_train, {}, X_test_2d {}, y_test_2d {}\".format(\n",
    "        X_train_2d.shape, y_train_2d.shape, X_test_2d.shape, y_test_2d.shape\n",
    "    )\n",
    ")"
   ]
  },
  {
   "cell_type": "code",
   "execution_count": 69,
   "metadata": {},
   "outputs": [],
   "source": [
    "# y_train=y_train.reshape(len(y_train))\n",
    "# y_train+=1\n",
    "# y_test=y_test.reshape(len(y_test))\n",
    "# y_test+=1"
   ]
  },
  {
   "cell_type": "code",
   "execution_count": 35,
   "metadata": {},
   "outputs": [],
   "source": [
    "train_data = lightgbm.Dataset(X_train_2d, label=y_train_2d)\n",
    "# val_data = lightgbm.Dataset(X_val_2d, label=y_val, reference=train_data)\n",
    "test_data = lightgbm.Dataset(X_test_2d, label=y_test_2d)"
   ]
  },
  {
   "cell_type": "code",
   "execution_count": 36,
   "metadata": {},
   "outputs": [],
   "source": [
    "parameters = {\n",
    "    'objective': 'multiclass',\n",
    "#     'metric': 'multi_logloss,auc_mu',\n",
    "    'metric': 'multi_logloss',\n",
    "    'is_unbalance': 'true',\n",
    "    'boosting': 'gbdt',\n",
    "    'num_class':3,\n",
    "    'metric_freq': 1,\n",
    "    'is_training_metric':'true',\n",
    "    'num_leaves': 50,\n",
    "    'num_trees':500,\n",
    "    'feature_fraction': 0.75,\n",
    "    'bagging_fraction': 0.5,\n",
    "    'bagging_freq': 20,\n",
    "    'min_data_in_leaf':50,\n",
    "    'learning_rate': 0.05,\n",
    "    'verbose': 1,\n",
    "    'early_stopping_round':5 \n",
    "}\n"
   ]
  },
  {
   "cell_type": "code",
   "execution_count": 37,
   "metadata": {},
   "outputs": [
    {
     "name": "stdout",
     "output_type": "stream",
     "text": [
      "Starting training...\n"
     ]
    },
    {
     "name": "stderr",
     "output_type": "stream",
     "text": [
      "C:\\Users\\amah\\.conda\\envs\\amlcomponentsdk\\lib\\site-packages\\lightgbm\\engine.py:151: UserWarning: Found `num_trees` in params. Will use it instead of argument\n",
      "  warnings.warn(\"Found `{}` in params. Will use it instead of argument\".format(alias))\n",
      "C:\\Users\\amah\\.conda\\envs\\amlcomponentsdk\\lib\\site-packages\\lightgbm\\engine.py:156: UserWarning: Found `early_stopping_round` in params. Will use it instead of argument\n",
      "  warnings.warn(\"Found `{}` in params. Will use it instead of argument\".format(alias))\n"
     ]
    },
    {
     "name": "stdout",
     "output_type": "stream",
     "text": [
      "[LightGBM] [Warning] Auto-choosing col-wise multi-threading, the overhead of testing was 130.540487 seconds.\n",
      "You can set `force_col_wise=true` to remove the overhead.\n",
      "[LightGBM] [Info] Total Bins 465943\n",
      "[LightGBM] [Info] Number of data points in the train set: 513756, number of used features: 2000\n",
      "[LightGBM] [Info] Start training from score -0.850041\n",
      "[LightGBM] [Info] Start training from score -1.896386\n",
      "[LightGBM] [Info] Start training from score -0.861584\n",
      "[1]\tvalid_0's multi_logloss: 0.962121\n",
      "Training until validation scores don't improve for 5 rounds\n",
      "[2]\tvalid_0's multi_logloss: 0.960662\n",
      "[3]\tvalid_0's multi_logloss: 0.959342\n",
      "[4]\tvalid_0's multi_logloss: 0.958072\n",
      "[5]\tvalid_0's multi_logloss: 0.956829\n",
      "[6]\tvalid_0's multi_logloss: 0.955586\n",
      "[7]\tvalid_0's multi_logloss: 0.954398\n",
      "[8]\tvalid_0's multi_logloss: 0.953274\n",
      "[9]\tvalid_0's multi_logloss: 0.952124\n",
      "[10]\tvalid_0's multi_logloss: 0.951009\n",
      "[11]\tvalid_0's multi_logloss: 0.94997\n",
      "[12]\tvalid_0's multi_logloss: 0.948934\n",
      "[13]\tvalid_0's multi_logloss: 0.948068\n",
      "[14]\tvalid_0's multi_logloss: 0.94707\n",
      "[15]\tvalid_0's multi_logloss: 0.94624\n",
      "[16]\tvalid_0's multi_logloss: 0.945343\n",
      "[17]\tvalid_0's multi_logloss: 0.944379\n",
      "[18]\tvalid_0's multi_logloss: 0.943585\n",
      "[19]\tvalid_0's multi_logloss: 0.942715\n",
      "[20]\tvalid_0's multi_logloss: 0.941938\n",
      "[21]\tvalid_0's multi_logloss: 0.941089\n",
      "[22]\tvalid_0's multi_logloss: 0.940355\n",
      "[23]\tvalid_0's multi_logloss: 0.939709\n",
      "[24]\tvalid_0's multi_logloss: 0.939013\n",
      "[25]\tvalid_0's multi_logloss: 0.938312\n",
      "[26]\tvalid_0's multi_logloss: 0.937786\n",
      "[27]\tvalid_0's multi_logloss: 0.937237\n",
      "[28]\tvalid_0's multi_logloss: 0.936622\n",
      "[29]\tvalid_0's multi_logloss: 0.936088\n",
      "[30]\tvalid_0's multi_logloss: 0.935498\n",
      "[31]\tvalid_0's multi_logloss: 0.935017\n",
      "[32]\tvalid_0's multi_logloss: 0.934497\n",
      "[33]\tvalid_0's multi_logloss: 0.934063\n",
      "[34]\tvalid_0's multi_logloss: 0.933658\n",
      "[35]\tvalid_0's multi_logloss: 0.93327\n",
      "[36]\tvalid_0's multi_logloss: 0.932957\n",
      "[37]\tvalid_0's multi_logloss: 0.932595\n",
      "[38]\tvalid_0's multi_logloss: 0.932177\n",
      "[39]\tvalid_0's multi_logloss: 0.93182\n",
      "[40]\tvalid_0's multi_logloss: 0.931353\n",
      "[41]\tvalid_0's multi_logloss: 0.930992\n",
      "[42]\tvalid_0's multi_logloss: 0.930683\n",
      "[43]\tvalid_0's multi_logloss: 0.93039\n",
      "[44]\tvalid_0's multi_logloss: 0.930057\n",
      "[45]\tvalid_0's multi_logloss: 0.929701\n",
      "[46]\tvalid_0's multi_logloss: 0.929377\n",
      "[47]\tvalid_0's multi_logloss: 0.929085\n",
      "[48]\tvalid_0's multi_logloss: 0.928824\n",
      "[49]\tvalid_0's multi_logloss: 0.928607\n",
      "[50]\tvalid_0's multi_logloss: 0.928427\n",
      "[51]\tvalid_0's multi_logloss: 0.928336\n",
      "[52]\tvalid_0's multi_logloss: 0.92814\n",
      "[53]\tvalid_0's multi_logloss: 0.927971\n",
      "[54]\tvalid_0's multi_logloss: 0.927805\n",
      "[55]\tvalid_0's multi_logloss: 0.927615\n",
      "[56]\tvalid_0's multi_logloss: 0.927439\n",
      "[57]\tvalid_0's multi_logloss: 0.927285\n",
      "[58]\tvalid_0's multi_logloss: 0.927167\n",
      "[59]\tvalid_0's multi_logloss: 0.927135\n",
      "[60]\tvalid_0's multi_logloss: 0.926996\n",
      "[61]\tvalid_0's multi_logloss: 0.926892\n",
      "[62]\tvalid_0's multi_logloss: 0.926855\n",
      "[63]\tvalid_0's multi_logloss: 0.926769\n",
      "[64]\tvalid_0's multi_logloss: 0.926673\n",
      "[65]\tvalid_0's multi_logloss: 0.926682\n",
      "[66]\tvalid_0's multi_logloss: 0.926621\n",
      "[67]\tvalid_0's multi_logloss: 0.926768\n",
      "[68]\tvalid_0's multi_logloss: 0.926718\n",
      "[69]\tvalid_0's multi_logloss: 0.926712\n",
      "[70]\tvalid_0's multi_logloss: 0.926747\n",
      "[71]\tvalid_0's multi_logloss: 0.926745\n",
      "Early stopping, best iteration is:\n",
      "[66]\tvalid_0's multi_logloss: 0.926621\n"
     ]
    }
   ],
   "source": [
    "print('Starting training...')\n",
    "# train\n",
    "gbm = lightgbm.train(params=parameters,\n",
    "                     train_set = train_data,\n",
    "                     num_boost_round=20,\n",
    "                     valid_sets=test_data,\n",
    "                     early_stopping_rounds=5)"
   ]
  },
  {
   "cell_type": "code",
   "execution_count": 39,
   "metadata": {},
   "outputs": [
    {
     "name": "stdout",
     "output_type": "stream",
     "text": [
      "              precision    recall  f1-score   support\n",
      "\n",
      "        loss       0.45      0.45      0.45     58589\n",
      "      no hit       0.67      0.00      0.00     13297\n",
      "        gain       0.44      0.54      0.48     56478\n",
      "\n",
      "    accuracy                           0.44    128364\n",
      "   macro avg       0.52      0.33      0.31    128364\n",
      "weighted avg       0.47      0.44      0.42    128364\n",
      "\n"
     ]
    }
   ],
   "source": [
    "y_pred = gbm.predict(X_test_2d)\n",
    "y_pred_flat = np.argmax(y_pred, axis=1)\n",
    "print(classification_report(y_test_2d, y_pred_flat, target_names=['loss','no hit','gain']))\n"
   ]
  },
  {
   "cell_type": "code",
   "execution_count": 48,
   "metadata": {},
   "outputs": [],
   "source": [
    "pg = 56478/(56478+13297+58589)\n",
    "pl = 58589/(56478+13297+58589)\n",
    "pn = 13297/(56478+13297+58589)\n"
   ]
  },
  {
   "cell_type": "code",
   "execution_count": 40,
   "metadata": {},
   "outputs": [
    {
     "data": {
      "image/png": "[encoded data removed]",
      "text/plain": [
       "<Figure size 1080x1080 with 1 Axes>"
      ]
     },
     "metadata": {
      "needs_background": "light"
     },
     "output_type": "display_data"
    }
   ],
   "source": [
    "ax = lightgbm.plot_importance(gbm, max_num_features=40, figsize=(15,15))\n"
   ]
  },
  {
   "cell_type": "code",
   "execution_count": 46,
   "metadata": {},
   "outputs": [
    {
     "data": {
      "text/plain": [
       "['ffd_Bid Price_lag_0',\n",
       " 'ffd_Ask Price_lag_0',\n",
       " 'ffd_Bid Price_lag_2',\n",
       " 'Ask Price_lag_0',\n",
       " 'ffd_Ask Price_lag_1',\n",
       " 'ffd_Ask Price_lag_2',\n",
       " 'Bid Price_lag_0',\n",
       " 'Bid Size_lag_1',\n",
       " 'Bid Price_lag_37']"
      ]
     },
     "execution_count": 46,
     "metadata": {},
     "output_type": "execute_result"
    }
   ],
   "source": [
    "features = ['Bid Price', 'Ask Price', 'Bid Size', 'Ask Size', 'Bid Price_diff', 'Ask Price_diff', 'Bid Size_diff', 'Ask Size_diff', 'BidAskRatio', 'TWBidAskRatio']\n",
    "ffd_features = [f'ffd_{feature}' for feature in features]\n",
    "features = features + ffd_features\n",
    "def col_id_to_feature(ids, columns, steps):\n",
    "    base_cols = [columns[id % len(columns)] for id in ids]\n",
    "    lags =  [(steps -1) - (id//len(columns)) for id in ids]\n",
    "    col_names = ['{}_lag_{}'.format(base_cols[i], lags[i]) for i in range(len(ids))]\n",
    "    return col_names\n",
    "col_id_to_feature([1990,1991, 1950, 1981,1971,1951, 1980, 1962, 1240],columns = features,steps=100)\n"
   ]
  },
  {
   "cell_type": "markdown",
   "metadata": {},
   "source": [
    "# LGBM no lag\n",
    "             precision    recall  f1-score   support\n",
    "\n",
    "        loss       0.46      0.52      0.49     58643\n",
    "      no hit       0.50      0.00      0.00     13300\n",
    "        gain       0.46      0.50      0.48     56521\n",
    "\n",
    "    accuracy                           0.46    128464\n",
    "   macro avg       0.47      0.34      0.32    128464\n",
    "weighted avg       0.46      0.46      0.43    128464\n",
    "```['Bid Price_lag_0',\n",
    " 'Ask Price_lag_0',\n",
    " 'ffd_Bid Price_lag_0',\n",
    " 'ffd_Ask Price_lag_0',\n",
    " 'Bid Size_lag_0',\n",
    " 'ffd_Ask Size_lag_0',\n",
    " 'ffd_Bid Size_lag_0']```"
   ]
  },
  {
   "cell_type": "markdown",
   "metadata": {},
   "source": [
    "# lgbm on 100 days lag, base cols\n",
    "y_pred = gbm.predict(X_test_2d)\n",
    "y_pred_flat = np.argmax(y_pred, axis=1)\n",
    "print(classification_report(y_test, y_pred_flat, target_names=['loss','no hit','gain']))\n",
    "              precision    recall  f1-score   support\n",
    "\n",
    "        loss       0.42      0.60      0.49     52110\n",
    "      no hit       0.72      0.01      0.01     21360\n",
    "        gain       0.41      0.40      0.41     51010\n",
    "\n",
    "    accuracy                           0.42    124480\n",
    "   macro avg       0.52      0.33      0.30    124480\n",
    "weighted avg       0.47      0.42      0.37    124480"
   ]
  },
  {
   "cell_type": "code",
   "execution_count": 100,
   "metadata": {},
   "outputs": [],
   "source": [
    "# # prepare configuration for cross validation test harness\n",
    "# seed = 7\n",
    "# # prepare models\n",
    "# models = []\n",
    "# # models.append(('LR', LogisticRegression()))\n",
    "# # models.append(('LDA', LinearDiscriminantAnalysis()))\n",
    "# models.append(('RFC',RandomForestClassifier()))\n",
    "# models.append(('CART', DecisionTreeClassifier()))\n",
    "# models.append(('NB', GaussianNB()))\n",
    "# models.append(('NN', MLPClassifier(alpha=1)))\n",
    "# models.append(('QDA',QuadraticDiscriminantAnalysis()))\n",
    "# models.append(('SVM', SVC()))\n",
    "# # evaluate each model in turn\n",
    "# results = []\n",
    "# results_cust=[]\n",
    "# names = []\n",
    "# scoring = 'accuracy'\n",
    "# print('Subscribers:')\n",
    "# for name, model in models:\n",
    "#     model.fit(X_train_2d, y_train_2d)\n",
    "#     y_pred = gbm.predict(X_test_2d)\n",
    "#     y_pred_flat = np.argmax(y_pred, axis=1)\n",
    "#     cm = confusion_matrix(y_test, y_pred_flat)\n",
    "\n",
    "#     print(\"{} gain precision: {:.2f}\".format(name, cm[2,2]/sum(cm[:,2])))\n",
    "#     print(classification_report(y_test, y_pred_flat, target_names=['loss','no hit','gain']))\n",
    "# print('Customers:')"
   ]
  },
  {
   "cell_type": "code",
   "execution_count": null,
   "metadata": {},
   "outputs": [],
   "source": [
    "name = \"LR\"\n",
    "model = LogisticRegression()\n",
    "model.fit(X_train_2d, y_train_2d)\n",
    "y_pred_flat = model.predict(X_test_2d)\n",
    "cm = confusion_matrix(y_test_2d, y_pred_flat)\n",
    "\n",
    "print(\"{} gain precision: {:.2f}\".format(name, cm[2,2]/sum(cm[:,2])))\n",
    "print(classification_report(y_test_2d, y_pred_flat, target_names=['loss','no hit','gain']))"
   ]
  },
  {
   "cell_type": "markdown",
   "metadata": {},
   "source": [
    "# LR lag 10\n",
    "LR gain precision: 0.48\n",
    "```\n",
    "              precision    recall  f1-score   support\n",
    "\n",
    "        loss       0.45      0.87      0.59     58633\n",
    "      no hit       0.30      0.00      0.00     13300\n",
    "        gain       0.48      0.13      0.21     56521\n",
    "\n",
    "    accuracy                           0.46    128454\n",
    "   macro avg       0.41      0.33      0.27    128454\n",
    "weighted avg       0.45      0.46      0.36    128454\n",
    "\n",
    "```\n",
    "```\n",
    "feature imporance \n",
    "['ffd_Bid Size_lag_0',\n",
    " 'ffd_Bid Size_lag_1',\n",
    " 'ffd_Ask Size_lag_0',\n",
    " 'ffd_Ask Size_lag_1',\n",
    " 'ffd_Bid Size_lag_2',\n",
    " 'ffd_Ask Size_lag_2',\n",
    " 'ffd_Bid Size_lag_3',\n",
    " 'ffd_Ask Size_lag_3',\n",
    " 'ffd_Bid Size_lag_4',\n",
    " 'ffd_Bid Size_lag_5']\n",
    " ```"
   ]
  },
  {
   "cell_type": "code",
   "execution_count": 117,
   "metadata": {},
   "outputs": [
    {
     "data": {
      "text/plain": [
       "['ffd_Bid Size_lag_0',\n",
       " 'ffd_Bid Size_lag_1',\n",
       " 'ffd_Ask Size_lag_0',\n",
       " 'ffd_Ask Size_lag_1',\n",
       " 'ffd_Bid Size_lag_2',\n",
       " 'ffd_Ask Size_lag_2',\n",
       " 'ffd_Bid Size_lag_3',\n",
       " 'ffd_Ask Size_lag_3',\n",
       " 'ffd_Bid Size_lag_4',\n",
       " 'ffd_Bid Size_lag_5']"
      ]
     },
     "execution_count": 117,
     "metadata": {},
     "output_type": "execute_result"
    }
   ],
   "source": [
    "arr = model.coef_[2]\n",
    "\n",
    "top_feature_inds = arr.argsort()[::-1][:10]\n",
    "features = ['Bid Price', 'Ask Price', 'Bid Size', 'Ask Size', 'Bid Price_diff', 'Ask Price_diff', 'Bid Size_diff', 'Ask Size_diff', 'BidAskRatio', 'TWBidAskRatio']\n",
    "ffd_features = [f'ffd_{feature}' for feature in features]\n",
    "features = features + ffd_features\n",
    "def col_id_to_feature(ids, columns, steps):\n",
    "    base_cols = [columns[id % len(columns)] for id in ids]\n",
    "    lags = [id//len(columns) for id in ids]\n",
    "    col_names = ['{}_lag_{}'.format(base_cols[i], lags[i]) for i in range(len(ids))]\n",
    "    return col_names\n",
    "col_id_to_feature(top_feature_inds,columns = features,steps=10)"
   ]
  },
  {
   "cell_type": "code",
   "execution_count": null,
   "metadata": {},
   "outputs": [],
   "source": [
    "name, model = 'RFC',RandomForestClassifier(n_estimators=40, verbose = 2, n_jobs=-1)\n",
    "model.fit(X_train_2d, y_train_2d)\n",
    "y_pred_flat = model.predict(X_test_2d)\n",
    "cm = confusion_matrix(y_test_2d, y_pred_flat)\n",
    "\n",
    "print(\"{} gain precision: {:.2f}\".format(name, cm[2,2]/sum(cm[:,2])))\n",
    "print(classification_report(y_test_2d, y_pred_flat, target_names=['loss','no hit','gain']))"
   ]
  },
  {
   "cell_type": "markdown",
   "metadata": {},
   "source": [
    "base lgbm results:\n",
    "           precision    recall  f1-score   support\n",
    "\n",
    "        loss       0.42      0.60      0.49     52110\n",
    "      no hit       0.72      0.01      0.01     21360\n",
    "        gain       0.41      0.40      0.41     51010\n",
    "\n",
    "    accuracy                           0.42    124480\n",
    "   macro avg       0.52      0.33      0.30    124480\n",
    "weighted avg       0.47      0.42      0.37    124480"
   ]
  },
  {
   "cell_type": "code",
   "execution_count": null,
   "metadata": {},
   "outputs": [],
   "source": [
    "name, model = 'Tree',DecisionTreeClassifier()\n",
    "model.fit(X_train_2d, y_train_2d)\n",
    "y_pred_flat = model.predict(X_test_2d)\n",
    "cm = confusion_matrix(y_test_2d, y_pred_flat)\n",
    "\n",
    "print(\"{} gain precision: {:.2f}\".format(name, cm[2,2]/sum(cm[:,2])))\n",
    "print(classification_report(y_test_2d, y_pred_flat, target_names=['loss','no hit','gain']))"
   ]
  },
  {
   "cell_type": "code",
   "execution_count": 17,
   "metadata": {},
   "outputs": [],
   "source": [
    "def create_model(n_timesteps, n_features, n_outputs):\n",
    "    model = Sequential()\n",
    "    model.add(LSTM(100, input_shape=(n_timesteps,n_features)))\n",
    "    model.add(Dropout(0.5))\n",
    "    model.add(Dense(100, activation='relu'))\n",
    "    model.add(Dense(n_outputs, activation='softmax'))\n",
    "    model.compile(loss='categorical_crossentropy', optimizer='adam', metrics=['accuracy'])\n",
    "    return model"
   ]
  },
  {
   "cell_type": "code",
   "execution_count": 135,
   "metadata": {},
   "outputs": [
    {
     "name": "stdout",
     "output_type": "stream",
     "text": [
      "Epoch 1/15\n",
      "15568/15568 [==============================] - 3628s 232ms/step - loss: 0.9948 - accuracy: 0.4277 - val_loss: 0.8799 - val_accuracy: 0.4697\n",
      "Epoch 2/15\n",
      "15568/15568 [==============================] - 3425s 220ms/step - loss: 0.9729 - accuracy: 0.4395 - val_loss: 0.8504 - val_accuracy: 0.4852\n",
      "Epoch 3/15\n",
      "15568/15568 [==============================] - 4597s 295ms/step - loss: 0.9564 - accuracy: 0.4516 - val_loss: 0.8783 - val_accuracy: 0.4833\n",
      "Epoch 4/15\n",
      "15568/15568 [==============================] - 1810s 116ms/step - loss: 0.9500 - accuracy: 0.4536 - val_loss: 0.8563 - val_accuracy: 0.4771\n",
      "Epoch 5/15\n",
      "15568/15568 [==============================] - 1838s 118ms/step - loss: 0.9502 - accuracy: 0.4513 - val_loss: 0.8436 - val_accuracy: 0.4820\n",
      "Epoch 6/15\n",
      "15568/15568 [==============================] - 12752s 819ms/step - loss: 0.9452 - accuracy: 0.4559 - val_loss: 0.8713 - val_accuracy: 0.4712\n",
      "Epoch 7/15\n",
      "15568/15568 [==============================] - 19089s 1s/step - loss: 0.9438 - accuracy: 0.4565 - val_loss: 0.8597 - val_accuracy: 0.4684\n",
      "Epoch 8/15\n",
      " 9306/15568 [================>.............] - ETA: 11:49 - loss: 0.9427 - accuracy: 0.4532"
     ]
    },
    {
     "ename": "KeyboardInterrupt",
     "evalue": "",
     "output_type": "error",
     "traceback": [
      "\u001b[1;31m---------------------------------------------------------------------------\u001b[0m",
      "\u001b[1;31mKeyboardInterrupt\u001b[0m                         Traceback (most recent call last)",
      "\u001b[1;32m<ipython-input-135-7f4f17f6dd88>\u001b[0m in \u001b[0;36m<module>\u001b[1;34m\u001b[0m\n\u001b[0;32m      1\u001b[0m \u001b[0mverbose\u001b[0m\u001b[1;33m,\u001b[0m \u001b[0mepochs\u001b[0m\u001b[1;33m,\u001b[0m \u001b[0mbatch_size\u001b[0m \u001b[1;33m=\u001b[0m \u001b[1;36m1\u001b[0m\u001b[1;33m,\u001b[0m \u001b[1;36m15\u001b[0m\u001b[1;33m,\u001b[0m \u001b[1;36m64\u001b[0m\u001b[1;33m\u001b[0m\u001b[1;33m\u001b[0m\u001b[0m\n\u001b[0;32m      2\u001b[0m \u001b[0mmodel\u001b[0m \u001b[1;33m=\u001b[0m \u001b[0mcreate_model\u001b[0m\u001b[1;33m(\u001b[0m\u001b[0mTIME_STEPS\u001b[0m\u001b[1;33m,\u001b[0m \u001b[0mX_train\u001b[0m\u001b[1;33m.\u001b[0m\u001b[0mshape\u001b[0m\u001b[1;33m[\u001b[0m\u001b[1;36m2\u001b[0m\u001b[1;33m]\u001b[0m\u001b[1;33m,\u001b[0m\u001b[0my_train\u001b[0m\u001b[1;33m.\u001b[0m\u001b[0mshape\u001b[0m\u001b[1;33m[\u001b[0m\u001b[1;36m1\u001b[0m\u001b[1;33m]\u001b[0m\u001b[1;33m)\u001b[0m\u001b[1;33m\u001b[0m\u001b[1;33m\u001b[0m\u001b[0m\n\u001b[1;32m----> 3\u001b[1;33m \u001b[0mmodel\u001b[0m\u001b[1;33m.\u001b[0m\u001b[0mfit\u001b[0m\u001b[1;33m(\u001b[0m\u001b[0mX_train\u001b[0m\u001b[1;33m,\u001b[0m \u001b[0my_train\u001b[0m\u001b[1;33m,\u001b[0m \u001b[0mvalidation_data\u001b[0m \u001b[1;33m=\u001b[0m \u001b[1;33m(\u001b[0m\u001b[0mX_val\u001b[0m\u001b[1;33m,\u001b[0m \u001b[0my_val\u001b[0m\u001b[1;33m)\u001b[0m\u001b[1;33m,\u001b[0m \u001b[0mepochs\u001b[0m\u001b[1;33m=\u001b[0m\u001b[0mepochs\u001b[0m\u001b[1;33m,\u001b[0m \u001b[0mbatch_size\u001b[0m\u001b[1;33m=\u001b[0m\u001b[0mbatch_size\u001b[0m\u001b[1;33m,\u001b[0m \u001b[0mverbose\u001b[0m\u001b[1;33m=\u001b[0m\u001b[0mverbose\u001b[0m\u001b[1;33m)\u001b[0m\u001b[1;33m\u001b[0m\u001b[1;33m\u001b[0m\u001b[0m\n\u001b[0m",
      "\u001b[1;32m~\\.conda\\envs\\mlops\\lib\\site-packages\\tensorflow\\python\\keras\\engine\\training.py\u001b[0m in \u001b[0;36mfit\u001b[1;34m(self, x, y, batch_size, epochs, verbose, callbacks, validation_split, validation_data, shuffle, class_weight, sample_weight, initial_epoch, steps_per_epoch, validation_steps, validation_batch_size, validation_freq, max_queue_size, workers, use_multiprocessing)\u001b[0m\n\u001b[0;32m   1098\u001b[0m                 _r=1):\n\u001b[0;32m   1099\u001b[0m               \u001b[0mcallbacks\u001b[0m\u001b[1;33m.\u001b[0m\u001b[0mon_train_batch_begin\u001b[0m\u001b[1;33m(\u001b[0m\u001b[0mstep\u001b[0m\u001b[1;33m)\u001b[0m\u001b[1;33m\u001b[0m\u001b[1;33m\u001b[0m\u001b[0m\n\u001b[1;32m-> 1100\u001b[1;33m               \u001b[0mtmp_logs\u001b[0m \u001b[1;33m=\u001b[0m \u001b[0mself\u001b[0m\u001b[1;33m.\u001b[0m\u001b[0mtrain_function\u001b[0m\u001b[1;33m(\u001b[0m\u001b[0miterator\u001b[0m\u001b[1;33m)\u001b[0m\u001b[1;33m\u001b[0m\u001b[1;33m\u001b[0m\u001b[0m\n\u001b[0m\u001b[0;32m   1101\u001b[0m               \u001b[1;32mif\u001b[0m \u001b[0mdata_handler\u001b[0m\u001b[1;33m.\u001b[0m\u001b[0mshould_sync\u001b[0m\u001b[1;33m:\u001b[0m\u001b[1;33m\u001b[0m\u001b[1;33m\u001b[0m\u001b[0m\n\u001b[0;32m   1102\u001b[0m                 \u001b[0mcontext\u001b[0m\u001b[1;33m.\u001b[0m\u001b[0masync_wait\u001b[0m\u001b[1;33m(\u001b[0m\u001b[1;33m)\u001b[0m\u001b[1;33m\u001b[0m\u001b[1;33m\u001b[0m\u001b[0m\n",
      "\u001b[1;32m~\\.conda\\envs\\mlops\\lib\\site-packages\\tensorflow\\python\\eager\\def_function.py\u001b[0m in \u001b[0;36m__call__\u001b[1;34m(self, *args, **kwds)\u001b[0m\n\u001b[0;32m    826\u001b[0m     \u001b[0mtracing_count\u001b[0m \u001b[1;33m=\u001b[0m \u001b[0mself\u001b[0m\u001b[1;33m.\u001b[0m\u001b[0mexperimental_get_tracing_count\u001b[0m\u001b[1;33m(\u001b[0m\u001b[1;33m)\u001b[0m\u001b[1;33m\u001b[0m\u001b[1;33m\u001b[0m\u001b[0m\n\u001b[0;32m    827\u001b[0m     \u001b[1;32mwith\u001b[0m \u001b[0mtrace\u001b[0m\u001b[1;33m.\u001b[0m\u001b[0mTrace\u001b[0m\u001b[1;33m(\u001b[0m\u001b[0mself\u001b[0m\u001b[1;33m.\u001b[0m\u001b[0m_name\u001b[0m\u001b[1;33m)\u001b[0m \u001b[1;32mas\u001b[0m \u001b[0mtm\u001b[0m\u001b[1;33m:\u001b[0m\u001b[1;33m\u001b[0m\u001b[1;33m\u001b[0m\u001b[0m\n\u001b[1;32m--> 828\u001b[1;33m       \u001b[0mresult\u001b[0m \u001b[1;33m=\u001b[0m \u001b[0mself\u001b[0m\u001b[1;33m.\u001b[0m\u001b[0m_call\u001b[0m\u001b[1;33m(\u001b[0m\u001b[1;33m*\u001b[0m\u001b[0margs\u001b[0m\u001b[1;33m,\u001b[0m \u001b[1;33m**\u001b[0m\u001b[0mkwds\u001b[0m\u001b[1;33m)\u001b[0m\u001b[1;33m\u001b[0m\u001b[1;33m\u001b[0m\u001b[0m\n\u001b[0m\u001b[0;32m    829\u001b[0m       \u001b[0mcompiler\u001b[0m \u001b[1;33m=\u001b[0m \u001b[1;34m\"xla\"\u001b[0m \u001b[1;32mif\u001b[0m \u001b[0mself\u001b[0m\u001b[1;33m.\u001b[0m\u001b[0m_experimental_compile\u001b[0m \u001b[1;32melse\u001b[0m \u001b[1;34m\"nonXla\"\u001b[0m\u001b[1;33m\u001b[0m\u001b[1;33m\u001b[0m\u001b[0m\n\u001b[0;32m    830\u001b[0m       \u001b[0mnew_tracing_count\u001b[0m \u001b[1;33m=\u001b[0m \u001b[0mself\u001b[0m\u001b[1;33m.\u001b[0m\u001b[0mexperimental_get_tracing_count\u001b[0m\u001b[1;33m(\u001b[0m\u001b[1;33m)\u001b[0m\u001b[1;33m\u001b[0m\u001b[1;33m\u001b[0m\u001b[0m\n",
      "\u001b[1;32m~\\.conda\\envs\\mlops\\lib\\site-packages\\tensorflow\\python\\eager\\def_function.py\u001b[0m in \u001b[0;36m_call\u001b[1;34m(self, *args, **kwds)\u001b[0m\n\u001b[0;32m    853\u001b[0m       \u001b[1;31m# In this case we have created variables on the first call, so we run the\u001b[0m\u001b[1;33m\u001b[0m\u001b[1;33m\u001b[0m\u001b[1;33m\u001b[0m\u001b[0m\n\u001b[0;32m    854\u001b[0m       \u001b[1;31m# defunned version which is guaranteed to never create variables.\u001b[0m\u001b[1;33m\u001b[0m\u001b[1;33m\u001b[0m\u001b[1;33m\u001b[0m\u001b[0m\n\u001b[1;32m--> 855\u001b[1;33m       \u001b[1;32mreturn\u001b[0m \u001b[0mself\u001b[0m\u001b[1;33m.\u001b[0m\u001b[0m_stateless_fn\u001b[0m\u001b[1;33m(\u001b[0m\u001b[1;33m*\u001b[0m\u001b[0margs\u001b[0m\u001b[1;33m,\u001b[0m \u001b[1;33m**\u001b[0m\u001b[0mkwds\u001b[0m\u001b[1;33m)\u001b[0m  \u001b[1;31m# pylint: disable=not-callable\u001b[0m\u001b[1;33m\u001b[0m\u001b[1;33m\u001b[0m\u001b[0m\n\u001b[0m\u001b[0;32m    856\u001b[0m     \u001b[1;32melif\u001b[0m \u001b[0mself\u001b[0m\u001b[1;33m.\u001b[0m\u001b[0m_stateful_fn\u001b[0m \u001b[1;32mis\u001b[0m \u001b[1;32mnot\u001b[0m \u001b[1;32mNone\u001b[0m\u001b[1;33m:\u001b[0m\u001b[1;33m\u001b[0m\u001b[1;33m\u001b[0m\u001b[0m\n\u001b[0;32m    857\u001b[0m       \u001b[1;31m# Release the lock early so that multiple threads can perform the call\u001b[0m\u001b[1;33m\u001b[0m\u001b[1;33m\u001b[0m\u001b[1;33m\u001b[0m\u001b[0m\n",
      "\u001b[1;32m~\\.conda\\envs\\mlops\\lib\\site-packages\\tensorflow\\python\\eager\\function.py\u001b[0m in \u001b[0;36m__call__\u001b[1;34m(self, *args, **kwargs)\u001b[0m\n\u001b[0;32m   2941\u001b[0m        filtered_flat_args) = self._maybe_define_function(args, kwargs)\n\u001b[0;32m   2942\u001b[0m     return graph_function._call_flat(\n\u001b[1;32m-> 2943\u001b[1;33m         filtered_flat_args, captured_inputs=graph_function.captured_inputs)  # pylint: disable=protected-access\n\u001b[0m\u001b[0;32m   2944\u001b[0m \u001b[1;33m\u001b[0m\u001b[0m\n\u001b[0;32m   2945\u001b[0m   \u001b[1;33m@\u001b[0m\u001b[0mproperty\u001b[0m\u001b[1;33m\u001b[0m\u001b[1;33m\u001b[0m\u001b[0m\n",
      "\u001b[1;32m~\\.conda\\envs\\mlops\\lib\\site-packages\\tensorflow\\python\\eager\\function.py\u001b[0m in \u001b[0;36m_call_flat\u001b[1;34m(self, args, captured_inputs, cancellation_manager)\u001b[0m\n\u001b[0;32m   1917\u001b[0m       \u001b[1;31m# No tape is watching; skip to running the function.\u001b[0m\u001b[1;33m\u001b[0m\u001b[1;33m\u001b[0m\u001b[1;33m\u001b[0m\u001b[0m\n\u001b[0;32m   1918\u001b[0m       return self._build_call_outputs(self._inference_function.call(\n\u001b[1;32m-> 1919\u001b[1;33m           ctx, args, cancellation_manager=cancellation_manager))\n\u001b[0m\u001b[0;32m   1920\u001b[0m     forward_backward = self._select_forward_and_backward_functions(\n\u001b[0;32m   1921\u001b[0m         \u001b[0margs\u001b[0m\u001b[1;33m,\u001b[0m\u001b[1;33m\u001b[0m\u001b[1;33m\u001b[0m\u001b[0m\n",
      "\u001b[1;32m~\\.conda\\envs\\mlops\\lib\\site-packages\\tensorflow\\python\\eager\\function.py\u001b[0m in \u001b[0;36mcall\u001b[1;34m(self, ctx, args, cancellation_manager)\u001b[0m\n\u001b[0;32m    558\u001b[0m               \u001b[0minputs\u001b[0m\u001b[1;33m=\u001b[0m\u001b[0margs\u001b[0m\u001b[1;33m,\u001b[0m\u001b[1;33m\u001b[0m\u001b[1;33m\u001b[0m\u001b[0m\n\u001b[0;32m    559\u001b[0m               \u001b[0mattrs\u001b[0m\u001b[1;33m=\u001b[0m\u001b[0mattrs\u001b[0m\u001b[1;33m,\u001b[0m\u001b[1;33m\u001b[0m\u001b[1;33m\u001b[0m\u001b[0m\n\u001b[1;32m--> 560\u001b[1;33m               ctx=ctx)\n\u001b[0m\u001b[0;32m    561\u001b[0m         \u001b[1;32melse\u001b[0m\u001b[1;33m:\u001b[0m\u001b[1;33m\u001b[0m\u001b[1;33m\u001b[0m\u001b[0m\n\u001b[0;32m    562\u001b[0m           outputs = execute.execute_with_cancellation(\n",
      "\u001b[1;32m~\\.conda\\envs\\mlops\\lib\\site-packages\\tensorflow\\python\\eager\\execute.py\u001b[0m in \u001b[0;36mquick_execute\u001b[1;34m(op_name, num_outputs, inputs, attrs, ctx, name)\u001b[0m\n\u001b[0;32m     58\u001b[0m     \u001b[0mctx\u001b[0m\u001b[1;33m.\u001b[0m\u001b[0mensure_initialized\u001b[0m\u001b[1;33m(\u001b[0m\u001b[1;33m)\u001b[0m\u001b[1;33m\u001b[0m\u001b[1;33m\u001b[0m\u001b[0m\n\u001b[0;32m     59\u001b[0m     tensors = pywrap_tfe.TFE_Py_Execute(ctx._handle, device_name, op_name,\n\u001b[1;32m---> 60\u001b[1;33m                                         inputs, attrs, num_outputs)\n\u001b[0m\u001b[0;32m     61\u001b[0m   \u001b[1;32mexcept\u001b[0m \u001b[0mcore\u001b[0m\u001b[1;33m.\u001b[0m\u001b[0m_NotOkStatusException\u001b[0m \u001b[1;32mas\u001b[0m \u001b[0me\u001b[0m\u001b[1;33m:\u001b[0m\u001b[1;33m\u001b[0m\u001b[1;33m\u001b[0m\u001b[0m\n\u001b[0;32m     62\u001b[0m     \u001b[1;32mif\u001b[0m \u001b[0mname\u001b[0m \u001b[1;32mis\u001b[0m \u001b[1;32mnot\u001b[0m \u001b[1;32mNone\u001b[0m\u001b[1;33m:\u001b[0m\u001b[1;33m\u001b[0m\u001b[1;33m\u001b[0m\u001b[0m\n",
      "\u001b[1;31mKeyboardInterrupt\u001b[0m: "
     ]
    }
   ],
   "source": [
    "verbose, epochs, batch_size = 1, 15, 64\n",
    "model = create_model(TIME_STEPS, X_train.shape[2],y_train.shape[1])\n",
    "model.fit(X_train, y_train, validation_data = (X_val, y_val), epochs=epochs, batch_size=batch_size, verbose=verbose)"
   ]
  },
  {
   "cell_type": "code",
   "execution_count": 28,
   "metadata": {},
   "outputs": [
    {
     "name": "stdout",
     "output_type": "stream",
     "text": [
      "Building model...\n",
      "WARNING:tensorflow:`period` argument is deprecated. Please use `save_freq` to specify the frequency in number of batches seen.\n",
      "Epoch 1/10\n",
      "500/500 - 31s - loss: 1.1005 - accuracy: 0.3485 - val_loss: 1.0539 - val_accuracy: 0.4810\n",
      "\n",
      "Epoch 00001: val_loss improved from inf to 1.05393, saving model to ../data/models_mp_10000_0.0005\\best_model.h5\n",
      "Epoch 2/10\n",
      "500/500 - 27s - loss: 1.1054 - accuracy: 0.3565 - val_loss: 1.0592 - val_accuracy: 0.4810\n",
      "\n",
      "Epoch 00002: val_loss did not improve from 1.05393\n",
      "Epoch 3/10\n",
      "500/500 - 27s - loss: 1.0973 - accuracy: 0.3695 - val_loss: 1.0678 - val_accuracy: 0.4810\n",
      "\n",
      "Epoch 00003: val_loss did not improve from 1.05393\n",
      "Epoch 4/10\n",
      "500/500 - 33s - loss: 1.0973 - accuracy: 0.3713 - val_loss: 1.0742 - val_accuracy: 0.4810\n",
      "\n",
      "Epoch 00004: val_loss did not improve from 1.05393\n",
      "Epoch 5/10\n",
      "500/500 - 27s - loss: 1.0978 - accuracy: 0.3720 - val_loss: 1.0729 - val_accuracy: 0.4810\n",
      "\n",
      "Epoch 00005: val_loss did not improve from 1.05393\n",
      "Epoch 6/10\n",
      "500/500 - 27s - loss: 1.0983 - accuracy: 0.3682 - val_loss: 1.0796 - val_accuracy: 0.4810\n",
      "\n",
      "Epoch 00006: val_loss did not improve from 1.05393\n",
      "Epoch 7/10\n",
      "500/500 - 30s - loss: 1.0972 - accuracy: 0.3686 - val_loss: 1.0781 - val_accuracy: 0.4810\n",
      "\n",
      "Epoch 00007: val_loss did not improve from 1.05393\n",
      "Epoch 8/10\n",
      "500/500 - 28s - loss: 1.0970 - accuracy: 0.3680 - val_loss: 1.0779 - val_accuracy: 0.4810\n",
      "\n",
      "Epoch 00008: val_loss did not improve from 1.05393\n",
      "Epoch 9/10\n",
      "500/500 - 27s - loss: 1.0971 - accuracy: 0.3706 - val_loss: 1.0727 - val_accuracy: 0.4810\n",
      "\n",
      "Epoch 00009: val_loss did not improve from 1.05393\n",
      "Epoch 10/10\n",
      "500/500 - 29s - loss: 1.0974 - accuracy: 0.3695 - val_loss: 1.0730 - val_accuracy: 0.4810\n",
      "\n",
      "Epoch 00010: val_loss did not improve from 1.05393\n"
     ]
    }
   ],
   "source": [
    "model = None\n",
    "is_update_model = True\n",
    "if model is None or is_update_model:\n",
    "    from keras import backend as K\n",
    "    from keras import backend as K\n",
    "    K.tensorflow_backend._get_available_gpus()\n",
    "    print(\"Building model...\")\n",
    "    #     print(\"checking if GPU available\", K.tensorflow_backend._get_available_gpus())\n",
    "    model = create_model(TIME_STEPS, X_train.shape[2], y_train.shape[1])\n",
    "\n",
    "    es = EarlyStopping(\n",
    "        monitor=\"val_loss\", mode=\"min\", verbose=1, patience=40, min_delta=0.0001\n",
    "    )\n",
    "\n",
    "    mcp = ModelCheckpoint(\n",
    "        os.path.join(OUTPUT_PATH, \"best_model.h5\"),\n",
    "        monitor=\"val_loss\",\n",
    "        verbose=1,\n",
    "        save_best_only=True,\n",
    "        save_weights_only=False,\n",
    "        mode=\"min\",\n",
    "        period=1,\n",
    "    )\n",
    "\n",
    "    # Not used here. But leaving it here as a reminder for future\n",
    "    r_lr_plat = ReduceLROnPlateau(\n",
    "        monitor=\"val_loss\",\n",
    "        factor=0.1,\n",
    "        patience=30,\n",
    "        verbose=0,\n",
    "        mode=\"auto\",\n",
    "        min_delta=0.0001,\n",
    "        cooldown=0,\n",
    "        min_lr=0,\n",
    "    )\n",
    "\n",
    "    csv_logger = CSVLogger(\n",
    "        os.path.join(\n",
    "            OUTPUT_PATH,\n",
    "            \"training_log_\" + time.ctime().replace(\" \", \"_\").replace(\":\", \"_\") + \".log\",\n",
    "        ),\n",
    "        append=True,\n",
    "    )\n",
    "\n",
    "    history = model.fit(\n",
    "        X_train,\n",
    "        y_train,\n",
    "        epochs=params[\"epochs\"],\n",
    "        verbose=2,\n",
    "        batch_size=BATCH_SIZE,\n",
    "        shuffle=False,\n",
    "        validation_data=(\n",
    "            trim_dataset(X_val, BATCH_SIZE),\n",
    "            trim_dataset(y_val, BATCH_SIZE),\n",
    "        ),\n",
    "        callbacks=[es, mcp, csv_logger],\n",
    "        use_multiprocessing=False,\n",
    "    )\n",
    "\n",
    "#     print(\"saving model...\")\n",
    "#     pickle.dump(model, open(\"lstm_model\", \"wb\"))"
   ]
  },
  {
   "cell_type": "code",
   "execution_count": 2,
   "metadata": {},
   "outputs": [
    {
     "ename": "NameError",
     "evalue": "name 'X_train' is not defined",
     "output_type": "error",
     "traceback": [
      "\u001b[1;31m---------------------------------------------------------------------------\u001b[0m",
      "\u001b[1;31mNameError\u001b[0m                                 Traceback (most recent call last)",
      "\u001b[1;32m<ipython-input-2-8d68a9a0b92a>\u001b[0m in \u001b[0;36m<module>\u001b[1;34m\u001b[0m\n\u001b[0;32m      1\u001b[0m print(\n\u001b[0;32m      2\u001b[0m     \"shapes of x_train {}, y_train, {}, x_test {}, y_test {}\".format(\n\u001b[1;32m----> 3\u001b[1;33m         \u001b[0mX_train\u001b[0m\u001b[1;33m.\u001b[0m\u001b[0mshape\u001b[0m\u001b[1;33m,\u001b[0m \u001b[0my_train\u001b[0m\u001b[1;33m.\u001b[0m\u001b[0mshape\u001b[0m\u001b[1;33m,\u001b[0m \u001b[0mX_test\u001b[0m\u001b[1;33m.\u001b[0m\u001b[0mshape\u001b[0m\u001b[1;33m,\u001b[0m \u001b[0my_test\u001b[0m\u001b[1;33m.\u001b[0m\u001b[0mshape\u001b[0m\u001b[1;33m\u001b[0m\u001b[1;33m\u001b[0m\u001b[0m\n\u001b[0m\u001b[0;32m      4\u001b[0m     )\n\u001b[0;32m      5\u001b[0m )\n",
      "\u001b[1;31mNameError\u001b[0m: name 'X_train' is not defined"
     ]
    }
   ],
   "source": [
    "print(\n",
    "    \"shapes of x_train {}, y_train, {}, x_test {}, y_test {}\".format(\n",
    "        X_train.shape, y_train.shape, X_test.shape, y_test.shape\n",
    "    )\n",
    ")"
   ]
  },
  {
   "cell_type": "code",
   "execution_count": 38,
   "metadata": {},
   "outputs": [],
   "source": [
    "import keras\n",
    "model = keras.models.load_model(\"../data/models_mp_10000_0.0005/model_1000_0.0005_full_data_basic_cols\")"
   ]
  },
  {
   "cell_type": "code",
   "execution_count": 39,
   "metadata": {},
   "outputs": [],
   "source": [
    "from sklearn.metrics import confusion_matrix\n",
    "# model.evaluate(x_test_t, y_test_t, batch_size=BATCH_SIZE\n",
    "y_pred = model.predict(X_test, batch_size=BATCH_SIZE)\n",
    "# y_pred = y_pred.flatten()\n",
    "# error = mean_squared_error(y_test, y_pred)\n",
    "# print(\"Error is\", error, y_pred.shape, y_test.shape)\n",
    "\n"
   ]
  },
  {
   "cell_type": "code",
   "execution_count": 56,
   "metadata": {},
   "outputs": [],
   "source": [
    "y_pred_flat = np.argmax(y_pred, axis=1)\n",
    "y_test_flat = np.argmax(y_test, axis=1)"
   ]
  },
  {
   "cell_type": "code",
   "execution_count": 52,
   "metadata": {},
   "outputs": [
    {
     "data": {
      "text/plain": [
       "array([2, 1], dtype=int64)"
      ]
     },
     "execution_count": 52,
     "metadata": {},
     "output_type": "execute_result"
    }
   ],
   "source": [
    "np.argmax(a, axis=1)"
   ]
  },
  {
   "cell_type": "code",
   "execution_count": 40,
   "metadata": {},
   "outputs": [],
   "source": [
    "from sklearn.metrics import accuracy_score"
   ]
  },
  {
   "cell_type": "code",
   "execution_count": 62,
   "metadata": {},
   "outputs": [
    {
     "name": "stdout",
     "output_type": "stream",
     "text": [
      "0.4179305912596401\n"
     ]
    },
    {
     "data": {
      "text/plain": [
       "array([[25870,   734, 25512],\n",
       "       [11875,  1353,  8128],\n",
       "       [25533,   674, 24801]], dtype=int64)"
      ]
     },
     "execution_count": 62,
     "metadata": {},
     "output_type": "execute_result"
    }
   ],
   "source": [
    "print(accuracy_score(y_test_flat, y_pred_flat))\n",
    "confusion_matrix(y_test_flat, y_pred_flat)"
   ]
  },
  {
   "cell_type": "code",
   "execution_count": 64,
   "metadata": {},
   "outputs": [
    {
     "name": "stdout",
     "output_type": "stream",
     "text": [
      "              precision    recall  f1-score   support\n",
      "\n",
      "        loss       0.41      0.50      0.45     52116\n",
      "      no hit       0.49      0.06      0.11     21356\n",
      "        gain       0.42      0.49      0.45     51008\n",
      "\n",
      "    accuracy                           0.42    124480\n",
      "   macro avg       0.44      0.35      0.34    124480\n",
      "weighted avg       0.43      0.42      0.39    124480\n",
      "\n"
     ]
    }
   ],
   "source": [
    "print(classification_report(y_test_flat, y_pred_flat, target_names=['loss','no hit','gain']))"
   ]
  },
  {
   "cell_type": "code",
   "execution_count": 59,
   "metadata": {},
   "outputs": [],
   "source": [
    "y_pred_bin = [0 if y<=1 else 1 for y in y_pred_flat]\n",
    "y_test_bin = [0 if y<=1 else 1 for y in y_test_flat]"
   ]
  },
  {
   "cell_type": "code",
   "execution_count": 60,
   "metadata": {},
   "outputs": [
    {
     "name": "stdout",
     "output_type": "stream",
     "text": [
      "0.519223971722365\n"
     ]
    },
    {
     "data": {
      "text/plain": [
       "array([[39832, 33640],\n",
       "       [26207, 24801]], dtype=int64)"
      ]
     },
     "execution_count": 60,
     "metadata": {},
     "output_type": "execute_result"
    }
   ],
   "source": [
    "print(accuracy_score(y_test_bin, y_pred_bin))\n",
    "confusion_matrix(y_test_bin, y_pred_bin)"
   ]
  },
  {
   "cell_type": "code",
   "execution_count": 61,
   "metadata": {},
   "outputs": [
    {
     "name": "stdout",
     "output_type": "stream",
     "text": [
      "              precision    recall  f1-score   support\n",
      "\n",
      "        hold       0.60      0.54      0.57     73472\n",
      "         buy       0.42      0.49      0.45     51008\n",
      "\n",
      "    accuracy                           0.52    124480\n",
      "   macro avg       0.51      0.51      0.51    124480\n",
      "weighted avg       0.53      0.52      0.52    124480\n",
      "\n"
     ]
    }
   ],
   "source": [
    "\n",
    "print(classification_report(y_test_bin, y_pred_bin, target_names=['hold','buy']))"
   ]
  },
  {
   "cell_type": "code",
   "execution_count": null,
   "metadata": {},
   "outputs": [],
   "source": [
    "y_test_bin = [0 if y<=1 else 1 for y in y_test]\n",
    "y_pred_bin = [0 if y<=1 else 1 for y in y_pred]"
   ]
  },
  {
   "cell_type": "code",
   "execution_count": 36,
   "metadata": {},
   "outputs": [
    {
     "name": "stdout",
     "output_type": "stream",
     "text": [
      "<tensorflow.python.keras.engine.sequential.Sequential object at 0x000001D29C72F648>\n",
      "Error is 0.0013806269146593734 (1360,) (1360,)\n",
      "[0.39414594 0.39405537 0.39396402 0.39367312 0.39347526 0.39326194\n",
      " 0.3930657  0.39281115 0.39259958 0.39241716 0.39240378 0.3929605\n",
      " 0.39265734 0.39223102 0.39182454]\n",
      "[0.32378063 0.32499919 0.32800358 0.32905407 0.32905407 0.33031465\n",
      " 0.32943225 0.33205846 0.32659593 0.32747834 0.31770881 0.31092267\n",
      " 0.31258244 0.32378063 0.32592362]\n",
      "[19.219177 19.214867 19.210518 19.196672 19.187256 19.177101 19.16776\n",
      " 19.155645 19.145575 19.136892 19.136255 19.162754 19.148325 19.128033\n",
      " 19.108686]\n",
      "[15.87  15.928 16.071 16.121 16.121 16.181 16.139 16.264 16.004 16.046\n",
      " 15.581 15.258 15.337 15.87  15.972]\n"
     ]
    },
    {
     "data": {
      "image/png": "[encoded data removed]",
      "text/plain": [
       "<Figure size 432x288 with 1 Axes>"
      ]
     },
     "metadata": {
      "needs_background": "light"
     },
     "output_type": "display_data"
    },
    {
     "data": {
      "image/png": "[encoded data removed]",
      "text/plain": [
       "<Figure size 432x288 with 1 Axes>"
      ]
     },
     "metadata": {
      "needs_background": "light"
     },
     "output_type": "display_data"
    }
   ],
   "source": [
    "# Visualize the training data\n",
    "from matplotlib import pyplot as plt\n",
    "plt.figure()\n",
    "plt.plot(history.history['loss'])\n",
    "plt.plot(history.history['val_loss'])\n",
    "plt.title('Model loss')\n",
    "plt.ylabel('Loss')\n",
    "plt.xlabel('Epoch')\n",
    "plt.legend(['Train', 'Test'], loc='upper left')\n",
    "#plt.show()\n",
    "plt.savefig(os.path.join(OUTPUT_PATH, 'train_vis_BS_'+str(BATCH_SIZE)+\"_\"+time.ctime().replace(\":\",\"_\")+'.png'))\n",
    "\n",
    "# load the saved best model from above\n",
    "saved_model = load_model(os.path.join(OUTPUT_PATH, 'best_model.h5')) # , \"lstm_best_7-3-19_12AM\",\n",
    "print(saved_model)\n",
    "\n",
    "y_pred = saved_model.predict(trim_dataset(x_test_t, BATCH_SIZE), batch_size=BATCH_SIZE)\n",
    "y_pred = y_pred.flatten()\n",
    "y_test_t = trim_dataset(y_test_t, BATCH_SIZE)\n",
    "error = mean_squared_error(y_test_t, y_pred)\n",
    "print(\"Error is\", error, y_pred.shape, y_test_t.shape)\n",
    "print(y_pred[0:15])\n",
    "print(y_test_t[0:15])\n",
    "y_pred_org = (y_pred * min_max_scaler.data_range_[3]) + min_max_scaler.data_min_[3] # min_max_scaler.inverse_transform(y_pred)\n",
    "y_test_t_org = (y_test_t * min_max_scaler.data_range_[3]) + min_max_scaler.data_min_[3] # min_max_scaler.inverse_transform(y_test_t)\n",
    "print(y_pred_org[0:15])\n",
    "print(y_test_t_org[0:15])\n",
    "\n",
    "# Visualize the prediction\n",
    "from matplotlib import pyplot as plt\n",
    "plt.figure()\n",
    "plt.plot(y_pred_org)\n",
    "plt.plot(y_test_t_org)\n",
    "plt.title('Prediction vs Real Stock Price')\n",
    "plt.ylabel('Price')\n",
    "plt.xlabel('Days')\n",
    "plt.legend(['Prediction', 'Real'], loc='upper left')\n",
    "#plt.show()\n",
    "plt.savefig(os.path.join(OUTPUT_PATH, 'pred_vs_real_BS'+str(BATCH_SIZE)+\"_\"+time.ctime().replace(\":\",\"_\")+'.png'))\n",
    "# print_time(\"program completed \", stime)\n"
   ]
  },
  {
   "cell_type": "markdown",
   "metadata": {},
   "source": [
    "![image.png](attachment:image.png)"
   ]
  },
  {
   "cell_type": "code",
   "execution_count": 34,
   "metadata": {},
   "outputs": [
    {
     "data": {
      "text/plain": [
       "251"
      ]
     },
     "execution_count": 34,
     "metadata": {},
     "output_type": "execute_result"
    }
   ],
   "source": [
    "len(df_esv_data[df_esv_data['Date']<'2018-01-01'])"
   ]
  },
  {
   "cell_type": "code",
   "execution_count": null,
   "metadata": {
    "collapsed": true
   },
   "outputs": [],
   "source": []
  }
 ],
 "metadata": {
  "kernelspec": {
   "display_name": "Python (componentSDK)",
   "language": "python",
   "name": "amlcomponentsdk"
  },
  "language_info": {
   "codemirror_mode": {
    "name": "ipython",
    "version": 3
   },
   "file_extension": ".py",
   "mimetype": "text/x-python",
   "name": "python",
   "nbconvert_exporter": "python",
   "pygments_lexer": "ipython3",
   "version": "3.7.7"
  }
 },
 "nbformat": 4,
 "nbformat_minor": 4
}
