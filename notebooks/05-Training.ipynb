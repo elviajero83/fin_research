{
 "cells": [
  {
   "cell_type": "code",
   "execution_count": 1,
   "metadata": {},
   "outputs": [],
   "source": [
    "%load_ext autoreload\n",
    "%autoreload 2\n",
    "%matplotlib inline"
   ]
  },
  {
   "cell_type": "code",
   "execution_count": 2,
   "metadata": {},
   "outputs": [],
   "source": [
    "import numpy as np\n",
    "import os\n",
    "import sys\n",
    "import time\n",
    "import pandas as pd \n",
    "from tqdm.notebook import tqdm_notebook\n",
    "from tqdm import tqdm\n",
    "import pickle\n",
    "# from keras.models import Sequential, load_model\n",
    "# from keras.layers import Dense, Dropout\n",
    "# from keras.layers import LSTM\n",
    "# from keras.callbacks import ModelCheckpoint, EarlyStopping, ReduceLROnPlateau, CSVLogger\n",
    "# from keras import optimizers\n",
    "# from keras.wrappers.scikit_learn import KerasClassifier\n",
    "from sklearn.preprocessing import MinMaxScaler\n",
    "from sklearn.model_selection import train_test_split\n",
    "from sklearn.metrics import mean_squared_error\n",
    "from sklearn.metrics import classification_report\n",
    "import lightgbm\n",
    "import logging\n",
    "# from src.utils import merge_simultanous_rows, save_to_blob, data_process"
   ]
  },
  {
   "cell_type": "code",
   "execution_count": 3,
   "metadata": {},
   "outputs": [],
   "source": [
    "from sklearn import model_selection\n",
    "from sklearn.linear_model import LogisticRegression, LinearRegression\n",
    "from sklearn.model_selection import train_test_split\n",
    "from sklearn.discriminant_analysis import LinearDiscriminantAnalysis\n",
    "from sklearn.preprocessing import StandardScaler\n",
    "from sklearn.neural_network import MLPClassifier\n",
    "from sklearn.neighbors import KNeighborsClassifier\n",
    "from sklearn.svm import SVC\n",
    "from sklearn.gaussian_process import GaussianProcessClassifier\n",
    "from sklearn.gaussian_process.kernels import RBF\n",
    "from sklearn.tree import DecisionTreeClassifier\n",
    "from sklearn.ensemble import RandomForestClassifier, AdaBoostClassifier, RandomForestRegressor\n",
    "from sklearn.naive_bayes import GaussianNB\n",
    "from sklearn.discriminant_analysis import QuadraticDiscriminantAnalysis\n",
    "from sklearn.ensemble import RandomForestRegressor\n",
    "\n",
    "from sklearn.metrics import classification_report\n",
    "from sklearn.metrics import confusion_matrix\n",
    "from sklearn.metrics import accuracy_score"
   ]
  },
  {
   "cell_type": "code",
   "execution_count": 4,
   "metadata": {},
   "outputs": [],
   "source": [
    "min_max_mat=np.array([[2175,2175,1,1],[3398.25,3396.5,82120,70494]])"
   ]
  },
  {
   "cell_type": "code",
   "execution_count": 5,
   "metadata": {},
   "outputs": [
    {
     "data": {
      "text/plain": [
       "(2, 4)"
      ]
     },
     "execution_count": 5,
     "metadata": {},
     "output_type": "execute_result"
    }
   ],
   "source": [
    "min_max_mat.shape"
   ]
  },
  {
   "cell_type": "code",
   "execution_count": 6,
   "metadata": {},
   "outputs": [
    {
     "data": {
      "text/plain": [
       "MinMaxScaler(copy=True, feature_range=(0, 1))"
      ]
     },
     "execution_count": 6,
     "metadata": {},
     "output_type": "execute_result"
    }
   ],
   "source": [
    "min_max_scaler = MinMaxScaler()\n",
    "min_max_scaler.fit(min_max_mat)"
   ]
  },
  {
   "cell_type": "code",
   "execution_count": 7,
   "metadata": {},
   "outputs": [],
   "source": [
    "params = {\n",
    "    \"batch_size\": 20,  # 20<16<10, 25 was a bust\n",
    "    \"epochs\":10,\n",
    "    \"lr\": 0.00010000,\n",
    "    \"time_steps\": 100\n",
    "}\n",
    "\n",
    "iter_changes = \"dropout_layers_0.4_0.4\"\n",
    "\n",
    "# INPUT_PATH = PATH_TO_DRIVE_ML_DATA+\"/inputs\"\n",
    "# OUTPUT_PATH = PATH_TO_DRIVE_ML_DATA+\"/outputs/lstm_best_7-3-19_12AM/\"+iter_changes\n",
    "OUTPUT_PATH = '../data/models_mp_10000_0.0005'\n",
    "TIME_STEPS = params[\"time_steps\"]\n",
    "BATCH_SIZE = params[\"batch_size\"]"
   ]
  },
  {
   "cell_type": "code",
   "execution_count": 8,
   "metadata": {},
   "outputs": [],
   "source": [
    "def build_timeseries(mat, labels, steps, weights=None ):\n",
    "    \"\"\"\n",
    "    Converts ndarray into timeseries format and supervised data format. Takes first TIME_STEPS\n",
    "    number of rows as input and sets the TIME_STEPS+1th data as corresponding output and so on.\n",
    "    :param mat: ndarray which holds the dataset\n",
    "    :return: returns two ndarrays-- input and output in format suitable to feed\n",
    "    to LSTM.\n",
    "    \"\"\"\n",
    "    # total number of time-series samples would be len(mat) - TIME_STEPS\n",
    "    dim_0 = mat.shape[0] - steps\n",
    "    dim_1 = mat.shape[1]\n",
    "    x = np.zeros((dim_0, steps, dim_1))\n",
    "    y = np.zeros((dim_0,))\n",
    "    w = np.zeros((dim_0,))\n",
    "    print(\"dim_0\",dim_0)\n",
    "#     for i in tqdm_notebook(range(dim_0)):\n",
    "    for i in range(dim_0):\n",
    "        x[i] = mat[i:steps+i]\n",
    "        y[i] = labels[steps+i]\n",
    "        if weights is not None:\n",
    "            w[i] = weights[steps+i]\n",
    "#         if i < 10:\n",
    "#           print(i,\"-->\", x[i,-1,:], y[i])\n",
    "    print(\"length of time-series i/o\",x.shape,y.shape)\n",
    "    return x, y, w"
   ]
  },
  {
   "cell_type": "code",
   "execution_count": 9,
   "metadata": {},
   "outputs": [],
   "source": [
    "def trim_dataset(mat,batch_size):\n",
    "    \"\"\"\n",
    "    trims dataset to a size that's divisible by BATCH_SIZE\n",
    "    \"\"\"\n",
    "    no_of_rows_drop = mat.shape[0]%batch_size\n",
    "    if no_of_rows_drop > 0:\n",
    "        return mat[:-no_of_rows_drop]\n",
    "    else:\n",
    "        return mat"
   ]
  },
  {
   "cell_type": "code",
   "execution_count": 10,
   "metadata": {},
   "outputs": [],
   "source": [
    "def col_id_to_feature(ids, columns, steps):\n",
    "    base_cols = [columns[id % len(columns)] for id in ids]\n",
    "    lags = [id//len(columns) for id in ids]\n",
    "    col_names = ['{}_lag_{}'.format(base_cols[i], lags[i]) for i in range(len(ids))]\n",
    "    return base_cols, lags,  len(columns), col_names"
   ]
  },
  {
   "cell_type": "markdown",
   "metadata": {},
   "source": [
    "# LGMB training"
   ]
  },
  {
   "cell_type": "code",
   "execution_count": 11,
   "metadata": {},
   "outputs": [],
   "source": [
    "\n",
    "file_path_train_x = os.path.join('../../data/labels_with_weights/','X_train_data.npy')\n",
    "file_path_train_y = os.path.join('../../data/labels_with_weights/','y_2_train_data.npy')\n",
    "file_path_train_w = os.path.join('../../data/labels_with_weights/','w_train_data.npy')\n",
    "file_path_test_x = os.path.join('../../data/labels_with_weights/','X_test_data.npy')\n",
    "file_path_test_y = os.path.join('../../data/labels_with_weights/','y_2_test_data.npy')\n",
    "file_path_test_w = os.path.join('../../data/labels_with_weights/','w_test_data.npy')"
   ]
  },
  {
   "cell_type": "code",
   "execution_count": 31,
   "metadata": {},
   "outputs": [
    {
     "name": "stdout",
     "output_type": "stream",
     "text": [
      "shapes of X_train (826971, 62), y_train, (826971,), w_train (826971,), X_test (206743, 62), y_test (206743,), w_test (206743,)\n"
     ]
    }
   ],
   "source": [
    "# base_label_cols = [\n",
    "#     \"long_label\",\n",
    "#     \"long_return\",\n",
    "#     \"long_duration\",\n",
    "#     \"pt_long_ind\",\n",
    "#     \"sl_long_ind\",\n",
    "#     \"short_label\",\n",
    "#     \"short_return\",\n",
    "#     \"short_duration\",\n",
    "#     \"pt_short_ind\",\n",
    "#     \"sl_short_ind\",\n",
    "#     \"end_ind\",\n",
    "# ]\n",
    "\n",
    "X_train = np.load(file_path_train_x)\n",
    "y_train_all = np.load(file_path_train_y)\n",
    "# ind 1 = long return\n",
    "y_train = y_train_all[:,1].reshape(len(y_train_all))\n",
    "# y_train+=1\n",
    "w_train = np.load(file_path_train_w)\n",
    "w_train = w_train.reshape(len(w_train))\n",
    "\n",
    "\n",
    "X_test = np.load(file_path_test_x)\n",
    "y_test_all = np.load(file_path_test_y)\n",
    "y_test = y_test_all[:,1].reshape(len(y_test_all))\n",
    "# y_test+=1\n",
    "w_test = np.load(file_path_test_w)\n",
    "w_test = w_test.reshape(len(w_test))\n",
    "\n",
    "print(\n",
    "    \"shapes of X_train {}, y_train, {}, w_train {}, X_test {}, y_test {}, w_test {}\".format(\n",
    "        X_train.shape, y_train.shape, w_train.shape, X_test.shape, y_test.shape, w_test.shape\n",
    "    )\n",
    ")"
   ]
  },
  {
   "cell_type": "code",
   "execution_count": 60,
   "metadata": {},
   "outputs": [],
   "source": [
    "time_steps = 1"
   ]
  },
  {
   "cell_type": "code",
   "execution_count": 61,
   "metadata": {},
   "outputs": [
    {
     "name": "stdout",
     "output_type": "stream",
     "text": [
      "dim_0 826970\n",
      "length of time-series i/o (826970, 1, 62) (826970,)\n",
      "dim_0 206742\n",
      "length of time-series i/o (206742, 1, 62) (206742,)\n"
     ]
    }
   ],
   "source": [
    "X_train_3d, y_train_3d, w_train_2d = build_timeseries(X_train, y_train, steps = time_steps, weights=w_train) \n",
    "X_test_3d, y_test_3d, w_test_2d = build_timeseries(X_test, y_test, steps = time_steps, weights=w_test) "
   ]
  },
  {
   "cell_type": "code",
   "execution_count": 62,
   "metadata": {},
   "outputs": [
    {
     "name": "stdout",
     "output_type": "stream",
     "text": [
      "shapes of X_train_2d (826970, 62), y_train, (826970,), X_test_2d (206742, 62), y_test_2d (206742,)\n"
     ]
    }
   ],
   "source": [
    "X_train_2d = X_train_3d.reshape(X_train_3d.shape[0],X_train_3d.shape[1]*X_train_3d.shape[2])\n",
    "X_test_2d = X_test_3d.reshape(X_test_3d.shape[0],X_test_3d.shape[1]*X_test_3d.shape[2])\n",
    "y_train_2d = y_train_3d\n",
    "y_test_2d = y_test_3d\n",
    "print(\n",
    "    \"shapes of X_train_2d {}, y_train, {}, X_test_2d {}, y_test_2d {}\".format(\n",
    "        X_train_2d.shape, y_train_2d.shape, X_test_2d.shape, y_test_2d.shape\n",
    "    )\n",
    ")"
   ]
  },
  {
   "cell_type": "code",
   "execution_count": 73,
   "metadata": {},
   "outputs": [],
   "source": [
    "model = LinearRegression()\n",
    "model.fit(X_train_2d, y_train_2d)#, sample_weight=w_train_2d)\n",
    "y_pred = model.predict(X_test_2d)\n",
    "\n"
   ]
  },
  {
   "cell_type": "code",
   "execution_count": 74,
   "metadata": {},
   "outputs": [
    {
     "name": "stdout",
     "output_type": "stream",
     "text": [
      "              precision    recall  f1-score   support\n",
      "\n",
      "        loss       0.53      0.79      0.63    107706\n",
      "        gain       0.49      0.22      0.31     99036\n",
      "\n",
      "    accuracy                           0.52    206742\n",
      "   macro avg       0.51      0.51      0.47    206742\n",
      "weighted avg       0.51      0.52      0.48    206742\n",
      "\n"
     ]
    }
   ],
   "source": [
    "y_pred_bin =[1 if y>0 else 0 for y in y_pred]\n",
    "y_test_2d_bin = [1 if y>0 else 0 for y in y_test_2d]\n",
    "# y_pred_flat = np.argmax(y_pred, axis=1)\n",
    "print(classification_report(y_test_2d_bin, y_pred_bin, target_names=['loss','gain']))"
   ]
  },
  {
   "cell_type": "code",
   "execution_count": 75,
   "metadata": {},
   "outputs": [],
   "source": [
    "ret_test = y_test_all[:,1].reshape(len(y_test_all))\n",
    "hold_test = y_test_all[:,2].reshape(len(y_test_all))\n",
    "bar_duration_test = y_test_all[:,3].reshape(len(y_test_all))\n",
    "ret_test = ret_test[time_steps:]\n",
    "hold_test = hold_test[time_steps:]\n",
    "bar_duration_test = bar_duration_test[time_steps:]"
   ]
  },
  {
   "cell_type": "code",
   "execution_count": 76,
   "metadata": {},
   "outputs": [],
   "source": [
    "from enum import Enum\n",
    "class BidState(Enum):\n",
    "    CASH=1\n",
    "    LONG=2\n",
    "    SHORT=0"
   ]
  },
  {
   "cell_type": "code",
   "execution_count": 77,
   "metadata": {},
   "outputs": [
    {
     "data": {
      "text/plain": [
       "0.5"
      ]
     },
     "execution_count": 77,
     "metadata": {},
     "output_type": "execute_result"
    }
   ],
   "source": [
    "def single_unit_trade(y_pred, ret, hold_duration, bar_duration, labels=[0,1]):\n",
    "    ret_sum = 0\n",
    "    hold_time = 0\n",
    "    bar_separation = 0\n",
    "    state=BidState.CASH\n",
    "    # loop over all test values\n",
    "    for i,pred in enumerate(y_pred):\n",
    "        if state==BidState.LONG:\n",
    "            bar_separation +=bar_duration[i]\n",
    "            if bar_separation>= hold_time:\n",
    "                state=BidState.CASH\n",
    "                \n",
    "        if state==BidState.CASH and pred==labels[1]:\n",
    "                state=BidState.LONG\n",
    "                hold_time = hold_duration[i]\n",
    "                ret_sum += ret[i]\n",
    "    return ret_sum\n",
    "\n",
    "\n",
    "\n",
    "\n",
    "single_unit_trade(y_pred_bin, ret_test, hold_test, bar_duration_test, labels=[0,1])    "
   ]
  },
  {
   "cell_type": "code",
   "execution_count": 78,
   "metadata": {},
   "outputs": [
    {
     "data": {
      "text/plain": [
       "206742"
      ]
     },
     "execution_count": 78,
     "metadata": {},
     "output_type": "execute_result"
    }
   ],
   "source": [
    "len(ret_test)"
   ]
  },
  {
   "cell_type": "code",
   "execution_count": 63,
   "metadata": {},
   "outputs": [
    {
     "name": "stderr",
     "output_type": "stream",
     "text": [
      "[Parallel(n_jobs=-1)]: Using backend ThreadingBackend with 16 concurrent workers.\n"
     ]
    },
    {
     "name": "stdout",
     "output_type": "stream",
     "text": [
      "building tree 1 of 40\n",
      "building tree 2 of 40\n",
      "building tree 3 of 40\n",
      "building tree 4 of 40\n",
      "building tree 5 of 40\n",
      "building tree 6 of 40\n",
      "building tree 7 of 40\n",
      "building tree 8 of 40\n",
      "building tree 9 of 40\n",
      "building tree 10 of 40\n",
      "building tree 11 of 40\n",
      "building tree 12 of 40\n",
      "building tree 13 of 40\n",
      "building tree 14 of 40\n",
      "building tree 15 of 40\n",
      "building tree 16 of 40\n",
      "building tree 17 of 40\n",
      "building tree 18 of 40\n",
      "building tree 19 of 40\n",
      "building tree 20 of 40\n",
      "building tree 21 of 40\n",
      "building tree 22 of 40\n",
      "building tree 23 of 40\n",
      "building tree 24 of 40\n"
     ]
    },
    {
     "name": "stderr",
     "output_type": "stream",
     "text": [
      "[Parallel(n_jobs=-1)]: Done   9 tasks      | elapsed:  2.1min\n"
     ]
    },
    {
     "name": "stdout",
     "output_type": "stream",
     "text": [
      "building tree 25 of 40\n",
      "building tree 26 of 40\n",
      "building tree 27 of 40\n",
      "building tree 28 of 40\n",
      "building tree 29 of 40\n",
      "building tree 30 of 40\n",
      "building tree 31 of 40\n",
      "building tree 32 of 40\n",
      "building tree 33 of 40\n",
      "building tree 34 of 40\n",
      "building tree 35 of 40\n",
      "building tree 36 of 40\n",
      "building tree 37 of 40\n",
      "building tree 38 of 40\n",
      "building tree 39 of 40\n",
      "building tree 40 of 40\n"
     ]
    },
    {
     "name": "stderr",
     "output_type": "stream",
     "text": [
      "[Parallel(n_jobs=-1)]: Done  30 out of  40 | elapsed:  4.4min remaining:  1.5min\n",
      "[Parallel(n_jobs=-1)]: Done  40 out of  40 | elapsed:  6.0min finished\n",
      "[Parallel(n_jobs=16)]: Using backend ThreadingBackend with 16 concurrent workers.\n",
      "[Parallel(n_jobs=16)]: Done   9 tasks      | elapsed:    0.0s\n",
      "[Parallel(n_jobs=16)]: Done  30 out of  40 | elapsed:    0.1s remaining:    0.0s\n",
      "[Parallel(n_jobs=16)]: Done  40 out of  40 | elapsed:    0.1s finished\n"
     ]
    },
    {
     "name": "stdout",
     "output_type": "stream",
     "text": [
      "              precision    recall  f1-score   support\n",
      "\n",
      "        loss       0.52      0.77      0.62    107706\n",
      "        gain       0.46      0.22      0.29     99036\n",
      "\n",
      "    accuracy                           0.50    206742\n",
      "   macro avg       0.49      0.49      0.46    206742\n",
      "weighted avg       0.49      0.50      0.46    206742\n",
      "\n"
     ]
    }
   ],
   "source": [
    "name, model = 'RFC',RandomForestRegressor(n_estimators=40, verbose = 2, n_jobs=-1)\n",
    "model.fit(X_train_2d, y_train_2d)\n",
    "y_pred = model.predict(X_test_2d)\n",
    "y_pred_bin =[1 if y>0 else 0 for y in y_pred]\n",
    "y_test_2d_bin = [1 if y>0 else 0 for y in y_test_2d]\n",
    "# y_pred_flat = np.argmax(y_pred, axis=1)\n",
    "print(classification_report(y_test_2d_bin, y_pred_bin, target_names=['loss','gain']))"
   ]
  },
  {
   "cell_type": "code",
   "execution_count": 64,
   "metadata": {},
   "outputs": [],
   "source": [
    "train_data = lightgbm.Dataset(X_train_2d, label=y_train_2d, weight = w_train_2d)\n",
    "# val_data = lightgbm.Dataset(X_val_2d, label=y_val, reference=train_data)\n",
    "test_data = lightgbm.Dataset(X_test_2d, label=y_test_2d, weight = w_test_2d)"
   ]
  },
  {
   "cell_type": "code",
   "execution_count": 65,
   "metadata": {},
   "outputs": [],
   "source": [
    "# parameters = {\n",
    "#     'objective': 'multiclass',\n",
    "# #     'metric': 'multi_logloss,auc_mu',\n",
    "#     'metric': 'multi_logloss',\n",
    "#     'is_unbalance': 'true',\n",
    "#     'boosting': 'gbdt',\n",
    "#     'num_class':3,\n",
    "#     'metric_freq': 1,\n",
    "#     'is_training_metric':'true',\n",
    "#     'learning_rate':0.05,\n",
    "#     'num_leaves': 5,\n",
    "#     'num_trees':100,\n",
    "#     'feature_fraction': 0.43,\n",
    "#     'bagging_fraction': 0.48,\n",
    "#     'bagging_freq': 4,\n",
    "#     'min_data_in_leaf':50,\n",
    "#     'learning_rate': 0.05,\n",
    "#     'verbose': 1,\n",
    "#     'early_stopping_round':10\n",
    "# }\n",
    "\n",
    "parameters = {\n",
    "        \"objective\": \"regression\",\n",
    "        \"metric\": \"l2\",\n",
    "#         'is_unbalance': 'true',\n",
    "#         'boosting': 'gbdt',\n",
    "#         'metric_freq': 1,\n",
    "#         'is_training_metric':'true',\n",
    "#         'learning_rate':0.04,\n",
    "#         'num_leaves': 30,\n",
    "#         'num_trees':100,\n",
    "#         'feature_fraction': 1,\n",
    "#         'bagging_fraction': 0.48,\n",
    "#         'bagging_freq': 6,\n",
    "#         'min_data_in_leaf':30,\n",
    "#         'learning_rate': 0.04,\n",
    "#         'verbose': 1,\n",
    "#         'early_stopping_round':10\n",
    "    }"
   ]
  },
  {
   "cell_type": "code",
   "execution_count": 66,
   "metadata": {},
   "outputs": [
    {
     "name": "stdout",
     "output_type": "stream",
     "text": [
      "Starting training...\n",
      "[1]\ttraining's l2: 3.85469\tvalid_1's l2: 14.5859\n",
      "[2]\ttraining's l2: 3.84209\tvalid_1's l2: 14.6454\n",
      "[3]\ttraining's l2: 3.83133\tvalid_1's l2: 14.7018\n",
      "[4]\ttraining's l2: 3.82225\tvalid_1's l2: 14.7916\n",
      "[5]\ttraining's l2: 3.81381\tvalid_1's l2: 14.7847\n",
      "[6]\ttraining's l2: 3.80633\tvalid_1's l2: 14.8619\n",
      "[7]\ttraining's l2: 3.7989\tvalid_1's l2: 14.8719\n",
      "[8]\ttraining's l2: 3.79145\tvalid_1's l2: 14.8797\n",
      "[9]\ttraining's l2: 3.7852\tvalid_1's l2: 14.8876\n",
      "[10]\ttraining's l2: 3.77907\tvalid_1's l2: 14.9473\n",
      "[11]\ttraining's l2: 3.77223\tvalid_1's l2: 14.9717\n",
      "[12]\ttraining's l2: 3.76707\tvalid_1's l2: 15.1063\n",
      "[13]\ttraining's l2: 3.76112\tvalid_1's l2: 15.1373\n",
      "[14]\ttraining's l2: 3.75643\tvalid_1's l2: 15.1614\n",
      "[15]\ttraining's l2: 3.75096\tvalid_1's l2: 15.1675\n",
      "[16]\ttraining's l2: 3.74559\tvalid_1's l2: 15.2511\n",
      "[17]\ttraining's l2: 3.74055\tvalid_1's l2: 15.2551\n",
      "[18]\ttraining's l2: 3.73571\tvalid_1's l2: 15.2431\n",
      "[19]\ttraining's l2: 3.73134\tvalid_1's l2: 15.3413\n",
      "[20]\ttraining's l2: 3.72685\tvalid_1's l2: 15.4458\n",
      "[21]\ttraining's l2: 3.7216\tvalid_1's l2: 15.4735\n",
      "[22]\ttraining's l2: 3.71751\tvalid_1's l2: 15.4748\n",
      "[23]\ttraining's l2: 3.71357\tvalid_1's l2: 15.4637\n",
      "[24]\ttraining's l2: 3.7104\tvalid_1's l2: 15.478\n",
      "[25]\ttraining's l2: 3.70637\tvalid_1's l2: 15.4785\n",
      "[26]\ttraining's l2: 3.7036\tvalid_1's l2: 15.6028\n",
      "[27]\ttraining's l2: 3.69969\tvalid_1's l2: 15.5816\n",
      "[28]\ttraining's l2: 3.69797\tvalid_1's l2: 15.5851\n",
      "[29]\ttraining's l2: 3.69279\tvalid_1's l2: 15.5874\n",
      "[30]\ttraining's l2: 3.68886\tvalid_1's l2: 15.5176\n",
      "[31]\ttraining's l2: 3.68541\tvalid_1's l2: 15.7019\n",
      "[32]\ttraining's l2: 3.68224\tvalid_1's l2: 15.8403\n",
      "[33]\ttraining's l2: 3.67981\tvalid_1's l2: 15.7923\n",
      "[34]\ttraining's l2: 3.6765\tvalid_1's l2: 15.7868\n",
      "[35]\ttraining's l2: 3.67359\tvalid_1's l2: 15.7773\n",
      "[36]\ttraining's l2: 3.67067\tvalid_1's l2: 15.7863\n",
      "[37]\ttraining's l2: 3.66805\tvalid_1's l2: 15.797\n",
      "[38]\ttraining's l2: 3.66444\tvalid_1's l2: 15.7961\n",
      "[39]\ttraining's l2: 3.65978\tvalid_1's l2: 15.8187\n",
      "[40]\ttraining's l2: 3.65621\tvalid_1's l2: 15.8221\n",
      "[41]\ttraining's l2: 3.65166\tvalid_1's l2: 15.8419\n",
      "[42]\ttraining's l2: 3.65039\tvalid_1's l2: 15.8425\n",
      "[43]\ttraining's l2: 3.64784\tvalid_1's l2: 15.8491\n",
      "[44]\ttraining's l2: 3.64476\tvalid_1's l2: 15.8313\n",
      "[45]\ttraining's l2: 3.64197\tvalid_1's l2: 15.8314\n",
      "[46]\ttraining's l2: 3.63942\tvalid_1's l2: 15.8318\n",
      "[47]\ttraining's l2: 3.63635\tvalid_1's l2: 15.8375\n",
      "[48]\ttraining's l2: 3.6335\tvalid_1's l2: 15.8965\n",
      "[49]\ttraining's l2: 3.63143\tvalid_1's l2: 15.897\n",
      "[50]\ttraining's l2: 3.63004\tvalid_1's l2: 15.8999\n",
      "[51]\ttraining's l2: 3.62831\tvalid_1's l2: 15.9008\n",
      "[52]\ttraining's l2: 3.62494\tvalid_1's l2: 15.9022\n",
      "[53]\ttraining's l2: 3.62388\tvalid_1's l2: 15.9027\n",
      "[54]\ttraining's l2: 3.62185\tvalid_1's l2: 15.9159\n",
      "[55]\ttraining's l2: 3.61887\tvalid_1's l2: 15.9178\n",
      "[56]\ttraining's l2: 3.61661\tvalid_1's l2: 15.9183\n",
      "[57]\ttraining's l2: 3.61277\tvalid_1's l2: 16.0693\n",
      "[58]\ttraining's l2: 3.61051\tvalid_1's l2: 16.0692\n",
      "[59]\ttraining's l2: 3.60912\tvalid_1's l2: 16.0747\n",
      "[60]\ttraining's l2: 3.60619\tvalid_1's l2: 16.0795\n",
      "[61]\ttraining's l2: 3.60481\tvalid_1's l2: 16.0806\n",
      "[62]\ttraining's l2: 3.60378\tvalid_1's l2: 16.081\n",
      "[63]\ttraining's l2: 3.60018\tvalid_1's l2: 16.0987\n",
      "[64]\ttraining's l2: 3.59762\tvalid_1's l2: 16.047\n",
      "[65]\ttraining's l2: 3.59378\tvalid_1's l2: 16.0801\n",
      "[66]\ttraining's l2: 3.59113\tvalid_1's l2: 16.0875\n",
      "[67]\ttraining's l2: 3.59025\tvalid_1's l2: 16.0875\n",
      "[68]\ttraining's l2: 3.58764\tvalid_1's l2: 16.0879\n",
      "[69]\ttraining's l2: 3.58622\tvalid_1's l2: 16.0973\n",
      "[70]\ttraining's l2: 3.58339\tvalid_1's l2: 16.0941\n",
      "[71]\ttraining's l2: 3.58106\tvalid_1's l2: 16.0997\n",
      "[72]\ttraining's l2: 3.57788\tvalid_1's l2: 16.1126\n",
      "[73]\ttraining's l2: 3.57712\tvalid_1's l2: 16.1164\n",
      "[74]\ttraining's l2: 3.5748\tvalid_1's l2: 16.1147\n",
      "[75]\ttraining's l2: 3.57195\tvalid_1's l2: 16.1145\n",
      "[76]\ttraining's l2: 3.56969\tvalid_1's l2: 16.1153\n",
      "[77]\ttraining's l2: 3.56776\tvalid_1's l2: 16.1224\n",
      "[78]\ttraining's l2: 3.56346\tvalid_1's l2: 16.1207\n",
      "[79]\ttraining's l2: 3.56044\tvalid_1's l2: 16.1281\n",
      "[80]\ttraining's l2: 3.5592\tvalid_1's l2: 16.1212\n",
      "[81]\ttraining's l2: 3.55583\tvalid_1's l2: 16.1117\n",
      "[82]\ttraining's l2: 3.55504\tvalid_1's l2: 16.1124\n",
      "[83]\ttraining's l2: 3.55255\tvalid_1's l2: 16.1182\n",
      "[84]\ttraining's l2: 3.54961\tvalid_1's l2: 16.1178\n",
      "[85]\ttraining's l2: 3.54818\tvalid_1's l2: 16.1235\n",
      "[86]\ttraining's l2: 3.5472\tvalid_1's l2: 16.127\n",
      "[87]\ttraining's l2: 3.54644\tvalid_1's l2: 16.1274\n",
      "[88]\ttraining's l2: 3.54445\tvalid_1's l2: 16.1248\n",
      "[89]\ttraining's l2: 3.54083\tvalid_1's l2: 16.1478\n",
      "[90]\ttraining's l2: 3.54008\tvalid_1's l2: 16.1521\n",
      "[91]\ttraining's l2: 3.53857\tvalid_1's l2: 16.1523\n",
      "[92]\ttraining's l2: 3.53576\tvalid_1's l2: 16.1656\n",
      "[93]\ttraining's l2: 3.53273\tvalid_1's l2: 16.1647\n",
      "[94]\ttraining's l2: 3.53026\tvalid_1's l2: 16.164\n",
      "[95]\ttraining's l2: 3.52586\tvalid_1's l2: 16.1879\n",
      "[96]\ttraining's l2: 3.52271\tvalid_1's l2: 16.2653\n",
      "[97]\ttraining's l2: 3.52093\tvalid_1's l2: 16.2662\n",
      "[98]\ttraining's l2: 3.51891\tvalid_1's l2: 16.3007\n",
      "[99]\ttraining's l2: 3.51627\tvalid_1's l2: 16.3002\n",
      "[100]\ttraining's l2: 3.51489\tvalid_1's l2: 16.3038\n"
     ]
    }
   ],
   "source": [
    "print('Starting training...')\n",
    "# train\n",
    "gbm = lightgbm.train(params=parameters,\n",
    "                     train_set = train_data,\n",
    "                     valid_sets=[train_data,test_data])"
   ]
  },
  {
   "cell_type": "code",
   "execution_count": 67,
   "metadata": {},
   "outputs": [
    {
     "name": "stdout",
     "output_type": "stream",
     "text": [
      "              precision    recall  f1-score   support\n",
      "\n",
      "        loss       0.52      0.63      0.57    107706\n",
      "        gain       0.47      0.36      0.41     99036\n",
      "\n",
      "    accuracy                           0.50    206742\n",
      "   macro avg       0.50      0.50      0.49    206742\n",
      "weighted avg       0.50      0.50      0.49    206742\n",
      "\n"
     ]
    }
   ],
   "source": [
    "y_pred = gbm.predict(X_test_2d)\n",
    "y_pred_bin =[1 if y>0 else 0 for y in y_pred]\n",
    "y_test_2d_bin = [1 if y>0 else 0 for y in y_test_2d]\n",
    "# y_pred_flat = np.argmax(y_pred, axis=1)\n",
    "print(classification_report(y_test_2d_bin, y_pred_bin, target_names=['loss','gain']))\n"
   ]
  },
  {
   "cell_type": "code",
   "execution_count": 70,
   "metadata": {},
   "outputs": [
    {
     "data": {
      "text/plain": [
       "0.0"
      ]
     },
     "execution_count": 70,
     "metadata": {},
     "output_type": "execute_result"
    }
   ],
   "source": [
    "single_unit_trade(y_pred_bin, ret_test, hold_test, bar_duration_test, labels=[0,1])    "
   ]
  },
  {
   "cell_type": "code",
   "execution_count": 21,
   "metadata": {},
   "outputs": [
    {
     "data": {
      "image/png": "[encoded data removed]",
      "text/plain": [
       "<Figure size 1080x1080 with 1 Axes>"
      ]
     },
     "metadata": {
      "needs_background": "light"
     },
     "output_type": "display_data"
    }
   ],
   "source": [
    "ax = lightgbm.plot_importance(gbm, max_num_features=40, figsize=(15,15))\n"
   ]
  },
  {
   "cell_type": "code",
   "execution_count": 46,
   "metadata": {},
   "outputs": [
    {
     "data": {
      "text/plain": [
       "['ffd_Bid Price_lag_0',\n",
       " 'ffd_Ask Price_lag_0',\n",
       " 'ffd_Bid Price_lag_2',\n",
       " 'Ask Price_lag_0',\n",
       " 'ffd_Ask Price_lag_1',\n",
       " 'ffd_Ask Price_lag_2',\n",
       " 'Bid Price_lag_0',\n",
       " 'Bid Size_lag_1',\n",
       " 'Bid Price_lag_37']"
      ]
     },
     "execution_count": 46,
     "metadata": {},
     "output_type": "execute_result"
    }
   ],
   "source": [
    "features = ['Bid Price', 'Ask Price', 'Bid Size', 'Ask Size', 'Bid Price_diff', 'Ask Price_diff', 'Bid Size_diff', 'Ask Size_diff', 'BidAskRatio', 'TWBidAskRatio']\n",
    "ffd_features = [f'ffd_{feature}' for feature in features]\n",
    "features = features + ffd_features\n",
    "def col_id_to_feature(ids, columns, steps):\n",
    "    base_cols = [columns[id % len(columns)] for id in ids]\n",
    "    lags =  [(steps -1) - (id//len(columns)) for id in ids]\n",
    "    col_names = ['{}_lag_{}'.format(base_cols[i], lags[i]) for i in range(len(ids))]\n",
    "    return col_names\n",
    "col_id_to_feature([1990,1991, 1950, 1981,1971,1951, 1980, 1962, 1240],columns = features,steps=100)\n"
   ]
  },
  {
   "cell_type": "markdown",
   "metadata": {},
   "source": [
    "# LGBM no lag\n",
    "             precision    recall  f1-score   support\n",
    "\n",
    "        loss       0.46      0.52      0.49     58643\n",
    "      no hit       0.50      0.00      0.00     13300\n",
    "        gain       0.46      0.50      0.48     56521\n",
    "\n",
    "    accuracy                           0.46    128464\n",
    "   macro avg       0.47      0.34      0.32    128464\n",
    "weighted avg       0.46      0.46      0.43    128464\n",
    "```['Bid Price_lag_0',\n",
    " 'Ask Price_lag_0',\n",
    " 'ffd_Bid Price_lag_0',\n",
    " 'ffd_Ask Price_lag_0',\n",
    " 'Bid Size_lag_0',\n",
    " 'ffd_Ask Size_lag_0',\n",
    " 'ffd_Bid Size_lag_0']```"
   ]
  },
  {
   "cell_type": "markdown",
   "metadata": {},
   "source": [
    "# lgbm on 100 days lag, base cols\n",
    "y_pred = gbm.predict(X_test_2d)\n",
    "y_pred_flat = np.argmax(y_pred, axis=1)\n",
    "print(classification_report(y_test, y_pred_flat, target_names=['loss','no hit','gain']))\n",
    "              precision    recall  f1-score   support\n",
    "\n",
    "        loss       0.42      0.60      0.49     52110\n",
    "      no hit       0.72      0.01      0.01     21360\n",
    "        gain       0.41      0.40      0.41     51010\n",
    "\n",
    "    accuracy                           0.42    124480\n",
    "   macro avg       0.52      0.33      0.30    124480\n",
    "weighted avg       0.47      0.42      0.37    124480"
   ]
  },
  {
   "cell_type": "code",
   "execution_count": 100,
   "metadata": {},
   "outputs": [],
   "source": [
    "# # prepare configuration for cross validation test harness\n",
    "# seed = 7\n",
    "# # prepare models\n",
    "# models = []\n",
    "# # models.append(('LR', LogisticRegression()))\n",
    "# # models.append(('LDA', LinearDiscriminantAnalysis()))\n",
    "# models.append(('RFC',RandomForestClassifier()))\n",
    "# models.append(('CART', DecisionTreeClassifier()))\n",
    "# models.append(('NB', GaussianNB()))\n",
    "# models.append(('NN', MLPClassifier(alpha=1)))\n",
    "# models.append(('QDA',QuadraticDiscriminantAnalysis()))\n",
    "# models.append(('SVM', SVC()))\n",
    "# # evaluate each model in turn\n",
    "# results = []\n",
    "# results_cust=[]\n",
    "# names = []\n",
    "# scoring = 'accuracy'\n",
    "# print('Subscribers:')\n",
    "# for name, model in models:\n",
    "#     model.fit(X_train_2d, y_train_2d)\n",
    "#     y_pred = gbm.predict(X_test_2d)\n",
    "#     y_pred_flat = np.argmax(y_pred, axis=1)\n",
    "#     cm = confusion_matrix(y_test, y_pred_flat)\n",
    "\n",
    "#     print(\"{} gain precision: {:.2f}\".format(name, cm[2,2]/sum(cm[:,2])))\n",
    "#     print(classification_report(y_test, y_pred_flat, target_names=['loss','no hit','gain']))\n",
    "# print('Customers:')"
   ]
  },
  {
   "cell_type": "code",
   "execution_count": 21,
   "metadata": {},
   "outputs": [
    {
     "name": "stderr",
     "output_type": "stream",
     "text": [
      "/anaconda/envs/azureml_py36/lib/python3.6/site-packages/sklearn/linear_model/_logistic.py:940: ConvergenceWarning: lbfgs failed to converge (status=1):\n",
      "STOP: TOTAL NO. of ITERATIONS REACHED LIMIT.\n",
      "\n",
      "Increase the number of iterations (max_iter) or scale the data as shown in:\n",
      "    https://scikit-learn.org/stable/modules/preprocessing.html\n",
      "Please also refer to the documentation for alternative solver options:\n",
      "    https://scikit-learn.org/stable/modules/linear_model.html#logistic-regression\n",
      "  extra_warning_msg=_LOGISTIC_SOLVER_CONVERGENCE_MSG)\n"
     ]
    },
    {
     "name": "stdout",
     "output_type": "stream",
     "text": [
      "LR gain precision: 0.43\n",
      "              precision    recall  f1-score   support\n",
      "\n",
      "        loss       0.54      0.31      0.40     74704\n",
      "      no hit       0.47      0.99      0.64     72883\n",
      "        gain       0.43      0.08      0.14     59136\n",
      "\n",
      "    accuracy                           0.48    206723\n",
      "   macro avg       0.48      0.46      0.39    206723\n",
      "weighted avg       0.49      0.48      0.41    206723\n",
      "\n"
     ]
    }
   ],
   "source": [
    "name = \"LR\"\n",
    "model = LogisticRegression()\n",
    "model.fit(X_train_2d, y_train_2d, sample_weight=w_train_2d)\n",
    "y_pred_flat = model.predict(X_test_2d)\n",
    "cm = confusion_matrix(y_test_2d, y_pred_flat)\n",
    "\n",
    "print(\"{} gain precision: {:.2f}\".format(name, cm[2,2]/sum(cm[:,2])))\n",
    "print(classification_report(y_test_2d, y_pred_flat, target_names=['loss','no hit','gain']))"
   ]
  },
  {
   "cell_type": "code",
   "execution_count": 29,
   "metadata": {},
   "outputs": [
    {
     "name": "stdout",
     "output_type": "stream",
     "text": [
      "LR gain precision: 0.49\n",
      "              precision    recall  f1-score   support\n",
      "\n",
      "        loss       0.48      0.27      0.34     69353\n",
      "      no hit       0.49      0.96      0.65     72676\n",
      "        gain       0.49      0.20      0.28     64614\n",
      "\n",
      "    accuracy                           0.49    206643\n",
      "   macro avg       0.49      0.47      0.42    206643\n",
      "weighted avg       0.49      0.49      0.43    206643\n",
      "\n"
     ]
    }
   ],
   "source": [
    "cm = confusion_matrix(y_test_2d, y_pred_flat)\n",
    "print(\"{} gain precision: {:.2f}\".format(name, cm[2,2]/sum(cm[:,2])))\n",
    "print(classification_report(y_test_2d, y_pred_flat, target_names=['loss','no hit','gain']))"
   ]
  },
  {
   "cell_type": "markdown",
   "metadata": {},
   "source": [
    "# LR lag 10\n",
    "LR gain precision: 0.48\n",
    "```\n",
    "              precision    recall  f1-score   support\n",
    "\n",
    "        loss       0.45      0.87      0.59     58633\n",
    "      no hit       0.30      0.00      0.00     13300\n",
    "        gain       0.48      0.13      0.21     56521\n",
    "\n",
    "    accuracy                           0.46    128454\n",
    "   macro avg       0.41      0.33      0.27    128454\n",
    "weighted avg       0.45      0.46      0.36    128454\n",
    "\n",
    "```\n",
    "```\n",
    "feature imporance \n",
    "['ffd_Bid Size_lag_0',\n",
    " 'ffd_Bid Size_lag_1',\n",
    " 'ffd_Ask Size_lag_0',\n",
    " 'ffd_Ask Size_lag_1',\n",
    " 'ffd_Bid Size_lag_2',\n",
    " 'ffd_Ask Size_lag_2',\n",
    " 'ffd_Bid Size_lag_3',\n",
    " 'ffd_Ask Size_lag_3',\n",
    " 'ffd_Bid Size_lag_4',\n",
    " 'ffd_Bid Size_lag_5']\n",
    " ```"
   ]
  },
  {
   "cell_type": "code",
   "execution_count": 117,
   "metadata": {},
   "outputs": [
    {
     "data": {
      "text/plain": [
       "['ffd_Bid Size_lag_0',\n",
       " 'ffd_Bid Size_lag_1',\n",
       " 'ffd_Ask Size_lag_0',\n",
       " 'ffd_Ask Size_lag_1',\n",
       " 'ffd_Bid Size_lag_2',\n",
       " 'ffd_Ask Size_lag_2',\n",
       " 'ffd_Bid Size_lag_3',\n",
       " 'ffd_Ask Size_lag_3',\n",
       " 'ffd_Bid Size_lag_4',\n",
       " 'ffd_Bid Size_lag_5']"
      ]
     },
     "execution_count": 117,
     "metadata": {},
     "output_type": "execute_result"
    }
   ],
   "source": [
    "arr = model.coef_[2]\n",
    "\n",
    "top_feature_inds = arr.argsort()[::-1][:10]\n",
    "features = ['Bid Price', 'Ask Price', 'Bid Size', 'Ask Size', 'Bid Price_diff', 'Ask Price_diff', 'Bid Size_diff', 'Ask Size_diff', 'BidAskRatio', 'TWBidAskRatio']\n",
    "ffd_features = [f'ffd_{feature}' for feature in features]\n",
    "features = features + ffd_features\n",
    "def col_id_to_feature(ids, columns, steps):\n",
    "    base_cols = [columns[id % len(columns)] for id in ids]\n",
    "    lags = [id//len(columns) for id in ids]\n",
    "    col_names = ['{}_lag_{}'.format(base_cols[i], lags[i]) for i in range(len(ids))]\n",
    "    return col_names\n",
    "col_id_to_feature(top_feature_inds,columns = features,steps=10)"
   ]
  },
  {
   "cell_type": "code",
   "execution_count": 66,
   "metadata": {},
   "outputs": [
    {
     "name": "stderr",
     "output_type": "stream",
     "text": [
      "[Parallel(n_jobs=-1)]: Using backend ThreadingBackend with 4 concurrent workers.\n"
     ]
    },
    {
     "name": "stdout",
     "output_type": "stream",
     "text": [
      "building tree 1 of 40building tree 2 of 40building tree 3 of 40\n",
      "\n",
      "building tree 4 of 40\n",
      "\n",
      "building tree 5 of 40\n",
      "building tree 6 of 40\n",
      "building tree 7 of 40\n",
      "building tree 8 of 40\n",
      "building tree 9 of 40\n",
      "building tree 10 of 40\n",
      "building tree 11 of 40\n",
      "building tree 12 of 40\n",
      "building tree 13 of 40\n",
      "building tree 14 of 40\n",
      "building tree 15 of 40\n",
      "building tree 16 of 40\n",
      "building tree 17 of 40\n",
      "building tree 18 of 40\n",
      "building tree 19 of 40\n",
      "building tree 20 of 40\n",
      "building tree 21 of 40\n",
      "building tree 22 of 40\n",
      "building tree 23 of 40\n",
      "building tree 24 of 40\n",
      "building tree 25 of 40\n",
      "building tree 26 of 40\n",
      "building tree 27 of 40\n",
      "building tree 28 of 40\n",
      "building tree 29 of 40\n",
      "building tree 30 of 40\n",
      "building tree 31 of 40\n",
      "building tree 32 of 40\n",
      "building tree 33 of 40\n",
      "building tree 34 of 40\n",
      "building tree 35 of 40\n",
      "building tree 36 of 40\n"
     ]
    },
    {
     "name": "stderr",
     "output_type": "stream",
     "text": [
      "[Parallel(n_jobs=-1)]: Done  33 tasks      | elapsed: 12.5min\n"
     ]
    },
    {
     "name": "stdout",
     "output_type": "stream",
     "text": [
      "building tree 37 of 40\n",
      "building tree 38 of 40\n",
      "building tree 39 of 40\n",
      "building tree 40 of 40\n"
     ]
    },
    {
     "name": "stderr",
     "output_type": "stream",
     "text": [
      "[Parallel(n_jobs=-1)]: Done  40 out of  40 | elapsed: 14.0min finished\n",
      "[Parallel(n_jobs=4)]: Using backend ThreadingBackend with 4 concurrent workers.\n",
      "[Parallel(n_jobs=4)]: Done  33 tasks      | elapsed:    1.1s\n",
      "[Parallel(n_jobs=4)]: Done  40 out of  40 | elapsed:    1.3s finished\n"
     ]
    },
    {
     "name": "stdout",
     "output_type": "stream",
     "text": [
      "RFC gain precision: 0.42\n",
      "              precision    recall  f1-score   support\n",
      "\n",
      "        loss       0.31      0.60      0.41     69404\n",
      "      no hit       0.45      0.18      0.26     72715\n",
      "        gain       0.42      0.29      0.34     64614\n",
      "\n",
      "    accuracy                           0.36    206733\n",
      "   macro avg       0.40      0.36      0.34    206733\n",
      "weighted avg       0.40      0.36      0.34    206733\n",
      "\n"
     ]
    }
   ],
   "source": [
    "name, model = 'RFC',RandomForestClassifier(n_estimators=40, verbose = 2, n_jobs=-1)\n",
    "model.fit(X_train_2d, y_train_2d)\n",
    "y_pred_flat = model.predict(X_test_2d)\n",
    "cm = confusion_matrix(y_test_2d, y_pred_flat)\n",
    "\n",
    "print(\"{} gain precision: {:.2f}\".format(name, cm[2,2]/sum(cm[:,2])))\n",
    "print(classification_report(y_test_2d, y_pred_flat, target_names=['loss','no hit','gain']))"
   ]
  },
  {
   "cell_type": "markdown",
   "metadata": {},
   "source": [
    "base lgbm results:\n",
    "           precision    recall  f1-score   support\n",
    "\n",
    "        loss       0.42      0.60      0.49     52110\n",
    "      no hit       0.72      0.01      0.01     21360\n",
    "        gain       0.41      0.40      0.41     51010\n",
    "\n",
    "    accuracy                           0.42    124480\n",
    "   macro avg       0.52      0.33      0.30    124480\n",
    "weighted avg       0.47      0.42      0.37    124480"
   ]
  },
  {
   "cell_type": "code",
   "execution_count": null,
   "metadata": {},
   "outputs": [],
   "source": [
    "name, model = 'Tree',DecisionTreeClassifier()\n",
    "model.fit(X_train_2d, y_train_2d)\n",
    "y_pred_flat = model.predict(X_test_2d)\n",
    "cm = confusion_matrix(y_test_2d, y_pred_flat)\n",
    "\n",
    "print(\"{} gain precision: {:.2f}\".format(name, cm[2,2]/sum(cm[:,2])))\n",
    "print(classification_report(y_test_2d, y_pred_flat, target_names=['loss','no hit','gain']))"
   ]
  },
  {
   "cell_type": "code",
   "execution_count": 17,
   "metadata": {},
   "outputs": [],
   "source": [
    "def create_model(n_timesteps, n_features, n_outputs):\n",
    "    model = Sequential()\n",
    "    model.add(LSTM(100, input_shape=(n_timesteps,n_features)))\n",
    "    model.add(Dropout(0.5))\n",
    "    model.add(Dense(100, activation='relu'))\n",
    "    model.add(Dense(n_outputs, activation='softmax'))\n",
    "    model.compile(loss='categorical_crossentropy', optimizer='adam', metrics=['accuracy'])\n",
    "    return model"
   ]
  },
  {
   "cell_type": "code",
   "execution_count": 135,
   "metadata": {},
   "outputs": [
    {
     "name": "stdout",
     "output_type": "stream",
     "text": [
      "Epoch 1/15\n",
      "15568/15568 [==============================] - 3628s 232ms/step - loss: 0.9948 - accuracy: 0.4277 - val_loss: 0.8799 - val_accuracy: 0.4697\n",
      "Epoch 2/15\n",
      "15568/15568 [==============================] - 3425s 220ms/step - loss: 0.9729 - accuracy: 0.4395 - val_loss: 0.8504 - val_accuracy: 0.4852\n",
      "Epoch 3/15\n",
      "15568/15568 [==============================] - 4597s 295ms/step - loss: 0.9564 - accuracy: 0.4516 - val_loss: 0.8783 - val_accuracy: 0.4833\n",
      "Epoch 4/15\n",
      "15568/15568 [==============================] - 1810s 116ms/step - loss: 0.9500 - accuracy: 0.4536 - val_loss: 0.8563 - val_accuracy: 0.4771\n",
      "Epoch 5/15\n",
      "15568/15568 [==============================] - 1838s 118ms/step - loss: 0.9502 - accuracy: 0.4513 - val_loss: 0.8436 - val_accuracy: 0.4820\n",
      "Epoch 6/15\n",
      "15568/15568 [==============================] - 12752s 819ms/step - loss: 0.9452 - accuracy: 0.4559 - val_loss: 0.8713 - val_accuracy: 0.4712\n",
      "Epoch 7/15\n",
      "15568/15568 [==============================] - 19089s 1s/step - loss: 0.9438 - accuracy: 0.4565 - val_loss: 0.8597 - val_accuracy: 0.4684\n",
      "Epoch 8/15\n",
      " 9306/15568 [================>.............] - ETA: 11:49 - loss: 0.9427 - accuracy: 0.4532"
     ]
    },
    {
     "ename": "KeyboardInterrupt",
     "evalue": "",
     "output_type": "error",
     "traceback": [
      "\u001b[1;31m---------------------------------------------------------------------------\u001b[0m",
      "\u001b[1;31mKeyboardInterrupt\u001b[0m                         Traceback (most recent call last)",
      "\u001b[1;32m<ipython-input-135-7f4f17f6dd88>\u001b[0m in \u001b[0;36m<module>\u001b[1;34m\u001b[0m\n\u001b[0;32m      1\u001b[0m \u001b[0mverbose\u001b[0m\u001b[1;33m,\u001b[0m \u001b[0mepochs\u001b[0m\u001b[1;33m,\u001b[0m \u001b[0mbatch_size\u001b[0m \u001b[1;33m=\u001b[0m \u001b[1;36m1\u001b[0m\u001b[1;33m,\u001b[0m \u001b[1;36m15\u001b[0m\u001b[1;33m,\u001b[0m \u001b[1;36m64\u001b[0m\u001b[1;33m\u001b[0m\u001b[1;33m\u001b[0m\u001b[0m\n\u001b[0;32m      2\u001b[0m \u001b[0mmodel\u001b[0m \u001b[1;33m=\u001b[0m \u001b[0mcreate_model\u001b[0m\u001b[1;33m(\u001b[0m\u001b[0mTIME_STEPS\u001b[0m\u001b[1;33m,\u001b[0m \u001b[0mX_train\u001b[0m\u001b[1;33m.\u001b[0m\u001b[0mshape\u001b[0m\u001b[1;33m[\u001b[0m\u001b[1;36m2\u001b[0m\u001b[1;33m]\u001b[0m\u001b[1;33m,\u001b[0m\u001b[0my_train\u001b[0m\u001b[1;33m.\u001b[0m\u001b[0mshape\u001b[0m\u001b[1;33m[\u001b[0m\u001b[1;36m1\u001b[0m\u001b[1;33m]\u001b[0m\u001b[1;33m)\u001b[0m\u001b[1;33m\u001b[0m\u001b[1;33m\u001b[0m\u001b[0m\n\u001b[1;32m----> 3\u001b[1;33m \u001b[0mmodel\u001b[0m\u001b[1;33m.\u001b[0m\u001b[0mfit\u001b[0m\u001b[1;33m(\u001b[0m\u001b[0mX_train\u001b[0m\u001b[1;33m,\u001b[0m \u001b[0my_train\u001b[0m\u001b[1;33m,\u001b[0m \u001b[0mvalidation_data\u001b[0m \u001b[1;33m=\u001b[0m \u001b[1;33m(\u001b[0m\u001b[0mX_val\u001b[0m\u001b[1;33m,\u001b[0m \u001b[0my_val\u001b[0m\u001b[1;33m)\u001b[0m\u001b[1;33m,\u001b[0m \u001b[0mepochs\u001b[0m\u001b[1;33m=\u001b[0m\u001b[0mepochs\u001b[0m\u001b[1;33m,\u001b[0m \u001b[0mbatch_size\u001b[0m\u001b[1;33m=\u001b[0m\u001b[0mbatch_size\u001b[0m\u001b[1;33m,\u001b[0m \u001b[0mverbose\u001b[0m\u001b[1;33m=\u001b[0m\u001b[0mverbose\u001b[0m\u001b[1;33m)\u001b[0m\u001b[1;33m\u001b[0m\u001b[1;33m\u001b[0m\u001b[0m\n\u001b[0m",
      "\u001b[1;32m~\\.conda\\envs\\mlops\\lib\\site-packages\\tensorflow\\python\\keras\\engine\\training.py\u001b[0m in \u001b[0;36mfit\u001b[1;34m(self, x, y, batch_size, epochs, verbose, callbacks, validation_split, validation_data, shuffle, class_weight, sample_weight, initial_epoch, steps_per_epoch, validation_steps, validation_batch_size, validation_freq, max_queue_size, workers, use_multiprocessing)\u001b[0m\n\u001b[0;32m   1098\u001b[0m                 _r=1):\n\u001b[0;32m   1099\u001b[0m               \u001b[0mcallbacks\u001b[0m\u001b[1;33m.\u001b[0m\u001b[0mon_train_batch_begin\u001b[0m\u001b[1;33m(\u001b[0m\u001b[0mstep\u001b[0m\u001b[1;33m)\u001b[0m\u001b[1;33m\u001b[0m\u001b[1;33m\u001b[0m\u001b[0m\n\u001b[1;32m-> 1100\u001b[1;33m               \u001b[0mtmp_logs\u001b[0m \u001b[1;33m=\u001b[0m \u001b[0mself\u001b[0m\u001b[1;33m.\u001b[0m\u001b[0mtrain_function\u001b[0m\u001b[1;33m(\u001b[0m\u001b[0miterator\u001b[0m\u001b[1;33m)\u001b[0m\u001b[1;33m\u001b[0m\u001b[1;33m\u001b[0m\u001b[0m\n\u001b[0m\u001b[0;32m   1101\u001b[0m               \u001b[1;32mif\u001b[0m \u001b[0mdata_handler\u001b[0m\u001b[1;33m.\u001b[0m\u001b[0mshould_sync\u001b[0m\u001b[1;33m:\u001b[0m\u001b[1;33m\u001b[0m\u001b[1;33m\u001b[0m\u001b[0m\n\u001b[0;32m   1102\u001b[0m                 \u001b[0mcontext\u001b[0m\u001b[1;33m.\u001b[0m\u001b[0masync_wait\u001b[0m\u001b[1;33m(\u001b[0m\u001b[1;33m)\u001b[0m\u001b[1;33m\u001b[0m\u001b[1;33m\u001b[0m\u001b[0m\n",
      "\u001b[1;32m~\\.conda\\envs\\mlops\\lib\\site-packages\\tensorflow\\python\\eager\\def_function.py\u001b[0m in \u001b[0;36m__call__\u001b[1;34m(self, *args, **kwds)\u001b[0m\n\u001b[0;32m    826\u001b[0m     \u001b[0mtracing_count\u001b[0m \u001b[1;33m=\u001b[0m \u001b[0mself\u001b[0m\u001b[1;33m.\u001b[0m\u001b[0mexperimental_get_tracing_count\u001b[0m\u001b[1;33m(\u001b[0m\u001b[1;33m)\u001b[0m\u001b[1;33m\u001b[0m\u001b[1;33m\u001b[0m\u001b[0m\n\u001b[0;32m    827\u001b[0m     \u001b[1;32mwith\u001b[0m \u001b[0mtrace\u001b[0m\u001b[1;33m.\u001b[0m\u001b[0mTrace\u001b[0m\u001b[1;33m(\u001b[0m\u001b[0mself\u001b[0m\u001b[1;33m.\u001b[0m\u001b[0m_name\u001b[0m\u001b[1;33m)\u001b[0m \u001b[1;32mas\u001b[0m \u001b[0mtm\u001b[0m\u001b[1;33m:\u001b[0m\u001b[1;33m\u001b[0m\u001b[1;33m\u001b[0m\u001b[0m\n\u001b[1;32m--> 828\u001b[1;33m       \u001b[0mresult\u001b[0m \u001b[1;33m=\u001b[0m \u001b[0mself\u001b[0m\u001b[1;33m.\u001b[0m\u001b[0m_call\u001b[0m\u001b[1;33m(\u001b[0m\u001b[1;33m*\u001b[0m\u001b[0margs\u001b[0m\u001b[1;33m,\u001b[0m \u001b[1;33m**\u001b[0m\u001b[0mkwds\u001b[0m\u001b[1;33m)\u001b[0m\u001b[1;33m\u001b[0m\u001b[1;33m\u001b[0m\u001b[0m\n\u001b[0m\u001b[0;32m    829\u001b[0m       \u001b[0mcompiler\u001b[0m \u001b[1;33m=\u001b[0m \u001b[1;34m\"xla\"\u001b[0m \u001b[1;32mif\u001b[0m \u001b[0mself\u001b[0m\u001b[1;33m.\u001b[0m\u001b[0m_experimental_compile\u001b[0m \u001b[1;32melse\u001b[0m \u001b[1;34m\"nonXla\"\u001b[0m\u001b[1;33m\u001b[0m\u001b[1;33m\u001b[0m\u001b[0m\n\u001b[0;32m    830\u001b[0m       \u001b[0mnew_tracing_count\u001b[0m \u001b[1;33m=\u001b[0m \u001b[0mself\u001b[0m\u001b[1;33m.\u001b[0m\u001b[0mexperimental_get_tracing_count\u001b[0m\u001b[1;33m(\u001b[0m\u001b[1;33m)\u001b[0m\u001b[1;33m\u001b[0m\u001b[1;33m\u001b[0m\u001b[0m\n",
      "\u001b[1;32m~\\.conda\\envs\\mlops\\lib\\site-packages\\tensorflow\\python\\eager\\def_function.py\u001b[0m in \u001b[0;36m_call\u001b[1;34m(self, *args, **kwds)\u001b[0m\n\u001b[0;32m    853\u001b[0m       \u001b[1;31m# In this case we have created variables on the first call, so we run the\u001b[0m\u001b[1;33m\u001b[0m\u001b[1;33m\u001b[0m\u001b[1;33m\u001b[0m\u001b[0m\n\u001b[0;32m    854\u001b[0m       \u001b[1;31m# defunned version which is guaranteed to never create variables.\u001b[0m\u001b[1;33m\u001b[0m\u001b[1;33m\u001b[0m\u001b[1;33m\u001b[0m\u001b[0m\n\u001b[1;32m--> 855\u001b[1;33m       \u001b[1;32mreturn\u001b[0m \u001b[0mself\u001b[0m\u001b[1;33m.\u001b[0m\u001b[0m_stateless_fn\u001b[0m\u001b[1;33m(\u001b[0m\u001b[1;33m*\u001b[0m\u001b[0margs\u001b[0m\u001b[1;33m,\u001b[0m \u001b[1;33m**\u001b[0m\u001b[0mkwds\u001b[0m\u001b[1;33m)\u001b[0m  \u001b[1;31m# pylint: disable=not-callable\u001b[0m\u001b[1;33m\u001b[0m\u001b[1;33m\u001b[0m\u001b[0m\n\u001b[0m\u001b[0;32m    856\u001b[0m     \u001b[1;32melif\u001b[0m \u001b[0mself\u001b[0m\u001b[1;33m.\u001b[0m\u001b[0m_stateful_fn\u001b[0m \u001b[1;32mis\u001b[0m \u001b[1;32mnot\u001b[0m \u001b[1;32mNone\u001b[0m\u001b[1;33m:\u001b[0m\u001b[1;33m\u001b[0m\u001b[1;33m\u001b[0m\u001b[0m\n\u001b[0;32m    857\u001b[0m       \u001b[1;31m# Release the lock early so that multiple threads can perform the call\u001b[0m\u001b[1;33m\u001b[0m\u001b[1;33m\u001b[0m\u001b[1;33m\u001b[0m\u001b[0m\n",
      "\u001b[1;32m~\\.conda\\envs\\mlops\\lib\\site-packages\\tensorflow\\python\\eager\\function.py\u001b[0m in \u001b[0;36m__call__\u001b[1;34m(self, *args, **kwargs)\u001b[0m\n\u001b[0;32m   2941\u001b[0m        filtered_flat_args) = self._maybe_define_function(args, kwargs)\n\u001b[0;32m   2942\u001b[0m     return graph_function._call_flat(\n\u001b[1;32m-> 2943\u001b[1;33m         filtered_flat_args, captured_inputs=graph_function.captured_inputs)  # pylint: disable=protected-access\n\u001b[0m\u001b[0;32m   2944\u001b[0m \u001b[1;33m\u001b[0m\u001b[0m\n\u001b[0;32m   2945\u001b[0m   \u001b[1;33m@\u001b[0m\u001b[0mproperty\u001b[0m\u001b[1;33m\u001b[0m\u001b[1;33m\u001b[0m\u001b[0m\n",
      "\u001b[1;32m~\\.conda\\envs\\mlops\\lib\\site-packages\\tensorflow\\python\\eager\\function.py\u001b[0m in \u001b[0;36m_call_flat\u001b[1;34m(self, args, captured_inputs, cancellation_manager)\u001b[0m\n\u001b[0;32m   1917\u001b[0m       \u001b[1;31m# No tape is watching; skip to running the function.\u001b[0m\u001b[1;33m\u001b[0m\u001b[1;33m\u001b[0m\u001b[1;33m\u001b[0m\u001b[0m\n\u001b[0;32m   1918\u001b[0m       return self._build_call_outputs(self._inference_function.call(\n\u001b[1;32m-> 1919\u001b[1;33m           ctx, args, cancellation_manager=cancellation_manager))\n\u001b[0m\u001b[0;32m   1920\u001b[0m     forward_backward = self._select_forward_and_backward_functions(\n\u001b[0;32m   1921\u001b[0m         \u001b[0margs\u001b[0m\u001b[1;33m,\u001b[0m\u001b[1;33m\u001b[0m\u001b[1;33m\u001b[0m\u001b[0m\n",
      "\u001b[1;32m~\\.conda\\envs\\mlops\\lib\\site-packages\\tensorflow\\python\\eager\\function.py\u001b[0m in \u001b[0;36mcall\u001b[1;34m(self, ctx, args, cancellation_manager)\u001b[0m\n\u001b[0;32m    558\u001b[0m               \u001b[0minputs\u001b[0m\u001b[1;33m=\u001b[0m\u001b[0margs\u001b[0m\u001b[1;33m,\u001b[0m\u001b[1;33m\u001b[0m\u001b[1;33m\u001b[0m\u001b[0m\n\u001b[0;32m    559\u001b[0m               \u001b[0mattrs\u001b[0m\u001b[1;33m=\u001b[0m\u001b[0mattrs\u001b[0m\u001b[1;33m,\u001b[0m\u001b[1;33m\u001b[0m\u001b[1;33m\u001b[0m\u001b[0m\n\u001b[1;32m--> 560\u001b[1;33m               ctx=ctx)\n\u001b[0m\u001b[0;32m    561\u001b[0m         \u001b[1;32melse\u001b[0m\u001b[1;33m:\u001b[0m\u001b[1;33m\u001b[0m\u001b[1;33m\u001b[0m\u001b[0m\n\u001b[0;32m    562\u001b[0m           outputs = execute.execute_with_cancellation(\n",
      "\u001b[1;32m~\\.conda\\envs\\mlops\\lib\\site-packages\\tensorflow\\python\\eager\\execute.py\u001b[0m in \u001b[0;36mquick_execute\u001b[1;34m(op_name, num_outputs, inputs, attrs, ctx, name)\u001b[0m\n\u001b[0;32m     58\u001b[0m     \u001b[0mctx\u001b[0m\u001b[1;33m.\u001b[0m\u001b[0mensure_initialized\u001b[0m\u001b[1;33m(\u001b[0m\u001b[1;33m)\u001b[0m\u001b[1;33m\u001b[0m\u001b[1;33m\u001b[0m\u001b[0m\n\u001b[0;32m     59\u001b[0m     tensors = pywrap_tfe.TFE_Py_Execute(ctx._handle, device_name, op_name,\n\u001b[1;32m---> 60\u001b[1;33m                                         inputs, attrs, num_outputs)\n\u001b[0m\u001b[0;32m     61\u001b[0m   \u001b[1;32mexcept\u001b[0m \u001b[0mcore\u001b[0m\u001b[1;33m.\u001b[0m\u001b[0m_NotOkStatusException\u001b[0m \u001b[1;32mas\u001b[0m \u001b[0me\u001b[0m\u001b[1;33m:\u001b[0m\u001b[1;33m\u001b[0m\u001b[1;33m\u001b[0m\u001b[0m\n\u001b[0;32m     62\u001b[0m     \u001b[1;32mif\u001b[0m \u001b[0mname\u001b[0m \u001b[1;32mis\u001b[0m \u001b[1;32mnot\u001b[0m \u001b[1;32mNone\u001b[0m\u001b[1;33m:\u001b[0m\u001b[1;33m\u001b[0m\u001b[1;33m\u001b[0m\u001b[0m\n",
      "\u001b[1;31mKeyboardInterrupt\u001b[0m: "
     ]
    }
   ],
   "source": [
    "verbose, epochs, batch_size = 1, 15, 64\n",
    "model = create_model(TIME_STEPS, X_train.shape[2],y_train.shape[1])\n",
    "model.fit(X_train, y_train, validation_data = (X_val, y_val), epochs=epochs, batch_size=batch_size, verbose=verbose)"
   ]
  },
  {
   "cell_type": "code",
   "execution_count": 28,
   "metadata": {},
   "outputs": [
    {
     "name": "stdout",
     "output_type": "stream",
     "text": [
      "Building model...\n",
      "WARNING:tensorflow:`period` argument is deprecated. Please use `save_freq` to specify the frequency in number of batches seen.\n",
      "Epoch 1/10\n",
      "500/500 - 31s - loss: 1.1005 - accuracy: 0.3485 - val_loss: 1.0539 - val_accuracy: 0.4810\n",
      "\n",
      "Epoch 00001: val_loss improved from inf to 1.05393, saving model to ../data/models_mp_10000_0.0005\\best_model.h5\n",
      "Epoch 2/10\n",
      "500/500 - 27s - loss: 1.1054 - accuracy: 0.3565 - val_loss: 1.0592 - val_accuracy: 0.4810\n",
      "\n",
      "Epoch 00002: val_loss did not improve from 1.05393\n",
      "Epoch 3/10\n",
      "500/500 - 27s - loss: 1.0973 - accuracy: 0.3695 - val_loss: 1.0678 - val_accuracy: 0.4810\n",
      "\n",
      "Epoch 00003: val_loss did not improve from 1.05393\n",
      "Epoch 4/10\n",
      "500/500 - 33s - loss: 1.0973 - accuracy: 0.3713 - val_loss: 1.0742 - val_accuracy: 0.4810\n",
      "\n",
      "Epoch 00004: val_loss did not improve from 1.05393\n",
      "Epoch 5/10\n",
      "500/500 - 27s - loss: 1.0978 - accuracy: 0.3720 - val_loss: 1.0729 - val_accuracy: 0.4810\n",
      "\n",
      "Epoch 00005: val_loss did not improve from 1.05393\n",
      "Epoch 6/10\n",
      "500/500 - 27s - loss: 1.0983 - accuracy: 0.3682 - val_loss: 1.0796 - val_accuracy: 0.4810\n",
      "\n",
      "Epoch 00006: val_loss did not improve from 1.05393\n",
      "Epoch 7/10\n",
      "500/500 - 30s - loss: 1.0972 - accuracy: 0.3686 - val_loss: 1.0781 - val_accuracy: 0.4810\n",
      "\n",
      "Epoch 00007: val_loss did not improve from 1.05393\n",
      "Epoch 8/10\n",
      "500/500 - 28s - loss: 1.0970 - accuracy: 0.3680 - val_loss: 1.0779 - val_accuracy: 0.4810\n",
      "\n",
      "Epoch 00008: val_loss did not improve from 1.05393\n",
      "Epoch 9/10\n",
      "500/500 - 27s - loss: 1.0971 - accuracy: 0.3706 - val_loss: 1.0727 - val_accuracy: 0.4810\n",
      "\n",
      "Epoch 00009: val_loss did not improve from 1.05393\n",
      "Epoch 10/10\n",
      "500/500 - 29s - loss: 1.0974 - accuracy: 0.3695 - val_loss: 1.0730 - val_accuracy: 0.4810\n",
      "\n",
      "Epoch 00010: val_loss did not improve from 1.05393\n"
     ]
    }
   ],
   "source": [
    "model = None\n",
    "is_update_model = True\n",
    "if model is None or is_update_model:\n",
    "    from keras import backend as K\n",
    "    from keras import backend as K\n",
    "    K.tensorflow_backend._get_available_gpus()\n",
    "    print(\"Building model...\")\n",
    "    #     print(\"checking if GPU available\", K.tensorflow_backend._get_available_gpus())\n",
    "    model = create_model(TIME_STEPS, X_train.shape[2], y_train.shape[1])\n",
    "\n",
    "    es = EarlyStopping(\n",
    "        monitor=\"val_loss\", mode=\"min\", verbose=1, patience=40, min_delta=0.0001\n",
    "    )\n",
    "\n",
    "    mcp = ModelCheckpoint(\n",
    "        os.path.join(OUTPUT_PATH, \"best_model.h5\"),\n",
    "        monitor=\"val_loss\",\n",
    "        verbose=1,\n",
    "        save_best_only=True,\n",
    "        save_weights_only=False,\n",
    "        mode=\"min\",\n",
    "        period=1,\n",
    "    )\n",
    "\n",
    "    # Not used here. But leaving it here as a reminder for future\n",
    "    r_lr_plat = ReduceLROnPlateau(\n",
    "        monitor=\"val_loss\",\n",
    "        factor=0.1,\n",
    "        patience=30,\n",
    "        verbose=0,\n",
    "        mode=\"auto\",\n",
    "        min_delta=0.0001,\n",
    "        cooldown=0,\n",
    "        min_lr=0,\n",
    "    )\n",
    "\n",
    "    csv_logger = CSVLogger(\n",
    "        os.path.join(\n",
    "            OUTPUT_PATH,\n",
    "            \"training_log_\" + time.ctime().replace(\" \", \"_\").replace(\":\", \"_\") + \".log\",\n",
    "        ),\n",
    "        append=True,\n",
    "    )\n",
    "\n",
    "    history = model.fit(\n",
    "        X_train,\n",
    "        y_train,\n",
    "        epochs=params[\"epochs\"],\n",
    "        verbose=2,\n",
    "        batch_size=BATCH_SIZE,\n",
    "        shuffle=False,\n",
    "        validation_data=(\n",
    "            trim_dataset(X_val, BATCH_SIZE),\n",
    "            trim_dataset(y_val, BATCH_SIZE),\n",
    "        ),\n",
    "        callbacks=[es, mcp, csv_logger],\n",
    "        use_multiprocessing=False,\n",
    "    )\n",
    "\n",
    "#     print(\"saving model...\")\n",
    "#     pickle.dump(model, open(\"lstm_model\", \"wb\"))"
   ]
  },
  {
   "cell_type": "code",
   "execution_count": 2,
   "metadata": {},
   "outputs": [
    {
     "ename": "NameError",
     "evalue": "name 'X_train' is not defined",
     "output_type": "error",
     "traceback": [
      "\u001b[1;31m---------------------------------------------------------------------------\u001b[0m",
      "\u001b[1;31mNameError\u001b[0m                                 Traceback (most recent call last)",
      "\u001b[1;32m<ipython-input-2-8d68a9a0b92a>\u001b[0m in \u001b[0;36m<module>\u001b[1;34m\u001b[0m\n\u001b[0;32m      1\u001b[0m print(\n\u001b[0;32m      2\u001b[0m     \"shapes of x_train {}, y_train, {}, x_test {}, y_test {}\".format(\n\u001b[1;32m----> 3\u001b[1;33m         \u001b[0mX_train\u001b[0m\u001b[1;33m.\u001b[0m\u001b[0mshape\u001b[0m\u001b[1;33m,\u001b[0m \u001b[0my_train\u001b[0m\u001b[1;33m.\u001b[0m\u001b[0mshape\u001b[0m\u001b[1;33m,\u001b[0m \u001b[0mX_test\u001b[0m\u001b[1;33m.\u001b[0m\u001b[0mshape\u001b[0m\u001b[1;33m,\u001b[0m \u001b[0my_test\u001b[0m\u001b[1;33m.\u001b[0m\u001b[0mshape\u001b[0m\u001b[1;33m\u001b[0m\u001b[1;33m\u001b[0m\u001b[0m\n\u001b[0m\u001b[0;32m      4\u001b[0m     )\n\u001b[0;32m      5\u001b[0m )\n",
      "\u001b[1;31mNameError\u001b[0m: name 'X_train' is not defined"
     ]
    }
   ],
   "source": [
    "print(\n",
    "    \"shapes of x_train {}, y_train, {}, x_test {}, y_test {}\".format(\n",
    "        X_train.shape, y_train.shape, X_test.shape, y_test.shape\n",
    "    )\n",
    ")"
   ]
  },
  {
   "cell_type": "code",
   "execution_count": 38,
   "metadata": {},
   "outputs": [],
   "source": [
    "import keras\n",
    "model = keras.models.load_model(\"../data/models_mp_10000_0.0005/model_1000_0.0005_full_data_basic_cols\")"
   ]
  },
  {
   "cell_type": "code",
   "execution_count": 39,
   "metadata": {},
   "outputs": [],
   "source": [
    "from sklearn.metrics import confusion_matrix\n",
    "# model.evaluate(x_test_t, y_test_t, batch_size=BATCH_SIZE\n",
    "y_pred = model.predict(X_test, batch_size=BATCH_SIZE)\n",
    "# y_pred = y_pred.flatten()\n",
    "# error = mean_squared_error(y_test, y_pred)\n",
    "# print(\"Error is\", error, y_pred.shape, y_test.shape)\n",
    "\n"
   ]
  },
  {
   "cell_type": "code",
   "execution_count": 56,
   "metadata": {},
   "outputs": [],
   "source": [
    "y_pred_flat = np.argmax(y_pred, axis=1)\n",
    "y_test_flat = np.argmax(y_test, axis=1)"
   ]
  },
  {
   "cell_type": "code",
   "execution_count": 52,
   "metadata": {},
   "outputs": [
    {
     "data": {
      "text/plain": [
       "array([2, 1], dtype=int64)"
      ]
     },
     "execution_count": 52,
     "metadata": {},
     "output_type": "execute_result"
    }
   ],
   "source": [
    "np.argmax(a, axis=1)"
   ]
  },
  {
   "cell_type": "code",
   "execution_count": 40,
   "metadata": {},
   "outputs": [],
   "source": [
    "from sklearn.metrics import accuracy_score"
   ]
  },
  {
   "cell_type": "code",
   "execution_count": 62,
   "metadata": {},
   "outputs": [
    {
     "name": "stdout",
     "output_type": "stream",
     "text": [
      "0.4179305912596401\n"
     ]
    },
    {
     "data": {
      "text/plain": [
       "array([[25870,   734, 25512],\n",
       "       [11875,  1353,  8128],\n",
       "       [25533,   674, 24801]], dtype=int64)"
      ]
     },
     "execution_count": 62,
     "metadata": {},
     "output_type": "execute_result"
    }
   ],
   "source": [
    "print(accuracy_score(y_test_flat, y_pred_flat))\n",
    "confusion_matrix(y_test_flat, y_pred_flat)"
   ]
  },
  {
   "cell_type": "code",
   "execution_count": 64,
   "metadata": {},
   "outputs": [
    {
     "name": "stdout",
     "output_type": "stream",
     "text": [
      "              precision    recall  f1-score   support\n",
      "\n",
      "        loss       0.41      0.50      0.45     52116\n",
      "      no hit       0.49      0.06      0.11     21356\n",
      "        gain       0.42      0.49      0.45     51008\n",
      "\n",
      "    accuracy                           0.42    124480\n",
      "   macro avg       0.44      0.35      0.34    124480\n",
      "weighted avg       0.43      0.42      0.39    124480\n",
      "\n"
     ]
    }
   ],
   "source": [
    "print(classification_report(y_test_flat, y_pred_flat, target_names=['loss','no hit','gain']))"
   ]
  },
  {
   "cell_type": "code",
   "execution_count": 59,
   "metadata": {},
   "outputs": [],
   "source": [
    "y_pred_bin = [0 if y<=1 else 1 for y in y_pred_flat]\n",
    "y_test_bin = [0 if y<=1 else 1 for y in y_test_flat]"
   ]
  },
  {
   "cell_type": "code",
   "execution_count": 60,
   "metadata": {},
   "outputs": [
    {
     "name": "stdout",
     "output_type": "stream",
     "text": [
      "0.519223971722365\n"
     ]
    },
    {
     "data": {
      "text/plain": [
       "array([[39832, 33640],\n",
       "       [26207, 24801]], dtype=int64)"
      ]
     },
     "execution_count": 60,
     "metadata": {},
     "output_type": "execute_result"
    }
   ],
   "source": [
    "print(accuracy_score(y_test_bin, y_pred_bin))\n",
    "confusion_matrix(y_test_bin, y_pred_bin)"
   ]
  },
  {
   "cell_type": "code",
   "execution_count": 61,
   "metadata": {},
   "outputs": [
    {
     "name": "stdout",
     "output_type": "stream",
     "text": [
      "              precision    recall  f1-score   support\n",
      "\n",
      "        hold       0.60      0.54      0.57     73472\n",
      "         buy       0.42      0.49      0.45     51008\n",
      "\n",
      "    accuracy                           0.52    124480\n",
      "   macro avg       0.51      0.51      0.51    124480\n",
      "weighted avg       0.53      0.52      0.52    124480\n",
      "\n"
     ]
    }
   ],
   "source": [
    "\n",
    "print(classification_report(y_test_bin, y_pred_bin, target_names=['hold','buy']))"
   ]
  },
  {
   "cell_type": "code",
   "execution_count": null,
   "metadata": {},
   "outputs": [],
   "source": [
    "y_test_bin = [0 if y<=1 else 1 for y in y_test]\n",
    "y_pred_bin = [0 if y<=1 else 1 for y in y_pred]"
   ]
  },
  {
   "cell_type": "code",
   "execution_count": 36,
   "metadata": {},
   "outputs": [
    {
     "name": "stdout",
     "output_type": "stream",
     "text": [
      "<tensorflow.python.keras.engine.sequential.Sequential object at 0x000001D29C72F648>\n",
      "Error is 0.0013806269146593734 (1360,) (1360,)\n",
      "[0.39414594 0.39405537 0.39396402 0.39367312 0.39347526 0.39326194\n",
      " 0.3930657  0.39281115 0.39259958 0.39241716 0.39240378 0.3929605\n",
      " 0.39265734 0.39223102 0.39182454]\n",
      "[0.32378063 0.32499919 0.32800358 0.32905407 0.32905407 0.33031465\n",
      " 0.32943225 0.33205846 0.32659593 0.32747834 0.31770881 0.31092267\n",
      " 0.31258244 0.32378063 0.32592362]\n",
      "[19.219177 19.214867 19.210518 19.196672 19.187256 19.177101 19.16776\n",
      " 19.155645 19.145575 19.136892 19.136255 19.162754 19.148325 19.128033\n",
      " 19.108686]\n",
      "[15.87  15.928 16.071 16.121 16.121 16.181 16.139 16.264 16.004 16.046\n",
      " 15.581 15.258 15.337 15.87  15.972]\n"
     ]
    },
    {
     "data": {
      "image/png": "[encoded data removed]",
      "text/plain": [
       "<Figure size 432x288 with 1 Axes>"
      ]
     },
     "metadata": {
      "needs_background": "light"
     },
     "output_type": "display_data"
    },
    {
     "data": {
      "image/png": "[encoded data removed]",
      "text/plain": [
       "<Figure size 432x288 with 1 Axes>"
      ]
     },
     "metadata": {
      "needs_background": "light"
     },
     "output_type": "display_data"
    }
   ],
   "source": [
    "# Visualize the training data\n",
    "from matplotlib import pyplot as plt\n",
    "plt.figure()\n",
    "plt.plot(history.history['loss'])\n",
    "plt.plot(history.history['val_loss'])\n",
    "plt.title('Model loss')\n",
    "plt.ylabel('Loss')\n",
    "plt.xlabel('Epoch')\n",
    "plt.legend(['Train', 'Test'], loc='upper left')\n",
    "#plt.show()\n",
    "plt.savefig(os.path.join(OUTPUT_PATH, 'train_vis_BS_'+str(BATCH_SIZE)+\"_\"+time.ctime().replace(\":\",\"_\")+'.png'))\n",
    "\n",
    "# load the saved best model from above\n",
    "saved_model = load_model(os.path.join(OUTPUT_PATH, 'best_model.h5')) # , \"lstm_best_7-3-19_12AM\",\n",
    "print(saved_model)\n",
    "\n",
    "y_pred = saved_model.predict(trim_dataset(x_test_t, BATCH_SIZE), batch_size=BATCH_SIZE)\n",
    "y_pred = y_pred.flatten()\n",
    "y_test_t = trim_dataset(y_test_t, BATCH_SIZE)\n",
    "error = mean_squared_error(y_test_t, y_pred)\n",
    "print(\"Error is\", error, y_pred.shape, y_test_t.shape)\n",
    "print(y_pred[0:15])\n",
    "print(y_test_t[0:15])\n",
    "y_pred_org = (y_pred * min_max_scaler.data_range_[3]) + min_max_scaler.data_min_[3] # min_max_scaler.inverse_transform(y_pred)\n",
    "y_test_t_org = (y_test_t * min_max_scaler.data_range_[3]) + min_max_scaler.data_min_[3] # min_max_scaler.inverse_transform(y_test_t)\n",
    "print(y_pred_org[0:15])\n",
    "print(y_test_t_org[0:15])\n",
    "\n",
    "# Visualize the prediction\n",
    "from matplotlib import pyplot as plt\n",
    "plt.figure()\n",
    "plt.plot(y_pred_org)\n",
    "plt.plot(y_test_t_org)\n",
    "plt.title('Prediction vs Real Stock Price')\n",
    "plt.ylabel('Price')\n",
    "plt.xlabel('Days')\n",
    "plt.legend(['Prediction', 'Real'], loc='upper left')\n",
    "#plt.show()\n",
    "plt.savefig(os.path.join(OUTPUT_PATH, 'pred_vs_real_BS'+str(BATCH_SIZE)+\"_\"+time.ctime().replace(\":\",\"_\")+'.png'))\n",
    "# print_time(\"program completed \", stime)\n"
   ]
  },
  {
   "cell_type": "markdown",
   "metadata": {},
   "source": [
    "![image.png](attachment:image.png)"
   ]
  },
  {
   "cell_type": "code",
   "execution_count": 34,
   "metadata": {},
   "outputs": [
    {
     "data": {
      "text/plain": [
       "251"
      ]
     },
     "execution_count": 34,
     "metadata": {},
     "output_type": "execute_result"
    }
   ],
   "source": [
    "len(df_esv_data[df_esv_data['Date']<'2018-01-01'])"
   ]
  },
  {
   "cell_type": "code",
   "execution_count": null,
   "metadata": {
    "collapsed": true
   },
   "outputs": [],
   "source": []
  }
 ],
 "metadata": {
  "kernelspec": {
   "display_name": "Python 3",
   "language": "python",
   "name": "python3"
  },
  "language_info": {
   "codemirror_mode": {
    "name": "ipython",
    "version": 3
   },
   "file_extension": ".py",
   "mimetype": "text/x-python",
   "name": "python",
   "nbconvert_exporter": "python",
   "pygments_lexer": "ipython3",
   "version": "3.6.9"
  }
 },
 "nbformat": 4,
 "nbformat_minor": 4
}
