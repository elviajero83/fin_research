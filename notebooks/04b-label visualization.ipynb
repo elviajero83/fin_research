{
 "cells": [
  {
   "cell_type": "code",
   "execution_count": 1,
   "metadata": {},
   "outputs": [],
   "source": [
    "import pandas as pd\n",
    "import numpy as np\n",
    "from datetime import datetime, timedelta\n",
    "import matplotlib.pyplot as plt"
   ]
  },
  {
   "cell_type": "code",
   "execution_count": 13,
   "metadata": {},
   "outputs": [],
   "source": [
    "path_to_labels = \"../../data/labels_mp_0.0005_1000_2017/\"\n",
    "path_to_merged = \"../../data/quotes_merged_mp/\"\n",
    "path_to_har = '../../data/HAR/RV_Erfan.csv'"
   ]
  },
  {
   "cell_type": "code",
   "execution_count": 14,
   "metadata": {},
   "outputs": [],
   "source": [
    "%matplotlib widget"
   ]
  },
  {
   "cell_type": "code",
   "execution_count": 15,
   "metadata": {},
   "outputs": [],
   "source": [
    "date = '2017-06-01'\n",
    "merged_df = pd.read_csv(\"{}/{}-mt.csv\".format(path_to_merged, date))\n",
    "merged_df.reset_index(level=0, inplace=True)\n",
    "merged_df['Date-Time'] = pd.to_datetime(merged_df['Date-Time'])\n",
    "# merged_df.head()"
   ]
  },
  {
   "cell_type": "code",
   "execution_count": 16,
   "metadata": {},
   "outputs": [],
   "source": [
    "bars_df = pd.read_csv(\"{}/bars_{}-mt.csv\".format(path_to_labels, date))\n",
    "bars_df['Date-Time'] = pd.to_datetime(bars_df['Date-Time'])"
   ]
  },
  {
   "cell_type": "code",
   "execution_count": 17,
   "metadata": {},
   "outputs": [],
   "source": [
    "start_time = '2017-06-01 9:00:01.149905303-05:00'\n",
    "end_time = '2017-06-01 11:25:35.578865996-05:00'"
   ]
  },
  {
   "cell_type": "code",
   "execution_count": 18,
   "metadata": {},
   "outputs": [
    {
     "name": "stdout",
     "output_type": "stream",
     "text": [
      "(181808, 10)\n",
      "(436, 17)\n"
     ]
    }
   ],
   "source": [
    "merged_df = merged_df[merged_df['Date-Time']>start_time]\n",
    "merged_df = merged_df[merged_df['Date-Time']<end_time]\n",
    "bars_df = bars_df[bars_df['Date-Time']>start_time]\n",
    "bars_df = bars_df[bars_df['Date-Time']<end_time]\n",
    "print(merged_df.shape)\n",
    "print(bars_df.shape)\n",
    "inds = bars_df.index.to_list()"
   ]
  },
  {
   "cell_type": "code",
   "execution_count": 19,
   "metadata": {},
   "outputs": [],
   "source": [
    "def plot_barriers(i, df, merged_df, max_ind, pt_level=0.0001, sl_level=0.0001):\n",
    "#     print(df.loc[i,'Bid Price']*np.array([1+pt_level,1-sl_level]), df.loc[i,'Date-Time'])\n",
    "#     print(df.loc[i,'Price']*np.array([1+pt_level,1-sl_level]), df.loc[i,'Date-Time'], df.loc[merged_df.loc[i,'Date-Time']])\n",
    "#     plt.hlines(df.loc[i,'Price']*np.array([1+pt_level,1-sl_level]), xmin=df.loc[i,'Date-Time'], xmax=df.loc[df.loc[i,'end_ind'],'Date-Time'], color='r', linestyles='--')\n",
    "    c=['k','b','r'][df.loc[i,'long_label']]\n",
    "#     print(df.loc[i,'label'], c)\n",
    "    end_ind=min(int(df.loc[i,'end_ind']),max_ind)\n",
    "    plt.hlines(df.loc[i,'Ask Price']*np.array([1+df.loc[i,'dailyVolatility']*pt_level,1-df.loc[i,'dailyVolatility']*sl_level]), xmin=df.loc[i,'Date-Time'], xmax=merged_df.loc[end_ind,'Date-Time'], color=c, linestyles='--')\n",
    "    plt.vlines(x = [df.loc[i,'Date-Time'], merged_df.loc[end_ind,'Date-Time']], ymin=df.loc[i,'Ask Price']*(1-df.loc[i,'dailyVolatility']*sl_level), ymax=df.loc[i,'Ask Price']*(1+df.loc[i,'dailyVolatility']*pt_level), color=c, linestyles='--')\n",
    "    plt.text(df.loc[i,'Date-Time'],df.loc[i,'Bid Price']+2,i )\n",
    "# plot_barriers(i, bars_df)"
   ]
  },
  {
   "cell_type": "code",
   "execution_count": 20,
   "metadata": {},
   "outputs": [],
   "source": [
    "# %matplotlib inline"
   ]
  },
  {
   "cell_type": "code",
   "execution_count": 21,
   "metadata": {},
   "outputs": [],
   "source": [
    "%matplotlib widget"
   ]
  },
  {
   "cell_type": "code",
   "execution_count": 22,
   "metadata": {},
   "outputs": [
    {
     "data": {
      "application/vnd.jupyter.widget-view+json": {
       "model_id": "9db17974653d41e1bf6f478f22a5e757",
       "version_major": 2,
       "version_minor": 0
      },
      "text/plain": [
       "Canvas(toolbar=Toolbar(toolitems=[('Home', 'Reset original view', 'home', 'home'), ('Back', 'Back to previous …"
      ]
     },
     "metadata": {},
     "output_type": "display_data"
    }
   ],
   "source": [
    "fig, ax = plt.subplots()\n",
    "\n",
    "# fig.canvas.toolbar_visible = True\n",
    "# fig.canvas.header_visible = False\n",
    "# fig.canvas.resizable = True\n",
    "\n",
    "merged_df.plot(x='Date-Time', y='Bid Price', style='.-', color='b', figsize=(12,6),ax=ax)\n",
    "# merged_df.plot(x='Date-Time', y='Ask Price', style='.-', color='r', figsize=(12,6), ax=ax)\n",
    "# merged_df.plot(y='Price', style='.', figsize=(16,12))\n",
    "plt.xlabel(\"Time\")\n",
    "plt.ylabel(\"Price\")\n",
    "max_ind = merged_df.index.max()\n",
    "for i in [inds[x] for x in range(0,len(inds),30)]:\n",
    "#     print(i)\n",
    "    plot_barriers(i, bars_df, merged_df,max_ind , pt_level=0.0003, sl_level=0.0003)\n",
    "plt.show();"
   ]
  },
  {
   "cell_type": "code",
   "execution_count": 23,
   "metadata": {},
   "outputs": [
    {
     "data": {
      "text/plain": [
       "original_index                                  277576\n",
       "Date-Time          2017-06-01 10:46:50.142220892-05:00\n",
       "Bid Price                                      2416.75\n",
       "Ask Price                                         2417\n",
       "Bid Size                                           596\n",
       "Ask Size                                           288\n",
       "Seq. No.                                       7440444\n",
       "Exch Time                           15:46:50.133000000\n",
       "#RIC                                              ESM7\n",
       "dailyVolatility                                0.25142\n",
       "pt_long_ind                                     278722\n",
       "sl_long_ind                                        NaN\n",
       "pt_short_ind                                       NaN\n",
       "sl_short_ind                                    278723\n",
       "end_ind                                         289383\n",
       "long_label                                           1\n",
       "short_label                                         -1\n",
       "Name: 584, dtype: object"
      ]
     },
     "execution_count": 23,
     "metadata": {},
     "output_type": "execute_result"
    }
   ],
   "source": [
    "bars_df.loc[584,:]"
   ]
  },
  {
   "cell_type": "code",
   "execution_count": null,
   "metadata": {},
   "outputs": [],
   "source": []
  }
 ],
 "metadata": {
  "kernelspec": {
   "display_name": "Python 3.6 - AzureML",
   "language": "python",
   "name": "python3-azureml"
  },
  "language_info": {
   "codemirror_mode": {
    "name": "ipython",
    "version": 3
   },
   "file_extension": ".py",
   "mimetype": "text/x-python",
   "name": "python",
   "nbconvert_exporter": "python",
   "pygments_lexer": "ipython3",
   "version": "3.6.9"
  }
 },
 "nbformat": 4,
 "nbformat_minor": 4
}
